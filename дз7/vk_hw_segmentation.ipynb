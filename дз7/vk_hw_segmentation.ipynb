{
  "nbformat": 4,
  "nbformat_minor": 0,
  "metadata": {
    "colab": {
      "provenance": []
    },
    "kernelspec": {
      "name": "python3",
      "display_name": "Python 3"
    },
    "language_info": {
      "name": "python"
    },
    "accelerator": "GPU",
    "gpuClass": "standard",
    "widgets": {
      "application/vnd.jupyter.widget-state+json": {
        "43ab001458a14877ab9f961ffe958d94": {
          "model_module": "@jupyter-widgets/controls",
          "model_name": "HBoxModel",
          "model_module_version": "1.5.0",
          "state": {
            "_dom_classes": [],
            "_model_module": "@jupyter-widgets/controls",
            "_model_module_version": "1.5.0",
            "_model_name": "HBoxModel",
            "_view_count": null,
            "_view_module": "@jupyter-widgets/controls",
            "_view_module_version": "1.5.0",
            "_view_name": "HBoxView",
            "box_style": "",
            "children": [
              "IPY_MODEL_36cc30e1d15a48d3a7109bb1460a1ec5",
              "IPY_MODEL_89ccc5ef7eb5457a910042de57226a00",
              "IPY_MODEL_7d267fac766b47ce97f3e9c6d10439d2"
            ],
            "layout": "IPY_MODEL_2593546f42be45dd9c75a3c9259d050b"
          }
        },
        "36cc30e1d15a48d3a7109bb1460a1ec5": {
          "model_module": "@jupyter-widgets/controls",
          "model_name": "HTMLModel",
          "model_module_version": "1.5.0",
          "state": {
            "_dom_classes": [],
            "_model_module": "@jupyter-widgets/controls",
            "_model_module_version": "1.5.0",
            "_model_name": "HTMLModel",
            "_view_count": null,
            "_view_module": "@jupyter-widgets/controls",
            "_view_module_version": "1.5.0",
            "_view_name": "HTMLView",
            "description": "",
            "description_tooltip": null,
            "layout": "IPY_MODEL_465e2df2fd3f4b8088675af1a20869bc",
            "placeholder": "​",
            "style": "IPY_MODEL_9a124ec0ab46495fb2d89061c545428e",
            "value": "Sanity Checking DataLoader 0: 100%"
          }
        },
        "89ccc5ef7eb5457a910042de57226a00": {
          "model_module": "@jupyter-widgets/controls",
          "model_name": "FloatProgressModel",
          "model_module_version": "1.5.0",
          "state": {
            "_dom_classes": [],
            "_model_module": "@jupyter-widgets/controls",
            "_model_module_version": "1.5.0",
            "_model_name": "FloatProgressModel",
            "_view_count": null,
            "_view_module": "@jupyter-widgets/controls",
            "_view_module_version": "1.5.0",
            "_view_name": "ProgressView",
            "bar_style": "",
            "description": "",
            "description_tooltip": null,
            "layout": "IPY_MODEL_b79a8c0f71c045acad19807993e462c2",
            "max": 2,
            "min": 0,
            "orientation": "horizontal",
            "style": "IPY_MODEL_ac97f871d51d4b6c8dcf486c779cdbe9",
            "value": 2
          }
        },
        "7d267fac766b47ce97f3e9c6d10439d2": {
          "model_module": "@jupyter-widgets/controls",
          "model_name": "HTMLModel",
          "model_module_version": "1.5.0",
          "state": {
            "_dom_classes": [],
            "_model_module": "@jupyter-widgets/controls",
            "_model_module_version": "1.5.0",
            "_model_name": "HTMLModel",
            "_view_count": null,
            "_view_module": "@jupyter-widgets/controls",
            "_view_module_version": "1.5.0",
            "_view_name": "HTMLView",
            "description": "",
            "description_tooltip": null,
            "layout": "IPY_MODEL_9e9315f2d2194d56b1b395964cc802a9",
            "placeholder": "​",
            "style": "IPY_MODEL_c93e763a76f141109bc209b94b3b60b2",
            "value": " 2/2 [00:02&lt;00:00,  1.12s/it]"
          }
        },
        "2593546f42be45dd9c75a3c9259d050b": {
          "model_module": "@jupyter-widgets/base",
          "model_name": "LayoutModel",
          "model_module_version": "1.2.0",
          "state": {
            "_model_module": "@jupyter-widgets/base",
            "_model_module_version": "1.2.0",
            "_model_name": "LayoutModel",
            "_view_count": null,
            "_view_module": "@jupyter-widgets/base",
            "_view_module_version": "1.2.0",
            "_view_name": "LayoutView",
            "align_content": null,
            "align_items": null,
            "align_self": null,
            "border": null,
            "bottom": null,
            "display": "inline-flex",
            "flex": null,
            "flex_flow": "row wrap",
            "grid_area": null,
            "grid_auto_columns": null,
            "grid_auto_flow": null,
            "grid_auto_rows": null,
            "grid_column": null,
            "grid_gap": null,
            "grid_row": null,
            "grid_template_areas": null,
            "grid_template_columns": null,
            "grid_template_rows": null,
            "height": null,
            "justify_content": null,
            "justify_items": null,
            "left": null,
            "margin": null,
            "max_height": null,
            "max_width": null,
            "min_height": null,
            "min_width": null,
            "object_fit": null,
            "object_position": null,
            "order": null,
            "overflow": null,
            "overflow_x": null,
            "overflow_y": null,
            "padding": null,
            "right": null,
            "top": null,
            "visibility": "hidden",
            "width": "100%"
          }
        },
        "465e2df2fd3f4b8088675af1a20869bc": {
          "model_module": "@jupyter-widgets/base",
          "model_name": "LayoutModel",
          "model_module_version": "1.2.0",
          "state": {
            "_model_module": "@jupyter-widgets/base",
            "_model_module_version": "1.2.0",
            "_model_name": "LayoutModel",
            "_view_count": null,
            "_view_module": "@jupyter-widgets/base",
            "_view_module_version": "1.2.0",
            "_view_name": "LayoutView",
            "align_content": null,
            "align_items": null,
            "align_self": null,
            "border": null,
            "bottom": null,
            "display": null,
            "flex": null,
            "flex_flow": null,
            "grid_area": null,
            "grid_auto_columns": null,
            "grid_auto_flow": null,
            "grid_auto_rows": null,
            "grid_column": null,
            "grid_gap": null,
            "grid_row": null,
            "grid_template_areas": null,
            "grid_template_columns": null,
            "grid_template_rows": null,
            "height": null,
            "justify_content": null,
            "justify_items": null,
            "left": null,
            "margin": null,
            "max_height": null,
            "max_width": null,
            "min_height": null,
            "min_width": null,
            "object_fit": null,
            "object_position": null,
            "order": null,
            "overflow": null,
            "overflow_x": null,
            "overflow_y": null,
            "padding": null,
            "right": null,
            "top": null,
            "visibility": null,
            "width": null
          }
        },
        "9a124ec0ab46495fb2d89061c545428e": {
          "model_module": "@jupyter-widgets/controls",
          "model_name": "DescriptionStyleModel",
          "model_module_version": "1.5.0",
          "state": {
            "_model_module": "@jupyter-widgets/controls",
            "_model_module_version": "1.5.0",
            "_model_name": "DescriptionStyleModel",
            "_view_count": null,
            "_view_module": "@jupyter-widgets/base",
            "_view_module_version": "1.2.0",
            "_view_name": "StyleView",
            "description_width": ""
          }
        },
        "b79a8c0f71c045acad19807993e462c2": {
          "model_module": "@jupyter-widgets/base",
          "model_name": "LayoutModel",
          "model_module_version": "1.2.0",
          "state": {
            "_model_module": "@jupyter-widgets/base",
            "_model_module_version": "1.2.0",
            "_model_name": "LayoutModel",
            "_view_count": null,
            "_view_module": "@jupyter-widgets/base",
            "_view_module_version": "1.2.0",
            "_view_name": "LayoutView",
            "align_content": null,
            "align_items": null,
            "align_self": null,
            "border": null,
            "bottom": null,
            "display": null,
            "flex": "2",
            "flex_flow": null,
            "grid_area": null,
            "grid_auto_columns": null,
            "grid_auto_flow": null,
            "grid_auto_rows": null,
            "grid_column": null,
            "grid_gap": null,
            "grid_row": null,
            "grid_template_areas": null,
            "grid_template_columns": null,
            "grid_template_rows": null,
            "height": null,
            "justify_content": null,
            "justify_items": null,
            "left": null,
            "margin": null,
            "max_height": null,
            "max_width": null,
            "min_height": null,
            "min_width": null,
            "object_fit": null,
            "object_position": null,
            "order": null,
            "overflow": null,
            "overflow_x": null,
            "overflow_y": null,
            "padding": null,
            "right": null,
            "top": null,
            "visibility": null,
            "width": null
          }
        },
        "ac97f871d51d4b6c8dcf486c779cdbe9": {
          "model_module": "@jupyter-widgets/controls",
          "model_name": "ProgressStyleModel",
          "model_module_version": "1.5.0",
          "state": {
            "_model_module": "@jupyter-widgets/controls",
            "_model_module_version": "1.5.0",
            "_model_name": "ProgressStyleModel",
            "_view_count": null,
            "_view_module": "@jupyter-widgets/base",
            "_view_module_version": "1.2.0",
            "_view_name": "StyleView",
            "bar_color": null,
            "description_width": ""
          }
        },
        "9e9315f2d2194d56b1b395964cc802a9": {
          "model_module": "@jupyter-widgets/base",
          "model_name": "LayoutModel",
          "model_module_version": "1.2.0",
          "state": {
            "_model_module": "@jupyter-widgets/base",
            "_model_module_version": "1.2.0",
            "_model_name": "LayoutModel",
            "_view_count": null,
            "_view_module": "@jupyter-widgets/base",
            "_view_module_version": "1.2.0",
            "_view_name": "LayoutView",
            "align_content": null,
            "align_items": null,
            "align_self": null,
            "border": null,
            "bottom": null,
            "display": null,
            "flex": null,
            "flex_flow": null,
            "grid_area": null,
            "grid_auto_columns": null,
            "grid_auto_flow": null,
            "grid_auto_rows": null,
            "grid_column": null,
            "grid_gap": null,
            "grid_row": null,
            "grid_template_areas": null,
            "grid_template_columns": null,
            "grid_template_rows": null,
            "height": null,
            "justify_content": null,
            "justify_items": null,
            "left": null,
            "margin": null,
            "max_height": null,
            "max_width": null,
            "min_height": null,
            "min_width": null,
            "object_fit": null,
            "object_position": null,
            "order": null,
            "overflow": null,
            "overflow_x": null,
            "overflow_y": null,
            "padding": null,
            "right": null,
            "top": null,
            "visibility": null,
            "width": null
          }
        },
        "c93e763a76f141109bc209b94b3b60b2": {
          "model_module": "@jupyter-widgets/controls",
          "model_name": "DescriptionStyleModel",
          "model_module_version": "1.5.0",
          "state": {
            "_model_module": "@jupyter-widgets/controls",
            "_model_module_version": "1.5.0",
            "_model_name": "DescriptionStyleModel",
            "_view_count": null,
            "_view_module": "@jupyter-widgets/base",
            "_view_module_version": "1.2.0",
            "_view_name": "StyleView",
            "description_width": ""
          }
        },
        "8089ee3ff4984e7c9dd7a968c14f8dcf": {
          "model_module": "@jupyter-widgets/controls",
          "model_name": "HBoxModel",
          "model_module_version": "1.5.0",
          "state": {
            "_dom_classes": [],
            "_model_module": "@jupyter-widgets/controls",
            "_model_module_version": "1.5.0",
            "_model_name": "HBoxModel",
            "_view_count": null,
            "_view_module": "@jupyter-widgets/controls",
            "_view_module_version": "1.5.0",
            "_view_name": "HBoxView",
            "box_style": "",
            "children": [
              "IPY_MODEL_4a0507a69a0f487fb0bfeba3b9d3c5f3",
              "IPY_MODEL_ded6bd62270c4f3dbe84b8055bf23468",
              "IPY_MODEL_79babec52c4747ddb41d14cfb7662035"
            ],
            "layout": "IPY_MODEL_305d840288834f36a6938c99724db5b9"
          }
        },
        "4a0507a69a0f487fb0bfeba3b9d3c5f3": {
          "model_module": "@jupyter-widgets/controls",
          "model_name": "HTMLModel",
          "model_module_version": "1.5.0",
          "state": {
            "_dom_classes": [],
            "_model_module": "@jupyter-widgets/controls",
            "_model_module_version": "1.5.0",
            "_model_name": "HTMLModel",
            "_view_count": null,
            "_view_module": "@jupyter-widgets/controls",
            "_view_module_version": "1.5.0",
            "_view_name": "HTMLView",
            "description": "",
            "description_tooltip": null,
            "layout": "IPY_MODEL_88bfa01b697f4cb4ba81263329259dfa",
            "placeholder": "​",
            "style": "IPY_MODEL_f5a76b63aec446ef8561388e7dd9c47a",
            "value": "Epoch 3:  34%"
          }
        },
        "ded6bd62270c4f3dbe84b8055bf23468": {
          "model_module": "@jupyter-widgets/controls",
          "model_name": "FloatProgressModel",
          "model_module_version": "1.5.0",
          "state": {
            "_dom_classes": [],
            "_model_module": "@jupyter-widgets/controls",
            "_model_module_version": "1.5.0",
            "_model_name": "FloatProgressModel",
            "_view_count": null,
            "_view_module": "@jupyter-widgets/controls",
            "_view_module_version": "1.5.0",
            "_view_name": "ProgressView",
            "bar_style": "",
            "description": "",
            "description_tooltip": null,
            "layout": "IPY_MODEL_04f6433938734e1f86cbbae118d4fecb",
            "max": 291,
            "min": 0,
            "orientation": "horizontal",
            "style": "IPY_MODEL_fdef91deaf264e1bb06bf994faa5cec7",
            "value": 100
          }
        },
        "79babec52c4747ddb41d14cfb7662035": {
          "model_module": "@jupyter-widgets/controls",
          "model_name": "HTMLModel",
          "model_module_version": "1.5.0",
          "state": {
            "_dom_classes": [],
            "_model_module": "@jupyter-widgets/controls",
            "_model_module_version": "1.5.0",
            "_model_name": "HTMLModel",
            "_view_count": null,
            "_view_module": "@jupyter-widgets/controls",
            "_view_module_version": "1.5.0",
            "_view_name": "HTMLView",
            "description": "",
            "description_tooltip": null,
            "layout": "IPY_MODEL_9108b95647a64aac84cc86191b71231c",
            "placeholder": "​",
            "style": "IPY_MODEL_6493c6dc80534e54b3b898009cd17e0f",
            "value": " 100/291 [04:23&lt;08:22,  2.63s/it, v_num=19]"
          }
        },
        "305d840288834f36a6938c99724db5b9": {
          "model_module": "@jupyter-widgets/base",
          "model_name": "LayoutModel",
          "model_module_version": "1.2.0",
          "state": {
            "_model_module": "@jupyter-widgets/base",
            "_model_module_version": "1.2.0",
            "_model_name": "LayoutModel",
            "_view_count": null,
            "_view_module": "@jupyter-widgets/base",
            "_view_module_version": "1.2.0",
            "_view_name": "LayoutView",
            "align_content": null,
            "align_items": null,
            "align_self": null,
            "border": null,
            "bottom": null,
            "display": "inline-flex",
            "flex": null,
            "flex_flow": "row wrap",
            "grid_area": null,
            "grid_auto_columns": null,
            "grid_auto_flow": null,
            "grid_auto_rows": null,
            "grid_column": null,
            "grid_gap": null,
            "grid_row": null,
            "grid_template_areas": null,
            "grid_template_columns": null,
            "grid_template_rows": null,
            "height": null,
            "justify_content": null,
            "justify_items": null,
            "left": null,
            "margin": null,
            "max_height": null,
            "max_width": null,
            "min_height": null,
            "min_width": null,
            "object_fit": null,
            "object_position": null,
            "order": null,
            "overflow": null,
            "overflow_x": null,
            "overflow_y": null,
            "padding": null,
            "right": null,
            "top": null,
            "visibility": null,
            "width": "100%"
          }
        },
        "88bfa01b697f4cb4ba81263329259dfa": {
          "model_module": "@jupyter-widgets/base",
          "model_name": "LayoutModel",
          "model_module_version": "1.2.0",
          "state": {
            "_model_module": "@jupyter-widgets/base",
            "_model_module_version": "1.2.0",
            "_model_name": "LayoutModel",
            "_view_count": null,
            "_view_module": "@jupyter-widgets/base",
            "_view_module_version": "1.2.0",
            "_view_name": "LayoutView",
            "align_content": null,
            "align_items": null,
            "align_self": null,
            "border": null,
            "bottom": null,
            "display": null,
            "flex": null,
            "flex_flow": null,
            "grid_area": null,
            "grid_auto_columns": null,
            "grid_auto_flow": null,
            "grid_auto_rows": null,
            "grid_column": null,
            "grid_gap": null,
            "grid_row": null,
            "grid_template_areas": null,
            "grid_template_columns": null,
            "grid_template_rows": null,
            "height": null,
            "justify_content": null,
            "justify_items": null,
            "left": null,
            "margin": null,
            "max_height": null,
            "max_width": null,
            "min_height": null,
            "min_width": null,
            "object_fit": null,
            "object_position": null,
            "order": null,
            "overflow": null,
            "overflow_x": null,
            "overflow_y": null,
            "padding": null,
            "right": null,
            "top": null,
            "visibility": null,
            "width": null
          }
        },
        "f5a76b63aec446ef8561388e7dd9c47a": {
          "model_module": "@jupyter-widgets/controls",
          "model_name": "DescriptionStyleModel",
          "model_module_version": "1.5.0",
          "state": {
            "_model_module": "@jupyter-widgets/controls",
            "_model_module_version": "1.5.0",
            "_model_name": "DescriptionStyleModel",
            "_view_count": null,
            "_view_module": "@jupyter-widgets/base",
            "_view_module_version": "1.2.0",
            "_view_name": "StyleView",
            "description_width": ""
          }
        },
        "04f6433938734e1f86cbbae118d4fecb": {
          "model_module": "@jupyter-widgets/base",
          "model_name": "LayoutModel",
          "model_module_version": "1.2.0",
          "state": {
            "_model_module": "@jupyter-widgets/base",
            "_model_module_version": "1.2.0",
            "_model_name": "LayoutModel",
            "_view_count": null,
            "_view_module": "@jupyter-widgets/base",
            "_view_module_version": "1.2.0",
            "_view_name": "LayoutView",
            "align_content": null,
            "align_items": null,
            "align_self": null,
            "border": null,
            "bottom": null,
            "display": null,
            "flex": "2",
            "flex_flow": null,
            "grid_area": null,
            "grid_auto_columns": null,
            "grid_auto_flow": null,
            "grid_auto_rows": null,
            "grid_column": null,
            "grid_gap": null,
            "grid_row": null,
            "grid_template_areas": null,
            "grid_template_columns": null,
            "grid_template_rows": null,
            "height": null,
            "justify_content": null,
            "justify_items": null,
            "left": null,
            "margin": null,
            "max_height": null,
            "max_width": null,
            "min_height": null,
            "min_width": null,
            "object_fit": null,
            "object_position": null,
            "order": null,
            "overflow": null,
            "overflow_x": null,
            "overflow_y": null,
            "padding": null,
            "right": null,
            "top": null,
            "visibility": null,
            "width": null
          }
        },
        "fdef91deaf264e1bb06bf994faa5cec7": {
          "model_module": "@jupyter-widgets/controls",
          "model_name": "ProgressStyleModel",
          "model_module_version": "1.5.0",
          "state": {
            "_model_module": "@jupyter-widgets/controls",
            "_model_module_version": "1.5.0",
            "_model_name": "ProgressStyleModel",
            "_view_count": null,
            "_view_module": "@jupyter-widgets/base",
            "_view_module_version": "1.2.0",
            "_view_name": "StyleView",
            "bar_color": null,
            "description_width": ""
          }
        },
        "9108b95647a64aac84cc86191b71231c": {
          "model_module": "@jupyter-widgets/base",
          "model_name": "LayoutModel",
          "model_module_version": "1.2.0",
          "state": {
            "_model_module": "@jupyter-widgets/base",
            "_model_module_version": "1.2.0",
            "_model_name": "LayoutModel",
            "_view_count": null,
            "_view_module": "@jupyter-widgets/base",
            "_view_module_version": "1.2.0",
            "_view_name": "LayoutView",
            "align_content": null,
            "align_items": null,
            "align_self": null,
            "border": null,
            "bottom": null,
            "display": null,
            "flex": null,
            "flex_flow": null,
            "grid_area": null,
            "grid_auto_columns": null,
            "grid_auto_flow": null,
            "grid_auto_rows": null,
            "grid_column": null,
            "grid_gap": null,
            "grid_row": null,
            "grid_template_areas": null,
            "grid_template_columns": null,
            "grid_template_rows": null,
            "height": null,
            "justify_content": null,
            "justify_items": null,
            "left": null,
            "margin": null,
            "max_height": null,
            "max_width": null,
            "min_height": null,
            "min_width": null,
            "object_fit": null,
            "object_position": null,
            "order": null,
            "overflow": null,
            "overflow_x": null,
            "overflow_y": null,
            "padding": null,
            "right": null,
            "top": null,
            "visibility": null,
            "width": null
          }
        },
        "6493c6dc80534e54b3b898009cd17e0f": {
          "model_module": "@jupyter-widgets/controls",
          "model_name": "DescriptionStyleModel",
          "model_module_version": "1.5.0",
          "state": {
            "_model_module": "@jupyter-widgets/controls",
            "_model_module_version": "1.5.0",
            "_model_name": "DescriptionStyleModel",
            "_view_count": null,
            "_view_module": "@jupyter-widgets/base",
            "_view_module_version": "1.2.0",
            "_view_name": "StyleView",
            "description_width": ""
          }
        },
        "0f7b219b82e24e7d9fcf6c0a59e81950": {
          "model_module": "@jupyter-widgets/controls",
          "model_name": "HBoxModel",
          "model_module_version": "1.5.0",
          "state": {
            "_dom_classes": [],
            "_model_module": "@jupyter-widgets/controls",
            "_model_module_version": "1.5.0",
            "_model_name": "HBoxModel",
            "_view_count": null,
            "_view_module": "@jupyter-widgets/controls",
            "_view_module_version": "1.5.0",
            "_view_name": "HBoxView",
            "box_style": "",
            "children": [
              "IPY_MODEL_acacdc1a42f7450ab5c240741404e01f",
              "IPY_MODEL_ba52c573e76d465aabd080a4b0faa301",
              "IPY_MODEL_185d0cb4ffe444d9a16e9ccf12a303e4"
            ],
            "layout": "IPY_MODEL_9dda33679d124ba39ffbe27aa5d0385a"
          }
        },
        "acacdc1a42f7450ab5c240741404e01f": {
          "model_module": "@jupyter-widgets/controls",
          "model_name": "HTMLModel",
          "model_module_version": "1.5.0",
          "state": {
            "_dom_classes": [],
            "_model_module": "@jupyter-widgets/controls",
            "_model_module_version": "1.5.0",
            "_model_name": "HTMLModel",
            "_view_count": null,
            "_view_module": "@jupyter-widgets/controls",
            "_view_module_version": "1.5.0",
            "_view_name": "HTMLView",
            "description": "",
            "description_tooltip": null,
            "layout": "IPY_MODEL_a6f27be3bb044eacbe0057aac6fecea3",
            "placeholder": "​",
            "style": "IPY_MODEL_e2260991beb94a759c6b86a555b2f325",
            "value": "Validation DataLoader 0: 100%"
          }
        },
        "ba52c573e76d465aabd080a4b0faa301": {
          "model_module": "@jupyter-widgets/controls",
          "model_name": "FloatProgressModel",
          "model_module_version": "1.5.0",
          "state": {
            "_dom_classes": [],
            "_model_module": "@jupyter-widgets/controls",
            "_model_module_version": "1.5.0",
            "_model_name": "FloatProgressModel",
            "_view_count": null,
            "_view_module": "@jupyter-widgets/controls",
            "_view_module_version": "1.5.0",
            "_view_name": "ProgressView",
            "bar_style": "",
            "description": "",
            "description_tooltip": null,
            "layout": "IPY_MODEL_446b8cf275714c41a07df5aa892483ea",
            "max": 73,
            "min": 0,
            "orientation": "horizontal",
            "style": "IPY_MODEL_ad00a8f4033346b991d1656854e1c52f",
            "value": 73
          }
        },
        "185d0cb4ffe444d9a16e9ccf12a303e4": {
          "model_module": "@jupyter-widgets/controls",
          "model_name": "HTMLModel",
          "model_module_version": "1.5.0",
          "state": {
            "_dom_classes": [],
            "_model_module": "@jupyter-widgets/controls",
            "_model_module_version": "1.5.0",
            "_model_name": "HTMLModel",
            "_view_count": null,
            "_view_module": "@jupyter-widgets/controls",
            "_view_module_version": "1.5.0",
            "_view_name": "HTMLView",
            "description": "",
            "description_tooltip": null,
            "layout": "IPY_MODEL_1f8ad76f654a42f5ba1aa81c41835ebb",
            "placeholder": "​",
            "style": "IPY_MODEL_153706ef43944e45bfaf32a22877e86b",
            "value": " 73/73 [01:23&lt;00:00,  1.14s/it]"
          }
        },
        "9dda33679d124ba39ffbe27aa5d0385a": {
          "model_module": "@jupyter-widgets/base",
          "model_name": "LayoutModel",
          "model_module_version": "1.2.0",
          "state": {
            "_model_module": "@jupyter-widgets/base",
            "_model_module_version": "1.2.0",
            "_model_name": "LayoutModel",
            "_view_count": null,
            "_view_module": "@jupyter-widgets/base",
            "_view_module_version": "1.2.0",
            "_view_name": "LayoutView",
            "align_content": null,
            "align_items": null,
            "align_self": null,
            "border": null,
            "bottom": null,
            "display": "inline-flex",
            "flex": null,
            "flex_flow": "row wrap",
            "grid_area": null,
            "grid_auto_columns": null,
            "grid_auto_flow": null,
            "grid_auto_rows": null,
            "grid_column": null,
            "grid_gap": null,
            "grid_row": null,
            "grid_template_areas": null,
            "grid_template_columns": null,
            "grid_template_rows": null,
            "height": null,
            "justify_content": null,
            "justify_items": null,
            "left": null,
            "margin": null,
            "max_height": null,
            "max_width": null,
            "min_height": null,
            "min_width": null,
            "object_fit": null,
            "object_position": null,
            "order": null,
            "overflow": null,
            "overflow_x": null,
            "overflow_y": null,
            "padding": null,
            "right": null,
            "top": null,
            "visibility": "hidden",
            "width": "100%"
          }
        },
        "a6f27be3bb044eacbe0057aac6fecea3": {
          "model_module": "@jupyter-widgets/base",
          "model_name": "LayoutModel",
          "model_module_version": "1.2.0",
          "state": {
            "_model_module": "@jupyter-widgets/base",
            "_model_module_version": "1.2.0",
            "_model_name": "LayoutModel",
            "_view_count": null,
            "_view_module": "@jupyter-widgets/base",
            "_view_module_version": "1.2.0",
            "_view_name": "LayoutView",
            "align_content": null,
            "align_items": null,
            "align_self": null,
            "border": null,
            "bottom": null,
            "display": null,
            "flex": null,
            "flex_flow": null,
            "grid_area": null,
            "grid_auto_columns": null,
            "grid_auto_flow": null,
            "grid_auto_rows": null,
            "grid_column": null,
            "grid_gap": null,
            "grid_row": null,
            "grid_template_areas": null,
            "grid_template_columns": null,
            "grid_template_rows": null,
            "height": null,
            "justify_content": null,
            "justify_items": null,
            "left": null,
            "margin": null,
            "max_height": null,
            "max_width": null,
            "min_height": null,
            "min_width": null,
            "object_fit": null,
            "object_position": null,
            "order": null,
            "overflow": null,
            "overflow_x": null,
            "overflow_y": null,
            "padding": null,
            "right": null,
            "top": null,
            "visibility": null,
            "width": null
          }
        },
        "e2260991beb94a759c6b86a555b2f325": {
          "model_module": "@jupyter-widgets/controls",
          "model_name": "DescriptionStyleModel",
          "model_module_version": "1.5.0",
          "state": {
            "_model_module": "@jupyter-widgets/controls",
            "_model_module_version": "1.5.0",
            "_model_name": "DescriptionStyleModel",
            "_view_count": null,
            "_view_module": "@jupyter-widgets/base",
            "_view_module_version": "1.2.0",
            "_view_name": "StyleView",
            "description_width": ""
          }
        },
        "446b8cf275714c41a07df5aa892483ea": {
          "model_module": "@jupyter-widgets/base",
          "model_name": "LayoutModel",
          "model_module_version": "1.2.0",
          "state": {
            "_model_module": "@jupyter-widgets/base",
            "_model_module_version": "1.2.0",
            "_model_name": "LayoutModel",
            "_view_count": null,
            "_view_module": "@jupyter-widgets/base",
            "_view_module_version": "1.2.0",
            "_view_name": "LayoutView",
            "align_content": null,
            "align_items": null,
            "align_self": null,
            "border": null,
            "bottom": null,
            "display": null,
            "flex": "2",
            "flex_flow": null,
            "grid_area": null,
            "grid_auto_columns": null,
            "grid_auto_flow": null,
            "grid_auto_rows": null,
            "grid_column": null,
            "grid_gap": null,
            "grid_row": null,
            "grid_template_areas": null,
            "grid_template_columns": null,
            "grid_template_rows": null,
            "height": null,
            "justify_content": null,
            "justify_items": null,
            "left": null,
            "margin": null,
            "max_height": null,
            "max_width": null,
            "min_height": null,
            "min_width": null,
            "object_fit": null,
            "object_position": null,
            "order": null,
            "overflow": null,
            "overflow_x": null,
            "overflow_y": null,
            "padding": null,
            "right": null,
            "top": null,
            "visibility": null,
            "width": null
          }
        },
        "ad00a8f4033346b991d1656854e1c52f": {
          "model_module": "@jupyter-widgets/controls",
          "model_name": "ProgressStyleModel",
          "model_module_version": "1.5.0",
          "state": {
            "_model_module": "@jupyter-widgets/controls",
            "_model_module_version": "1.5.0",
            "_model_name": "ProgressStyleModel",
            "_view_count": null,
            "_view_module": "@jupyter-widgets/base",
            "_view_module_version": "1.2.0",
            "_view_name": "StyleView",
            "bar_color": null,
            "description_width": ""
          }
        },
        "1f8ad76f654a42f5ba1aa81c41835ebb": {
          "model_module": "@jupyter-widgets/base",
          "model_name": "LayoutModel",
          "model_module_version": "1.2.0",
          "state": {
            "_model_module": "@jupyter-widgets/base",
            "_model_module_version": "1.2.0",
            "_model_name": "LayoutModel",
            "_view_count": null,
            "_view_module": "@jupyter-widgets/base",
            "_view_module_version": "1.2.0",
            "_view_name": "LayoutView",
            "align_content": null,
            "align_items": null,
            "align_self": null,
            "border": null,
            "bottom": null,
            "display": null,
            "flex": null,
            "flex_flow": null,
            "grid_area": null,
            "grid_auto_columns": null,
            "grid_auto_flow": null,
            "grid_auto_rows": null,
            "grid_column": null,
            "grid_gap": null,
            "grid_row": null,
            "grid_template_areas": null,
            "grid_template_columns": null,
            "grid_template_rows": null,
            "height": null,
            "justify_content": null,
            "justify_items": null,
            "left": null,
            "margin": null,
            "max_height": null,
            "max_width": null,
            "min_height": null,
            "min_width": null,
            "object_fit": null,
            "object_position": null,
            "order": null,
            "overflow": null,
            "overflow_x": null,
            "overflow_y": null,
            "padding": null,
            "right": null,
            "top": null,
            "visibility": null,
            "width": null
          }
        },
        "153706ef43944e45bfaf32a22877e86b": {
          "model_module": "@jupyter-widgets/controls",
          "model_name": "DescriptionStyleModel",
          "model_module_version": "1.5.0",
          "state": {
            "_model_module": "@jupyter-widgets/controls",
            "_model_module_version": "1.5.0",
            "_model_name": "DescriptionStyleModel",
            "_view_count": null,
            "_view_module": "@jupyter-widgets/base",
            "_view_module_version": "1.2.0",
            "_view_name": "StyleView",
            "description_width": ""
          }
        },
        "135d0874ffe0465eaf4962992559cc34": {
          "model_module": "@jupyter-widgets/controls",
          "model_name": "HBoxModel",
          "model_module_version": "1.5.0",
          "state": {
            "_dom_classes": [],
            "_model_module": "@jupyter-widgets/controls",
            "_model_module_version": "1.5.0",
            "_model_name": "HBoxModel",
            "_view_count": null,
            "_view_module": "@jupyter-widgets/controls",
            "_view_module_version": "1.5.0",
            "_view_name": "HBoxView",
            "box_style": "",
            "children": [
              "IPY_MODEL_2c001f46275646f2935a2226eee9e371",
              "IPY_MODEL_53c96d433be840cd931085b91c390237",
              "IPY_MODEL_049c64d3d1e742d79474f8104c1c00e2"
            ],
            "layout": "IPY_MODEL_410e7d280ab54b6891a2b3d57f4fc9a2"
          }
        },
        "2c001f46275646f2935a2226eee9e371": {
          "model_module": "@jupyter-widgets/controls",
          "model_name": "HTMLModel",
          "model_module_version": "1.5.0",
          "state": {
            "_dom_classes": [],
            "_model_module": "@jupyter-widgets/controls",
            "_model_module_version": "1.5.0",
            "_model_name": "HTMLModel",
            "_view_count": null,
            "_view_module": "@jupyter-widgets/controls",
            "_view_module_version": "1.5.0",
            "_view_name": "HTMLView",
            "description": "",
            "description_tooltip": null,
            "layout": "IPY_MODEL_7caf1763e58046ba96176df4a34686d9",
            "placeholder": "​",
            "style": "IPY_MODEL_439ddf4764b94b6db343fdb10b0e700f",
            "value": "Validation DataLoader 0: 100%"
          }
        },
        "53c96d433be840cd931085b91c390237": {
          "model_module": "@jupyter-widgets/controls",
          "model_name": "FloatProgressModel",
          "model_module_version": "1.5.0",
          "state": {
            "_dom_classes": [],
            "_model_module": "@jupyter-widgets/controls",
            "_model_module_version": "1.5.0",
            "_model_name": "FloatProgressModel",
            "_view_count": null,
            "_view_module": "@jupyter-widgets/controls",
            "_view_module_version": "1.5.0",
            "_view_name": "ProgressView",
            "bar_style": "",
            "description": "",
            "description_tooltip": null,
            "layout": "IPY_MODEL_c17eee86c968408994c27ea7e009571e",
            "max": 73,
            "min": 0,
            "orientation": "horizontal",
            "style": "IPY_MODEL_e3afeff6e88c491cb5456211c2273d6b",
            "value": 73
          }
        },
        "049c64d3d1e742d79474f8104c1c00e2": {
          "model_module": "@jupyter-widgets/controls",
          "model_name": "HTMLModel",
          "model_module_version": "1.5.0",
          "state": {
            "_dom_classes": [],
            "_model_module": "@jupyter-widgets/controls",
            "_model_module_version": "1.5.0",
            "_model_name": "HTMLModel",
            "_view_count": null,
            "_view_module": "@jupyter-widgets/controls",
            "_view_module_version": "1.5.0",
            "_view_name": "HTMLView",
            "description": "",
            "description_tooltip": null,
            "layout": "IPY_MODEL_b451736ef6d84af2b724cb0b9c939ecc",
            "placeholder": "​",
            "style": "IPY_MODEL_80c7309fa7204c7f80eab5ea8d0d0a3e",
            "value": " 73/73 [01:23&lt;00:00,  1.14s/it]"
          }
        },
        "410e7d280ab54b6891a2b3d57f4fc9a2": {
          "model_module": "@jupyter-widgets/base",
          "model_name": "LayoutModel",
          "model_module_version": "1.2.0",
          "state": {
            "_model_module": "@jupyter-widgets/base",
            "_model_module_version": "1.2.0",
            "_model_name": "LayoutModel",
            "_view_count": null,
            "_view_module": "@jupyter-widgets/base",
            "_view_module_version": "1.2.0",
            "_view_name": "LayoutView",
            "align_content": null,
            "align_items": null,
            "align_self": null,
            "border": null,
            "bottom": null,
            "display": "inline-flex",
            "flex": null,
            "flex_flow": "row wrap",
            "grid_area": null,
            "grid_auto_columns": null,
            "grid_auto_flow": null,
            "grid_auto_rows": null,
            "grid_column": null,
            "grid_gap": null,
            "grid_row": null,
            "grid_template_areas": null,
            "grid_template_columns": null,
            "grid_template_rows": null,
            "height": null,
            "justify_content": null,
            "justify_items": null,
            "left": null,
            "margin": null,
            "max_height": null,
            "max_width": null,
            "min_height": null,
            "min_width": null,
            "object_fit": null,
            "object_position": null,
            "order": null,
            "overflow": null,
            "overflow_x": null,
            "overflow_y": null,
            "padding": null,
            "right": null,
            "top": null,
            "visibility": "hidden",
            "width": "100%"
          }
        },
        "7caf1763e58046ba96176df4a34686d9": {
          "model_module": "@jupyter-widgets/base",
          "model_name": "LayoutModel",
          "model_module_version": "1.2.0",
          "state": {
            "_model_module": "@jupyter-widgets/base",
            "_model_module_version": "1.2.0",
            "_model_name": "LayoutModel",
            "_view_count": null,
            "_view_module": "@jupyter-widgets/base",
            "_view_module_version": "1.2.0",
            "_view_name": "LayoutView",
            "align_content": null,
            "align_items": null,
            "align_self": null,
            "border": null,
            "bottom": null,
            "display": null,
            "flex": null,
            "flex_flow": null,
            "grid_area": null,
            "grid_auto_columns": null,
            "grid_auto_flow": null,
            "grid_auto_rows": null,
            "grid_column": null,
            "grid_gap": null,
            "grid_row": null,
            "grid_template_areas": null,
            "grid_template_columns": null,
            "grid_template_rows": null,
            "height": null,
            "justify_content": null,
            "justify_items": null,
            "left": null,
            "margin": null,
            "max_height": null,
            "max_width": null,
            "min_height": null,
            "min_width": null,
            "object_fit": null,
            "object_position": null,
            "order": null,
            "overflow": null,
            "overflow_x": null,
            "overflow_y": null,
            "padding": null,
            "right": null,
            "top": null,
            "visibility": null,
            "width": null
          }
        },
        "439ddf4764b94b6db343fdb10b0e700f": {
          "model_module": "@jupyter-widgets/controls",
          "model_name": "DescriptionStyleModel",
          "model_module_version": "1.5.0",
          "state": {
            "_model_module": "@jupyter-widgets/controls",
            "_model_module_version": "1.5.0",
            "_model_name": "DescriptionStyleModel",
            "_view_count": null,
            "_view_module": "@jupyter-widgets/base",
            "_view_module_version": "1.2.0",
            "_view_name": "StyleView",
            "description_width": ""
          }
        },
        "c17eee86c968408994c27ea7e009571e": {
          "model_module": "@jupyter-widgets/base",
          "model_name": "LayoutModel",
          "model_module_version": "1.2.0",
          "state": {
            "_model_module": "@jupyter-widgets/base",
            "_model_module_version": "1.2.0",
            "_model_name": "LayoutModel",
            "_view_count": null,
            "_view_module": "@jupyter-widgets/base",
            "_view_module_version": "1.2.0",
            "_view_name": "LayoutView",
            "align_content": null,
            "align_items": null,
            "align_self": null,
            "border": null,
            "bottom": null,
            "display": null,
            "flex": "2",
            "flex_flow": null,
            "grid_area": null,
            "grid_auto_columns": null,
            "grid_auto_flow": null,
            "grid_auto_rows": null,
            "grid_column": null,
            "grid_gap": null,
            "grid_row": null,
            "grid_template_areas": null,
            "grid_template_columns": null,
            "grid_template_rows": null,
            "height": null,
            "justify_content": null,
            "justify_items": null,
            "left": null,
            "margin": null,
            "max_height": null,
            "max_width": null,
            "min_height": null,
            "min_width": null,
            "object_fit": null,
            "object_position": null,
            "order": null,
            "overflow": null,
            "overflow_x": null,
            "overflow_y": null,
            "padding": null,
            "right": null,
            "top": null,
            "visibility": null,
            "width": null
          }
        },
        "e3afeff6e88c491cb5456211c2273d6b": {
          "model_module": "@jupyter-widgets/controls",
          "model_name": "ProgressStyleModel",
          "model_module_version": "1.5.0",
          "state": {
            "_model_module": "@jupyter-widgets/controls",
            "_model_module_version": "1.5.0",
            "_model_name": "ProgressStyleModel",
            "_view_count": null,
            "_view_module": "@jupyter-widgets/base",
            "_view_module_version": "1.2.0",
            "_view_name": "StyleView",
            "bar_color": null,
            "description_width": ""
          }
        },
        "b451736ef6d84af2b724cb0b9c939ecc": {
          "model_module": "@jupyter-widgets/base",
          "model_name": "LayoutModel",
          "model_module_version": "1.2.0",
          "state": {
            "_model_module": "@jupyter-widgets/base",
            "_model_module_version": "1.2.0",
            "_model_name": "LayoutModel",
            "_view_count": null,
            "_view_module": "@jupyter-widgets/base",
            "_view_module_version": "1.2.0",
            "_view_name": "LayoutView",
            "align_content": null,
            "align_items": null,
            "align_self": null,
            "border": null,
            "bottom": null,
            "display": null,
            "flex": null,
            "flex_flow": null,
            "grid_area": null,
            "grid_auto_columns": null,
            "grid_auto_flow": null,
            "grid_auto_rows": null,
            "grid_column": null,
            "grid_gap": null,
            "grid_row": null,
            "grid_template_areas": null,
            "grid_template_columns": null,
            "grid_template_rows": null,
            "height": null,
            "justify_content": null,
            "justify_items": null,
            "left": null,
            "margin": null,
            "max_height": null,
            "max_width": null,
            "min_height": null,
            "min_width": null,
            "object_fit": null,
            "object_position": null,
            "order": null,
            "overflow": null,
            "overflow_x": null,
            "overflow_y": null,
            "padding": null,
            "right": null,
            "top": null,
            "visibility": null,
            "width": null
          }
        },
        "80c7309fa7204c7f80eab5ea8d0d0a3e": {
          "model_module": "@jupyter-widgets/controls",
          "model_name": "DescriptionStyleModel",
          "model_module_version": "1.5.0",
          "state": {
            "_model_module": "@jupyter-widgets/controls",
            "_model_module_version": "1.5.0",
            "_model_name": "DescriptionStyleModel",
            "_view_count": null,
            "_view_module": "@jupyter-widgets/base",
            "_view_module_version": "1.2.0",
            "_view_name": "StyleView",
            "description_width": ""
          }
        },
        "6bc96997e6f44f70902da0f4726ec2a0": {
          "model_module": "@jupyter-widgets/controls",
          "model_name": "HBoxModel",
          "model_module_version": "1.5.0",
          "state": {
            "_dom_classes": [],
            "_model_module": "@jupyter-widgets/controls",
            "_model_module_version": "1.5.0",
            "_model_name": "HBoxModel",
            "_view_count": null,
            "_view_module": "@jupyter-widgets/controls",
            "_view_module_version": "1.5.0",
            "_view_name": "HBoxView",
            "box_style": "",
            "children": [
              "IPY_MODEL_fbb8a60ae5714f4e9a5787ea19a157a5",
              "IPY_MODEL_bb9c621a786b406cb82654c8f75dc43e",
              "IPY_MODEL_592afc38667a4682b83116c237c092df"
            ],
            "layout": "IPY_MODEL_98d13b4704c342bf8a3aac1e4975231e"
          }
        },
        "fbb8a60ae5714f4e9a5787ea19a157a5": {
          "model_module": "@jupyter-widgets/controls",
          "model_name": "HTMLModel",
          "model_module_version": "1.5.0",
          "state": {
            "_dom_classes": [],
            "_model_module": "@jupyter-widgets/controls",
            "_model_module_version": "1.5.0",
            "_model_name": "HTMLModel",
            "_view_count": null,
            "_view_module": "@jupyter-widgets/controls",
            "_view_module_version": "1.5.0",
            "_view_name": "HTMLView",
            "description": "",
            "description_tooltip": null,
            "layout": "IPY_MODEL_01d140d7f79c4651a64e8b35f6eae617",
            "placeholder": "​",
            "style": "IPY_MODEL_1bee69f8a8904e80aace148b4db9cebc",
            "value": "Validation DataLoader 0: 100%"
          }
        },
        "bb9c621a786b406cb82654c8f75dc43e": {
          "model_module": "@jupyter-widgets/controls",
          "model_name": "FloatProgressModel",
          "model_module_version": "1.5.0",
          "state": {
            "_dom_classes": [],
            "_model_module": "@jupyter-widgets/controls",
            "_model_module_version": "1.5.0",
            "_model_name": "FloatProgressModel",
            "_view_count": null,
            "_view_module": "@jupyter-widgets/controls",
            "_view_module_version": "1.5.0",
            "_view_name": "ProgressView",
            "bar_style": "",
            "description": "",
            "description_tooltip": null,
            "layout": "IPY_MODEL_b30b66f3722c4abfacc28e98d8d4bf91",
            "max": 73,
            "min": 0,
            "orientation": "horizontal",
            "style": "IPY_MODEL_0c5ae8ee0dbc4a50a7add06eedb68ee8",
            "value": 73
          }
        },
        "592afc38667a4682b83116c237c092df": {
          "model_module": "@jupyter-widgets/controls",
          "model_name": "HTMLModel",
          "model_module_version": "1.5.0",
          "state": {
            "_dom_classes": [],
            "_model_module": "@jupyter-widgets/controls",
            "_model_module_version": "1.5.0",
            "_model_name": "HTMLModel",
            "_view_count": null,
            "_view_module": "@jupyter-widgets/controls",
            "_view_module_version": "1.5.0",
            "_view_name": "HTMLView",
            "description": "",
            "description_tooltip": null,
            "layout": "IPY_MODEL_969e354b8e204b8dac34fa96b99f7067",
            "placeholder": "​",
            "style": "IPY_MODEL_c4cf7c8c82b34ecd8a1a0820ca68bfbe",
            "value": " 73/73 [01:24&lt;00:00,  1.15s/it]"
          }
        },
        "98d13b4704c342bf8a3aac1e4975231e": {
          "model_module": "@jupyter-widgets/base",
          "model_name": "LayoutModel",
          "model_module_version": "1.2.0",
          "state": {
            "_model_module": "@jupyter-widgets/base",
            "_model_module_version": "1.2.0",
            "_model_name": "LayoutModel",
            "_view_count": null,
            "_view_module": "@jupyter-widgets/base",
            "_view_module_version": "1.2.0",
            "_view_name": "LayoutView",
            "align_content": null,
            "align_items": null,
            "align_self": null,
            "border": null,
            "bottom": null,
            "display": "inline-flex",
            "flex": null,
            "flex_flow": "row wrap",
            "grid_area": null,
            "grid_auto_columns": null,
            "grid_auto_flow": null,
            "grid_auto_rows": null,
            "grid_column": null,
            "grid_gap": null,
            "grid_row": null,
            "grid_template_areas": null,
            "grid_template_columns": null,
            "grid_template_rows": null,
            "height": null,
            "justify_content": null,
            "justify_items": null,
            "left": null,
            "margin": null,
            "max_height": null,
            "max_width": null,
            "min_height": null,
            "min_width": null,
            "object_fit": null,
            "object_position": null,
            "order": null,
            "overflow": null,
            "overflow_x": null,
            "overflow_y": null,
            "padding": null,
            "right": null,
            "top": null,
            "visibility": "hidden",
            "width": "100%"
          }
        },
        "01d140d7f79c4651a64e8b35f6eae617": {
          "model_module": "@jupyter-widgets/base",
          "model_name": "LayoutModel",
          "model_module_version": "1.2.0",
          "state": {
            "_model_module": "@jupyter-widgets/base",
            "_model_module_version": "1.2.0",
            "_model_name": "LayoutModel",
            "_view_count": null,
            "_view_module": "@jupyter-widgets/base",
            "_view_module_version": "1.2.0",
            "_view_name": "LayoutView",
            "align_content": null,
            "align_items": null,
            "align_self": null,
            "border": null,
            "bottom": null,
            "display": null,
            "flex": null,
            "flex_flow": null,
            "grid_area": null,
            "grid_auto_columns": null,
            "grid_auto_flow": null,
            "grid_auto_rows": null,
            "grid_column": null,
            "grid_gap": null,
            "grid_row": null,
            "grid_template_areas": null,
            "grid_template_columns": null,
            "grid_template_rows": null,
            "height": null,
            "justify_content": null,
            "justify_items": null,
            "left": null,
            "margin": null,
            "max_height": null,
            "max_width": null,
            "min_height": null,
            "min_width": null,
            "object_fit": null,
            "object_position": null,
            "order": null,
            "overflow": null,
            "overflow_x": null,
            "overflow_y": null,
            "padding": null,
            "right": null,
            "top": null,
            "visibility": null,
            "width": null
          }
        },
        "1bee69f8a8904e80aace148b4db9cebc": {
          "model_module": "@jupyter-widgets/controls",
          "model_name": "DescriptionStyleModel",
          "model_module_version": "1.5.0",
          "state": {
            "_model_module": "@jupyter-widgets/controls",
            "_model_module_version": "1.5.0",
            "_model_name": "DescriptionStyleModel",
            "_view_count": null,
            "_view_module": "@jupyter-widgets/base",
            "_view_module_version": "1.2.0",
            "_view_name": "StyleView",
            "description_width": ""
          }
        },
        "b30b66f3722c4abfacc28e98d8d4bf91": {
          "model_module": "@jupyter-widgets/base",
          "model_name": "LayoutModel",
          "model_module_version": "1.2.0",
          "state": {
            "_model_module": "@jupyter-widgets/base",
            "_model_module_version": "1.2.0",
            "_model_name": "LayoutModel",
            "_view_count": null,
            "_view_module": "@jupyter-widgets/base",
            "_view_module_version": "1.2.0",
            "_view_name": "LayoutView",
            "align_content": null,
            "align_items": null,
            "align_self": null,
            "border": null,
            "bottom": null,
            "display": null,
            "flex": "2",
            "flex_flow": null,
            "grid_area": null,
            "grid_auto_columns": null,
            "grid_auto_flow": null,
            "grid_auto_rows": null,
            "grid_column": null,
            "grid_gap": null,
            "grid_row": null,
            "grid_template_areas": null,
            "grid_template_columns": null,
            "grid_template_rows": null,
            "height": null,
            "justify_content": null,
            "justify_items": null,
            "left": null,
            "margin": null,
            "max_height": null,
            "max_width": null,
            "min_height": null,
            "min_width": null,
            "object_fit": null,
            "object_position": null,
            "order": null,
            "overflow": null,
            "overflow_x": null,
            "overflow_y": null,
            "padding": null,
            "right": null,
            "top": null,
            "visibility": null,
            "width": null
          }
        },
        "0c5ae8ee0dbc4a50a7add06eedb68ee8": {
          "model_module": "@jupyter-widgets/controls",
          "model_name": "ProgressStyleModel",
          "model_module_version": "1.5.0",
          "state": {
            "_model_module": "@jupyter-widgets/controls",
            "_model_module_version": "1.5.0",
            "_model_name": "ProgressStyleModel",
            "_view_count": null,
            "_view_module": "@jupyter-widgets/base",
            "_view_module_version": "1.2.0",
            "_view_name": "StyleView",
            "bar_color": null,
            "description_width": ""
          }
        },
        "969e354b8e204b8dac34fa96b99f7067": {
          "model_module": "@jupyter-widgets/base",
          "model_name": "LayoutModel",
          "model_module_version": "1.2.0",
          "state": {
            "_model_module": "@jupyter-widgets/base",
            "_model_module_version": "1.2.0",
            "_model_name": "LayoutModel",
            "_view_count": null,
            "_view_module": "@jupyter-widgets/base",
            "_view_module_version": "1.2.0",
            "_view_name": "LayoutView",
            "align_content": null,
            "align_items": null,
            "align_self": null,
            "border": null,
            "bottom": null,
            "display": null,
            "flex": null,
            "flex_flow": null,
            "grid_area": null,
            "grid_auto_columns": null,
            "grid_auto_flow": null,
            "grid_auto_rows": null,
            "grid_column": null,
            "grid_gap": null,
            "grid_row": null,
            "grid_template_areas": null,
            "grid_template_columns": null,
            "grid_template_rows": null,
            "height": null,
            "justify_content": null,
            "justify_items": null,
            "left": null,
            "margin": null,
            "max_height": null,
            "max_width": null,
            "min_height": null,
            "min_width": null,
            "object_fit": null,
            "object_position": null,
            "order": null,
            "overflow": null,
            "overflow_x": null,
            "overflow_y": null,
            "padding": null,
            "right": null,
            "top": null,
            "visibility": null,
            "width": null
          }
        },
        "c4cf7c8c82b34ecd8a1a0820ca68bfbe": {
          "model_module": "@jupyter-widgets/controls",
          "model_name": "DescriptionStyleModel",
          "model_module_version": "1.5.0",
          "state": {
            "_model_module": "@jupyter-widgets/controls",
            "_model_module_version": "1.5.0",
            "_model_name": "DescriptionStyleModel",
            "_view_count": null,
            "_view_module": "@jupyter-widgets/base",
            "_view_module_version": "1.2.0",
            "_view_name": "StyleView",
            "description_width": ""
          }
        }
      }
    }
  },
  "cells": [
    {
      "cell_type": "markdown",
      "source": [
        "### Подготовка"
      ],
      "metadata": {
        "id": "D5uiqHlyhsBh"
      }
    },
    {
      "cell_type": "code",
      "execution_count": 1,
      "metadata": {
        "colab": {
          "base_uri": "https://localhost:8080/"
        },
        "id": "iWYcfghSKv3m",
        "outputId": "e7241649-4e33-467a-8569-90a8f97f4eb1"
      },
      "outputs": [
        {
          "output_type": "stream",
          "name": "stdout",
          "text": [
            "--2023-03-30 12:58:44--  https://data.deepai.org/PascalVOC2012.zip\n",
            "Resolving data.deepai.org (data.deepai.org)... 185.93.1.250, 2400:52e0:1a00::1067:1\n",
            "Connecting to data.deepai.org (data.deepai.org)|185.93.1.250|:443... connected.\n",
            "HTTP request sent, awaiting response... 200 OK\n",
            "Length: 3899239928 (3.6G) [application/zip]\n",
            "Saving to: ‘PascalVOC2012.zip.1’\n",
            "\n",
            "PascalVOC2012.zip.1  46%[========>           ]   1.68G  5.20MB/s    eta 5m 53s ^C\n",
            "Archive:  PascalVOC2012.zip\n",
            "replace VOC2012/Annotations/2007_000027.xml? [y]es, [n]o, [A]ll, [N]one, [r]ename: mv: cannot stat 'voc2012': No such file or directory\n"
          ]
        }
      ],
      "source": [
        "!wget https://data.deepai.org/PascalVOC2012.zip\n",
        "!unzip PascalVOC2012.zip\n",
        "!mv voc2012 VOCdevkit"
      ]
    },
    {
      "cell_type": "code",
      "source": [
        "!pip install timm"
      ],
      "metadata": {
        "colab": {
          "base_uri": "https://localhost:8080/"
        },
        "id": "I9Ry-1qkJI58",
        "outputId": "4df02b2c-4d65-49dc-a757-a51cdfbcfe06"
      },
      "execution_count": 2,
      "outputs": [
        {
          "output_type": "stream",
          "name": "stdout",
          "text": [
            "Looking in indexes: https://pypi.org/simple, https://us-python.pkg.dev/colab-wheels/public/simple/\n",
            "Requirement already satisfied: timm in /usr/local/lib/python3.9/dist-packages (0.6.13)\n",
            "Requirement already satisfied: huggingface-hub in /usr/local/lib/python3.9/dist-packages (from timm) (0.13.3)\n",
            "Requirement already satisfied: torchvision in /usr/local/lib/python3.9/dist-packages (from timm) (0.14.1+cu116)\n",
            "Requirement already satisfied: pyyaml in /usr/local/lib/python3.9/dist-packages (from timm) (6.0)\n",
            "Requirement already satisfied: torch>=1.7 in /usr/local/lib/python3.9/dist-packages (from timm) (1.13.1+cu116)\n",
            "Requirement already satisfied: typing-extensions in /usr/local/lib/python3.9/dist-packages (from torch>=1.7->timm) (4.5.0)\n",
            "Requirement already satisfied: requests in /usr/local/lib/python3.9/dist-packages (from huggingface-hub->timm) (2.27.1)\n",
            "Requirement already satisfied: tqdm>=4.42.1 in /usr/local/lib/python3.9/dist-packages (from huggingface-hub->timm) (4.65.0)\n",
            "Requirement already satisfied: packaging>=20.9 in /usr/local/lib/python3.9/dist-packages (from huggingface-hub->timm) (23.0)\n",
            "Requirement already satisfied: filelock in /usr/local/lib/python3.9/dist-packages (from huggingface-hub->timm) (3.10.7)\n",
            "Requirement already satisfied: pillow!=8.3.*,>=5.3.0 in /usr/local/lib/python3.9/dist-packages (from torchvision->timm) (8.4.0)\n",
            "Requirement already satisfied: numpy in /usr/local/lib/python3.9/dist-packages (from torchvision->timm) (1.22.4)\n",
            "Requirement already satisfied: urllib3<1.27,>=1.21.1 in /usr/local/lib/python3.9/dist-packages (from requests->huggingface-hub->timm) (1.26.15)\n",
            "Requirement already satisfied: charset-normalizer~=2.0.0 in /usr/local/lib/python3.9/dist-packages (from requests->huggingface-hub->timm) (2.0.12)\n",
            "Requirement already satisfied: idna<4,>=2.5 in /usr/local/lib/python3.9/dist-packages (from requests->huggingface-hub->timm) (3.4)\n",
            "Requirement already satisfied: certifi>=2017.4.17 in /usr/local/lib/python3.9/dist-packages (from requests->huggingface-hub->timm) (2022.12.7)\n"
          ]
        }
      ]
    },
    {
      "cell_type": "code",
      "source": [
        "!pip install pytorch-lightning"
      ],
      "metadata": {
        "colab": {
          "base_uri": "https://localhost:8080/"
        },
        "id": "N166gXfqE9ao",
        "outputId": "db3ac25c-2dec-4c19-f458-03347c9c804f"
      },
      "execution_count": 3,
      "outputs": [
        {
          "output_type": "stream",
          "name": "stdout",
          "text": [
            "Looking in indexes: https://pypi.org/simple, https://us-python.pkg.dev/colab-wheels/public/simple/\n",
            "Requirement already satisfied: pytorch-lightning in /usr/local/lib/python3.9/dist-packages (2.0.0)\n",
            "Requirement already satisfied: fsspec[http]>2021.06.0 in /usr/local/lib/python3.9/dist-packages (from pytorch-lightning) (2023.3.0)\n",
            "Requirement already satisfied: torchmetrics>=0.7.0 in /usr/local/lib/python3.9/dist-packages (from pytorch-lightning) (0.11.4)\n",
            "Requirement already satisfied: PyYAML>=5.4 in /usr/local/lib/python3.9/dist-packages (from pytorch-lightning) (6.0)\n",
            "Requirement already satisfied: typing-extensions>=4.0.0 in /usr/local/lib/python3.9/dist-packages (from pytorch-lightning) (4.5.0)\n",
            "Requirement already satisfied: packaging>=17.1 in /usr/local/lib/python3.9/dist-packages (from pytorch-lightning) (23.0)\n",
            "Requirement already satisfied: lightning-utilities>=0.7.0 in /usr/local/lib/python3.9/dist-packages (from pytorch-lightning) (0.8.0)\n",
            "Requirement already satisfied: numpy>=1.17.2 in /usr/local/lib/python3.9/dist-packages (from pytorch-lightning) (1.22.4)\n",
            "Requirement already satisfied: torch>=1.11.0 in /usr/local/lib/python3.9/dist-packages (from pytorch-lightning) (1.13.1+cu116)\n",
            "Requirement already satisfied: tqdm>=4.57.0 in /usr/local/lib/python3.9/dist-packages (from pytorch-lightning) (4.65.0)\n",
            "Requirement already satisfied: aiohttp!=4.0.0a0,!=4.0.0a1 in /usr/local/lib/python3.9/dist-packages (from fsspec[http]>2021.06.0->pytorch-lightning) (3.8.4)\n",
            "Requirement already satisfied: requests in /usr/local/lib/python3.9/dist-packages (from fsspec[http]>2021.06.0->pytorch-lightning) (2.27.1)\n",
            "Requirement already satisfied: yarl<2.0,>=1.0 in /usr/local/lib/python3.9/dist-packages (from aiohttp!=4.0.0a0,!=4.0.0a1->fsspec[http]>2021.06.0->pytorch-lightning) (1.8.2)\n",
            "Requirement already satisfied: multidict<7.0,>=4.5 in /usr/local/lib/python3.9/dist-packages (from aiohttp!=4.0.0a0,!=4.0.0a1->fsspec[http]>2021.06.0->pytorch-lightning) (6.0.4)\n",
            "Requirement already satisfied: frozenlist>=1.1.1 in /usr/local/lib/python3.9/dist-packages (from aiohttp!=4.0.0a0,!=4.0.0a1->fsspec[http]>2021.06.0->pytorch-lightning) (1.3.3)\n",
            "Requirement already satisfied: aiosignal>=1.1.2 in /usr/local/lib/python3.9/dist-packages (from aiohttp!=4.0.0a0,!=4.0.0a1->fsspec[http]>2021.06.0->pytorch-lightning) (1.3.1)\n",
            "Requirement already satisfied: async-timeout<5.0,>=4.0.0a3 in /usr/local/lib/python3.9/dist-packages (from aiohttp!=4.0.0a0,!=4.0.0a1->fsspec[http]>2021.06.0->pytorch-lightning) (4.0.2)\n",
            "Requirement already satisfied: charset-normalizer<4.0,>=2.0 in /usr/local/lib/python3.9/dist-packages (from aiohttp!=4.0.0a0,!=4.0.0a1->fsspec[http]>2021.06.0->pytorch-lightning) (2.0.12)\n",
            "Requirement already satisfied: attrs>=17.3.0 in /usr/local/lib/python3.9/dist-packages (from aiohttp!=4.0.0a0,!=4.0.0a1->fsspec[http]>2021.06.0->pytorch-lightning) (22.2.0)\n",
            "Requirement already satisfied: urllib3<1.27,>=1.21.1 in /usr/local/lib/python3.9/dist-packages (from requests->fsspec[http]>2021.06.0->pytorch-lightning) (1.26.15)\n",
            "Requirement already satisfied: certifi>=2017.4.17 in /usr/local/lib/python3.9/dist-packages (from requests->fsspec[http]>2021.06.0->pytorch-lightning) (2022.12.7)\n",
            "Requirement already satisfied: idna<4,>=2.5 in /usr/local/lib/python3.9/dist-packages (from requests->fsspec[http]>2021.06.0->pytorch-lightning) (3.4)\n"
          ]
        }
      ]
    },
    {
      "cell_type": "code",
      "source": [
        "%matplotlib inline\n",
        "import random\n",
        "\n",
        "import cv2\n",
        "import torch\n",
        "import torchvision\n",
        "import numpy as np\n",
        "import pytorch_lightning as pl\n",
        "from matplotlib import pyplot as plt\n",
        "from PIL import Image\n",
        "from torchvision.datasets import VOCSegmentation\n",
        "\n",
        "print(\"Torch\", torch.__version__)\n",
        "\n",
        "USE_CUDA = torch.cuda.is_available()\n",
        "if USE_CUDA:\n",
        "    DEVICE=\"cuda\"\n",
        "    print(\"Use CUDA\")\n",
        "else:\n",
        "    DEVICE=\"cpu\"\n",
        "    \n",
        "# Параметры тренировки и визуализации.\n",
        "TRAIN = True  # Если False, будут использоваться заранее посчитанные графики\n",
        "              # вместо реальной тренировки (полезно для демонстрации на ноутбуках без GPU).\n",
        "\n",
        "def set_figure_size(figsize=(8, 6), dpi=120):\n",
        "    plt.figure(figsize=figsize, dpi=dpi)"
      ],
      "metadata": {
        "colab": {
          "base_uri": "https://localhost:8080/"
        },
        "id": "Shiho2WqXVxH",
        "outputId": "0876a66a-7bfb-4535-fc5f-7efcb148d8f4"
      },
      "execution_count": 4,
      "outputs": [
        {
          "output_type": "stream",
          "name": "stdout",
          "text": [
            "Torch 1.13.1+cu116\n",
            "Use CUDA\n"
          ]
        }
      ]
    },
    {
      "cell_type": "code",
      "source": [
        "DATA_ROOT = \".\"\n",
        "VOC_YEAR = \"2012\"\n",
        "LABELS = [\"background\", \"aeroplane\", \"bicycle\", \"bird\", \"boat\", \"bottle\",\n",
        "          \"bus\", \"car\", \"cat\", \"chair\", \"cow\", \"diningtable\", \"dog\", \"horse\",\n",
        "          \"motorbike\", \"person\", \"potted_plant\", \"sheep\", \"sofa\", \"train\", \"tv/monitor\"]\n",
        "MULTICLASS = False  # Если False, отделяем объекты от фона, иначе распознаем класс объектов.\n",
        "NUM_CLASSES = len(LABELS) if MULTICLASS else 2\n",
        "print(\"Number of classes:\", NUM_CLASSES)"
      ],
      "metadata": {
        "colab": {
          "base_uri": "https://localhost:8080/"
        },
        "id": "XPUZ4w0XXVub",
        "outputId": "936688a9-d432-4500-89b6-606c4c9720b7"
      },
      "execution_count": 5,
      "outputs": [
        {
          "output_type": "stream",
          "name": "stdout",
          "text": [
            "Number of classes: 2\n"
          ]
        }
      ]
    },
    {
      "cell_type": "code",
      "source": [
        "valset_raw = VOCSegmentation(DATA_ROOT, VOC_YEAR, \"val\", download=False)\n",
        "\n",
        "image, mask = valset_raw[random.randint(0, len(valset_raw) - 1)]\n",
        "print(\"Mask values:\", set(np.array(mask).flatten().tolist()))\n",
        "\n",
        "fig, axs = plt.subplots(1, 2)\n",
        "axs[0].imshow(image)\n",
        "axs[1].imshow(mask)\n",
        "plt.show()"
      ],
      "metadata": {
        "colab": {
          "base_uri": "https://localhost:8080/",
          "height": 229
        },
        "id": "rkyK-rynXVsR",
        "outputId": "27d84596-6bd6-4265-ea22-3430b016776a"
      },
      "execution_count": 6,
      "outputs": [
        {
          "output_type": "stream",
          "name": "stdout",
          "text": [
            "Mask values: {0, 19, 255}\n"
          ]
        },
        {
          "output_type": "display_data",
          "data": {
            "text/plain": [
              "<Figure size 640x480 with 2 Axes>"
            ],
            "image/png": "[encoded data removed]"
          },
          "metadata": {}
        }
      ]
    },
    {
      "cell_type": "code",
      "source": [
        "class Scaler(object):\n",
        "\n",
        "    def __init__(self, size):\n",
        "        self._size = size\n",
        "        self._padding = 0\n",
        "    \n",
        "    def set_padding(self, padding):\n",
        "        self._padding = padding\n",
        "        \n",
        "    def __call__(self, image):\n",
        "        if not isinstance(image, np.ndarray):\n",
        "            image = np.array(image)\n",
        "        grayscale = (len(image.shape) == 2)\n",
        "        if grayscale:\n",
        "            image = image[..., None]\n",
        "        rw, rh = self._size\n",
        "        p = self._padding\n",
        "        h, w, c = image.shape\n",
        "        scale_x = rw / w\n",
        "        scale_y = rh / h\n",
        "        scale = min(scale_x, scale_y)\n",
        "        sw = int(scale * w)\n",
        "        sh = int(scale * h)\n",
        "        offset_x = p + (rw - sw) // 2\n",
        "        offset_y = p + (rh - sh) // 2\n",
        "        # Используем zeros на случай маленьких изображений.\n",
        "        result = np.zeros((rh + 2 * p, rw + 2 * p, c), dtype=image.dtype)\n",
        "        cv2.resize(image, (sw, sh),\n",
        "                   interpolation=cv2.INTER_NEAREST if grayscale else cv2.INTER_AREA,\n",
        "                   dst=result[offset_y:offset_y + sh, offset_x:offset_x + sw])\n",
        "\n",
        "        # Отразить.\n",
        "        result[offset_y:offset_y + sh, :offset_x] = result[offset_y:offset_y + sh, offset_x:2 * offset_x][:, ::-1]\n",
        "        offset_end = result.shape[1] - offset_x - sw\n",
        "        result[offset_y:offset_y + sh, offset_x + sw:] = result[offset_y:offset_y + sh, sw + offset_x - offset_end:sw + offset_x][:, ::-1]\n",
        "        \n",
        "        result[:offset_y] = result[offset_y:2 * offset_y][::-1]\n",
        "        offset_end = result.shape[0] - offset_y - sh\n",
        "        result[offset_y + sh:] = result[sh + offset_y - offset_end:sh + offset_y][::-1]\n",
        "        \n",
        "        if grayscale:\n",
        "            result = result[:, :, 0]\n",
        "        return result"
      ],
      "metadata": {
        "id": "NyZBHrRwXoSx"
      },
      "execution_count": 7,
      "outputs": []
    },
    {
      "cell_type": "code",
      "source": [
        "def remove_borders_inplace(mask):\n",
        "    mask[mask == 255] = 0\n",
        "    return mask"
      ],
      "metadata": {
        "id": "E__0eIIhXnvg"
      },
      "execution_count": 8,
      "outputs": []
    },
    {
      "cell_type": "markdown",
      "source": [
        "### Аугментации"
      ],
      "metadata": {
        "id": "rRiL-jJcX_R3"
      }
    },
    {
      "cell_type": "code",
      "source": [
        "from skimage.transform import rotate\n",
        "\n",
        "class AffineAugmenter(object):\n",
        "    def __init__(self, min_scale=0.9, max_offset=0.1, rotate=True):\n",
        "        self._min_scale = min_scale\n",
        "        self._max_offset = max_offset\n",
        "        self._rotate = rotate\n",
        "\n",
        "    def __call__(self, image, mask):\n",
        "        image = np.array(image)  # PIL -> Numpy.\n",
        "        mask = np.array(mask)\n",
        "        h, w, c = image.shape\n",
        "        assert c == 3\n",
        "        if self._rotate:\n",
        "            angle = random.random() * np.pi / 2 - np.pi / 4\n",
        "        else:\n",
        "            angle = 0\n",
        "        scale = self._min_scale + random.random() * (1 - self._min_scale)\n",
        "        rotation = cv2.getRotationMatrix2D(((w // 2), (h // 2)), angle * 180 / np.pi, scale)\n",
        "        x_offset = random.randint(-int(self._max_offset * w), int(self._max_offset * w))\n",
        "        y_offset = random.randint(-int(self._max_offset * h), int(self._max_offset * h))\n",
        "        rotation[:, 2] += [x_offset, y_offset]\n",
        "        new_image = cv2.warpAffine(image, rotation, (w, h), borderValue=(128, 128, 128))\n",
        "        new_mask = cv2.warpAffine(mask, rotation, (w, h), borderValue=(0, 0, 0), flags=cv2.INTER_NEAREST)\n",
        "        return new_image, new_mask  # Numpy -> PIL.\n",
        "\n",
        "\n",
        "class BrightnessContrastAugmenter(object):\n",
        "    def __init__(self, brightness=0.3, contrast=0.3):\n",
        "        self._brightness = brightness\n",
        "        self._contrast = contrast\n",
        "\n",
        "    def __call__(self, image, mask):\n",
        "        image = np.array(image)  # PIL -> Numpy.\n",
        "        h, w, c = image.shape\n",
        "        assert c == 3\n",
        "        brightness = 2 * (random.random() - 0.5) * self._brightness\n",
        "        contrast = 1 + 2 * (random.random() - 0.5) * self._contrast\n",
        "        new_image = image.astype(np.float16)\n",
        "        new_image += 255 * brightness\n",
        "        new_image = (new_image - 128) * contrast + 128\n",
        "        return new_image.clip(0, 255).astype(np.uint8), mask  # Numpy -> PIL.\n",
        "\n",
        "\n",
        "class BlurAugmenter(object):\n",
        "    def __init__(self, max_kernel=5):\n",
        "        self._max_kernel = max_kernel\n",
        "\n",
        "    def __call__(self, image, mask):\n",
        "        kernel = random.randint(0, self._max_kernel // 2) * 2 + 1\n",
        "        if kernel == 1:\n",
        "            return image, mask\n",
        "        image = np.array(image)  # PIL -> Numpy.\n",
        "        h, w, c = image.shape\n",
        "        assert c == 3\n",
        "        new_image = cv2.GaussianBlur(image, (kernel, kernel), sigmaX=kernel / 2)\n",
        "        return new_image.clip(0, 255).astype(np.uint8), mask  # Numpy -> PIL.\n",
        "    \n",
        "    \n",
        "class FlipAugmenter(object):\n",
        "    def __call__(self, image, mask):\n",
        "        a = random.randint(0, 3)\n",
        "        if a == 0:\n",
        "            image = np.flip(image, axis=0)\n",
        "            mask = np.flip(mask, axis=0)\n",
        "        elif a == 1:\n",
        "            image = np.flip(image, axis=0)\n",
        "            mask = np.flip(mask, axis=0)\n",
        "            image = np.flip(image, axis=1)\n",
        "            mask = np.flip(mask, axis=1)\n",
        "        elif a == 2:\n",
        "            image = np.flip(image, axis=1)\n",
        "            mask = np.flip(mask, axis=1)\n",
        "        return image, mask\n",
        "\n",
        "# добавлю свои аугментации: сдвиг + to_gray + поворот\n",
        "\n",
        "class OffsetAugmentation(object):\n",
        "    def __call__(self, image, mask):\n",
        "        image = np.array(image)\n",
        "        mask = np.array(mask)\n",
        "\n",
        "        offset_x = np.random.randint(-50, 50) \n",
        "        offset_y = np.random.randint(-50, 50)\n",
        "\n",
        "        new_image = np.concatenate((image[-offset_x:, :], image[:-offset_x, :]), axis=0)\n",
        "        new_image = np.concatenate((image[:, -offset_y:], image[:, :-offset_y]), axis=1)\n",
        "\n",
        "        new_mask = np.concatenate((mask[-offset_x:, :], mask[:-offset_x, :]), axis=0)\n",
        "        new_mask = np.concatenate((mask[:, -offset_y:], mask[:, :-offset_y]), axis=1)\n",
        "\n",
        "        return new_image.clip(0, 255).astype(np.uint8), new_mask.clip(0, 255).astype(np.uint8)\n",
        "\n",
        "\n",
        "class GrayAugmentation(object):\n",
        "    def __call__(self, image, mask):\n",
        "        new_image = cv2.cvtColor(image, cv2.COLOR_BGR2GRAY)\n",
        "        new_image = new_image[..., None]\n",
        "        new_image = np.concatenate((new_image, new_image, new_image), axis=-1)\n",
        "        return new_image, mask\n",
        "\n",
        "\n",
        "class RotateAugmentation(object):\n",
        "    def __call__(self, image, mask):\n",
        "        angle = np.random.randint(-15, 16)\n",
        "\n",
        "        new_image = rotate(image, angle)\n",
        "        new_mask = rotate(mask, angle)\n",
        "\n",
        "        return new_image, new_mask\n",
        "\n",
        "\n",
        "\n",
        "class RandomAugmentation(object):\n",
        "    def __init__(self, *augmenters):\n",
        "        self._augmenters = list(augmenters)\n",
        "\n",
        "    def __call__(self, image, mask):\n",
        "        augmenter = random.choice(self._augmenters)\n",
        "        return augmenter(image, mask)"
      ],
      "metadata": {
        "id": "svhg9fqXYB7Z"
      },
      "execution_count": 9,
      "outputs": []
    },
    {
      "cell_type": "markdown",
      "source": [
        "### Dataset"
      ],
      "metadata": {
        "id": "eBFSGw2fYLUA"
      }
    },
    {
      "cell_type": "code",
      "source": [
        "def image_to_torch(image, device=None):\n",
        "    \"\"\"Convert Numpy image to Torch tensor.\"\"\"\n",
        "    if isinstance(image, torch.Tensor):\n",
        "        return image\n",
        "    if image.shape[-1] == 4:\n",
        "        image = image[..., :3]\n",
        "    result = torch.from_numpy(np.ascontiguousarray(image))\n",
        "    if device is not None:\n",
        "        result = result.to(device)\n",
        "    #if len(result.shape) == 3:\n",
        "    result = result.permute(2, 0, 1)\n",
        "    return result\n",
        "\n",
        "  \n",
        "def image_to_numpy(image):\n",
        "    \"\"\"Convert Torch tensor to Numpy image.\"\"\"\n",
        "    if isinstance(image, np.ndarray):\n",
        "        return image\n",
        "    if image.dtype == torch.float32:\n",
        "        image = image - image.min()\n",
        "        image = 255 * image / max(1e-6, image.max())\n",
        "    #if len(image.shape) == 3:\n",
        "    return image.to(torch.uint8).permute(1, 2, 0).cpu().numpy()\n",
        "    #return image.to(torch.uint8).cpu().numpy()"
      ],
      "metadata": {
        "id": "opJsOPGhZwtf"
      },
      "execution_count": 10,
      "outputs": []
    },
    {
      "cell_type": "code",
      "source": [
        "class VOCDataset(torch.utils.data.Dataset):\n",
        "    \"\"\"Обертка для стандартного класса, которая форматирует данные.\"\"\"\n",
        "    def __init__(self, root, year, image_size,\n",
        "                 multiclass=MULTICLASS,\n",
        "                 download=False, augment=False,\n",
        "                 train=False, train_fraction=0.8,\n",
        "                 padding=0):\n",
        "        \"\"\"Создать корпус.\n",
        "        \n",
        "        Аргументы:\n",
        "            root: Путь до папки для хранения данных.\n",
        "            year: 2007 или 2012.\n",
        "            image_size: Ширина и высота изображений.\n",
        "            download: Скачать корпус, если он не найден в папке.\n",
        "            augment: Применить аугментации.\n",
        "            train: Выделить train часть, иначе validation.\n",
        "            train_fraction: Доля тренировочных примеров.\n",
        "            padding: Добавить дополнительный зеркальынй паддинг к изображению.\n",
        "        \"\"\"\n",
        "        self._dataset = VOCSegmentation(root, str(year), \"trainval\", download=download)\n",
        "        self._image_size = np.array(image_size)\n",
        "        self._multiclass = multiclass\n",
        "        self._padding = padding\n",
        "        \n",
        "        ids = list(range(len(self._dataset)))\n",
        "        random.seed(0)\n",
        "        random.shuffle(ids)\n",
        "        train_size = int(len(ids) * train_fraction)\n",
        "        self._indices = ids[:train_size] if train else ids[train_size:]\n",
        "\n",
        "        self._image_scaler = Scaler(image_size)\n",
        "        self._mask_scaler = Scaler(image_size)\n",
        "        if augment:\n",
        "          # + мои 3 аугментации\n",
        "            self._augmenter = RandomAugmentation(AffineAugmenter(),\n",
        "                                                 BrightnessContrastAugmenter(),\n",
        "                                                 BlurAugmenter(),\n",
        "                                                 FlipAugmenter(),\n",
        "                                                 OffsetAugmentation(),\n",
        "                                                 RotateAugmentation(),\n",
        "                                                 GrayAugmentation())\n",
        "        else:\n",
        "            self._augmenter = lambda image, mask: (image, mask)\n",
        "        \n",
        "    @property\n",
        "    def image_size(self):\n",
        "        return self._image_size + self._padding * 2\n",
        "    \n",
        "    def set_padding(self, padding):\n",
        "        self._padding = padding\n",
        "        self._image_scaler.set_padding(padding)\n",
        "        self._mask_scaler.set_padding(padding)\n",
        "        \n",
        "    def __len__(self):\n",
        "        return len(self._indices)\n",
        "    \n",
        "    def __getitem__(self, idx):\n",
        "        image, mask = self._dataset[self._indices[idx]]\n",
        "        image = np.asarray(image)\n",
        "        mask = np.array(mask)\n",
        "        remove_borders_inplace(mask)\n",
        "        if not self._multiclass:\n",
        "            mask[mask > 0] = 1\n",
        "        image = self._image_scaler(image)\n",
        "        mask = self._mask_scaler(mask)\n",
        "        image, mask = self._augmenter(image, mask)\n",
        "        image = image_to_torch(image).float() - 0.5\n",
        "        mask = image_to_torch(mask[..., None]).long()[0]\n",
        "        return image, mask\n",
        "\n",
        "IMAGE_SIZE = 512  # В исходной статье U-Net применяется к изображениям размера 572.\n",
        "\n",
        "# Корпус был загружен выше, download = False.\n",
        "trainset = VOCDataset(DATA_ROOT, VOC_YEAR, (IMAGE_SIZE, IMAGE_SIZE),\n",
        "                      multiclass=MULTICLASS, train=True, augment=True)\n",
        "valset = VOCDataset(DATA_ROOT, VOC_YEAR, (IMAGE_SIZE, IMAGE_SIZE),\n",
        "                    multiclass=MULTICLASS, train=False)\n",
        "print(\"Image size:\", IMAGE_SIZE)\n",
        "print(\"Train set size:\", len(trainset))\n",
        "print(\"Validation set size:\", len(valset))"
      ],
      "metadata": {
        "colab": {
          "base_uri": "https://localhost:8080/"
        },
        "id": "-Rr87aiIXVp1",
        "outputId": "4bd24061-34e2-44fa-8a6c-c18cf2cc6290"
      },
      "execution_count": 11,
      "outputs": [
        {
          "output_type": "stream",
          "name": "stdout",
          "text": [
            "Image size: 512\n",
            "Train set size: 2330\n",
            "Validation set size: 583\n"
          ]
        }
      ]
    },
    {
      "cell_type": "code",
      "source": [
        "def show_dataset(dataset):\n",
        "    images = []\n",
        "    masks = []\n",
        "    for _ in range(5):\n",
        "        i = random.randint(0, len(valset) - 1)\n",
        "        if len(images):\n",
        "            separator = np.zeros((dataset.image_size[0], 2, 3), dtype=np.uint8)\n",
        "            images.append(separator)\n",
        "            masks.append(separator[:, :, 0])\n",
        "        image, mask = dataset[i]\n",
        "        images.append(image_to_numpy(image))\n",
        "        masks.append(image_to_numpy(mask[None, ...])[..., 0])\n",
        "\n",
        "    %matplotlib inline\n",
        "    set_figure_size()\n",
        "    plt.imshow(np.concatenate(images, axis=1))\n",
        "    plt.show()\n",
        "    set_figure_size()\n",
        "    plt.imshow(np.concatenate(masks, axis=1))\n",
        "    plt.show()\n",
        "    \n",
        "valset.set_padding(0)\n",
        "show_dataset(trainset)"
      ],
      "metadata": {
        "colab": {
          "base_uri": "https://localhost:8080/",
          "height": 433
        },
        "id": "MQs11idmXVnd",
        "outputId": "c9c2b874-e77a-495d-9d70-ca7c5685b133"
      },
      "execution_count": 12,
      "outputs": [
        {
          "output_type": "display_data",
          "data": {
            "text/plain": [
              "<Figure size 960x720 with 1 Axes>"
            ],
            "image/png": "[encoded data removed]"
          },
          "metadata": {}
        },
        {
          "output_type": "display_data",
          "data": {
            "text/plain": [
              "<Figure size 960x720 with 1 Axes>"
            ],
            "image/png": "[encoded data removed]"
          },
          "metadata": {}
        }
      ]
    },
    {
      "cell_type": "markdown",
      "source": [
        "Кстати тут видно и мои аугментации, первая это to_gray, вторая сдвиг, и 4 поворот"
      ],
      "metadata": {
        "id": "x_oE1LnXIIo1"
      }
    },
    {
      "cell_type": "code",
      "source": [
        "from torch.utils.data import DataLoader"
      ],
      "metadata": {
        "id": "ncGUhUpdIXMp"
      },
      "execution_count": 13,
      "outputs": []
    },
    {
      "cell_type": "code",
      "source": [
        "train_loader = DataLoader(trainset, batch_size=8, shuffle=True, num_workers=4, collate_fn=None, pin_memory=True, drop_last = True)\n",
        "valid_loader = DataLoader(valset, batch_size=8, shuffle=False, num_workers=4, collate_fn=None, pin_memory=True)"
      ],
      "metadata": {
        "colab": {
          "base_uri": "https://localhost:8080/"
        },
        "id": "FfSWOy5h-fTA",
        "outputId": "632d8189-65bc-4956-ff4f-859e4ca031c6"
      },
      "execution_count": 14,
      "outputs": [
        {
          "output_type": "stream",
          "name": "stderr",
          "text": [
            "/usr/local/lib/python3.9/dist-packages/torch/utils/data/dataloader.py:554: UserWarning: This DataLoader will create 4 worker processes in total. Our suggested max number of worker in current system is 2, which is smaller than what this DataLoader is going to create. Please be aware that excessive worker creation might get DataLoader running slow or even freeze, lower the worker number to avoid potential slowness/freeze if necessary.\n",
            "  warnings.warn(_create_warning_msg(\n"
          ]
        }
      ]
    },
    {
      "cell_type": "markdown",
      "source": [
        "### Model"
      ],
      "metadata": {
        "id": "2iLzd9Sbehdu"
      }
    },
    {
      "cell_type": "code",
      "source": [
        "import pytorch_lightning as pl\n",
        "from pytorch_lightning.callbacks import ModelCheckpoint\n",
        "from pytorch_lightning.callbacks.early_stopping import EarlyStopping\n",
        "from timm.scheduler import TanhLRScheduler\n",
        "from pytorch_lightning.callbacks import LearningRateMonitor"
      ],
      "metadata": {
        "id": "MXpNHnwuXVkt"
      },
      "execution_count": 15,
      "outputs": []
    },
    {
      "cell_type": "code",
      "source": [
        "def crop_images(predicted, masks_or_images):\n",
        "    \"\"\"Если выход больше или меньше чем исходное изображение,\n",
        "    вырезать центральную часть из обоих, чтобы размеры совпадали.\n",
        "    \"\"\"\n",
        "    if len(masks_or_images.shape) == 3:\n",
        "        predicted, masks = crop_images(predicted, masks_or_images.unsqueeze(1))\n",
        "        return predicted, masks[:, 0]\n",
        "    images = masks_or_images\n",
        "    if (len(predicted.shape) != 4) or (len(images.shape) != 4):\n",
        "        raise ValueError(\"Expected tensors of shape BCHW\")\n",
        "    bi, ci, hi, wi = images.shape\n",
        "    bp, cp, hp, wp = predicted.shape\n",
        "    offset = (abs(hi - hp) // 2, abs(wi - wp) // 2)\n",
        "    if hp < hi:\n",
        "        images = images[:, :, offset[0]:offset[0] + hp]\n",
        "    else:\n",
        "        predicted = predicted[:, :, offset[0]:offset[0] + hi]\n",
        "    if wp < wi:\n",
        "        images = images[:, :, :, offset[1]:offset[1] + wp]\n",
        "    else:\n",
        "        predicted = predicted[:, :, :, offset[1]:offset[1] + wi]\n",
        "    return predicted, images"
      ],
      "metadata": {
        "id": "wWZunEg4nBLl"
      },
      "execution_count": 16,
      "outputs": []
    },
    {
      "cell_type": "code",
      "source": [
        "class BCELoss(torch.nn.Module):\n",
        "    def __init__(self):\n",
        "        super().__init__()\n",
        "        self._bce = torch.nn.BCEWithLogitsLoss()\n",
        "                \n",
        "    def __call__(self, predicted, masks):\n",
        "        predicted, masks = crop_images(predicted, masks)\n",
        "        b, c, h, w = predicted.shape\n",
        "        if c != 1:\n",
        "            raise ValueError(\"{} не подходит для многоклассовой классификации\".format(type(self)))\n",
        "            \n",
        "        # predicted: float32, BCHW.\n",
        "        # masks: long, BHW.\n",
        "\n",
        "        loss = self._bce(predicted.squeeze(1), masks.float())        \n",
        "        return loss"
      ],
      "metadata": {
        "id": "bVuKZGgmnGt2"
      },
      "execution_count": 33,
      "outputs": []
    },
    {
      "cell_type": "code",
      "source": [
        "class meanIoU(torch.nn.Module):\n",
        "    def __init__(self):\n",
        "        super().__init__()\n",
        "    \n",
        "    def __call__(self, predicted, masks):\n",
        "        predicted, masks = crop_images(predicted, masks)  \n",
        "        predicted = [i.detach().cpu().apply_(lambda x: int(x >= 0.5)).to(torch.long) for i in predicted]      \n",
        "        results = []\n",
        "        for pred, mask in zip(predicted, masks):\n",
        "            pred = pred.to(DEVICE)\n",
        "            results.append(torch.sum(pred & mask).item() / torch.sum(pred | mask).item())\n",
        "        return np.mean(results)\n",
        "\n",
        "class DICELoss(torch.nn.Module):\n",
        "    def __init__(self):\n",
        "        super().__init__()\n",
        "    \n",
        "    def __call__(self, pred, masks):\n",
        "        smooth = 1e-9\n",
        "        pred, masks = crop_images(pred, masks) \n",
        "        N = masks.size(0)\n",
        "        pred_flat = pred.view(N, -1)\n",
        "        masks_flat = masks.view(N, -1)\n",
        "    \n",
        "        intersection = (pred_flat * masks_flat).sum(1)\n",
        "        unionset = pred_flat.sum(1) + masks_flat.sum(1)\n",
        "        loss = 2 * (intersection + smooth) / (unionset + smooth)\n",
        "    \n",
        "        return loss.sum() / N\n",
        " \n",
        "    "
      ],
      "metadata": {
        "id": "XdD311m1pJ9l"
      },
      "execution_count": 36,
      "outputs": []
    },
    {
      "cell_type": "code",
      "source": [
        "from torchvision.models.segmentation import deeplabv3_resnet50"
      ],
      "metadata": {
        "id": "Wm5pfa8E5lON"
      },
      "execution_count": 37,
      "outputs": []
    },
    {
      "cell_type": "code",
      "source": [
        "class SegmentationModel(pl.LightningModule):\n",
        "    def __init__(self, learning_rate):\n",
        "        super().__init__()\n",
        "        self.learning_rate = learning_rate\n",
        "                \n",
        "        self.model = deeplabv3_resnet50(weights=None)\n",
        "        self.model.classifier[-1] = torch.nn.Conv2d(256, 1, kernel_size=(1, 1), stride=(1, 1))\n",
        "        \n",
        "        self.iou = meanIoU()\n",
        "\n",
        "        self.bce_loss = BCELoss()\n",
        "        self.dice_loss = DICELoss()\n",
        "        self.criterion = lambda preds, masks: (self.bce_loss(preds, masks) + self.dice_loss(preds, masks)) #BCELoss()\n",
        "        self.save_hyperparameters()\n",
        "\n",
        "    def training_step(self, batch, batch_idx):\n",
        "        torch.cuda.empty_cache()\n",
        "\n",
        "        images, masks = batch\n",
        "        preds = self.model(images)\n",
        "        loss = self.criterion(preds['out'], masks)\n",
        "        self.log(\"train_loss\", loss)\n",
        "        return loss\n",
        "    \n",
        "    def validation_step(self, batch, batch_idx):\n",
        "        torch.cuda.empty_cache()\n",
        "\n",
        "        images, masks = batch\n",
        "        preds = self.model(images)\n",
        "        loss = self.criterion(preds['out'], masks)\n",
        "        self.log(\"validation_loss\", loss, sync_dist=True)\n",
        "        # IoU metric\n",
        "        self.log(\"validation_IoU\", self.iou(preds['out'], masks), sync_dist=True)\n",
        "        \n",
        "    def forward(self, images):\n",
        "        torch.cuda.empty_cache()\n",
        "\n",
        "        if len(images.shape) == 4:\n",
        "            preds = self.model(images) \n",
        "        else:\n",
        "            preds = self.model(images.unsqueeze(0))\n",
        "        #preds = [i.detach().cpu().apply_(lambda x: int(x >= 0.5)).to(torch.long) for i in preds['out']]\n",
        "        return preds\n",
        "    \n",
        "    def configure_optimizers(self):\n",
        "        optimizer = torch.optim.Adam(self.parameters(), lr=self.learning_rate)\n",
        "        return [optimizer]"
      ],
      "metadata": {
        "id": "n8O7URaDXViO"
      },
      "execution_count": 47,
      "outputs": []
    },
    {
      "cell_type": "code",
      "source": [
        "# model\n",
        "pl_model = SegmentationModel(3e-4)\n",
        "checkpoint_callback = ModelCheckpoint(monitor='validation_IoU',mode='max',  save_top_k=3)\n",
        "last_checkpoint = ModelCheckpoint(mode='max', monitor='time_log', save_top_k=1)\n",
        "\n",
        "early_stopping = EarlyStopping(monitor=\"validation_loss\", mode=\"min\", patience=2)\n",
        "lr_monitor = LearningRateMonitor(logging_interval='step')\n",
        "\n",
        "# train model\n",
        "trainer = pl.Trainer(max_epochs = 5, accelerator=DEVICE, devices = 1, callbacks=[checkpoint_callback, early_stopping, lr_monitor])"
      ],
      "metadata": {
        "colab": {
          "base_uri": "https://localhost:8080/"
        },
        "id": "9qXgtOrD7oDa",
        "outputId": "971c04ce-19ee-47b7-d417-ab266e0ef9b1"
      },
      "execution_count": 48,
      "outputs": [
        {
          "output_type": "stream",
          "name": "stderr",
          "text": [
            "INFO:pytorch_lightning.utilities.rank_zero:GPU available: True (cuda), used: True\n",
            "INFO:pytorch_lightning.utilities.rank_zero:TPU available: False, using: 0 TPU cores\n",
            "INFO:pytorch_lightning.utilities.rank_zero:IPU available: False, using: 0 IPUs\n",
            "INFO:pytorch_lightning.utilities.rank_zero:HPU available: False, using: 0 HPUs\n"
          ]
        }
      ]
    },
    {
      "cell_type": "code",
      "source": [
        "trainer.fit(model=pl_model, train_dataloaders=train_loader, val_dataloaders=valid_loader)"
      ],
      "metadata": {
        "colab": {
          "base_uri": "https://localhost:8080/",
          "height": 329,
          "referenced_widgets": [
            "43ab001458a14877ab9f961ffe958d94",
            "36cc30e1d15a48d3a7109bb1460a1ec5",
            "89ccc5ef7eb5457a910042de57226a00",
            "7d267fac766b47ce97f3e9c6d10439d2",
            "2593546f42be45dd9c75a3c9259d050b",
            "465e2df2fd3f4b8088675af1a20869bc",
            "9a124ec0ab46495fb2d89061c545428e",
            "b79a8c0f71c045acad19807993e462c2",
            "ac97f871d51d4b6c8dcf486c779cdbe9",
            "9e9315f2d2194d56b1b395964cc802a9",
            "c93e763a76f141109bc209b94b3b60b2",
            "8089ee3ff4984e7c9dd7a968c14f8dcf",
            "4a0507a69a0f487fb0bfeba3b9d3c5f3",
            "ded6bd62270c4f3dbe84b8055bf23468",
            "79babec52c4747ddb41d14cfb7662035",
            "305d840288834f36a6938c99724db5b9",
            "88bfa01b697f4cb4ba81263329259dfa",
            "f5a76b63aec446ef8561388e7dd9c47a",
            "04f6433938734e1f86cbbae118d4fecb",
            "fdef91deaf264e1bb06bf994faa5cec7",
            "9108b95647a64aac84cc86191b71231c",
            "6493c6dc80534e54b3b898009cd17e0f",
            "0f7b219b82e24e7d9fcf6c0a59e81950",
            "acacdc1a42f7450ab5c240741404e01f",
            "ba52c573e76d465aabd080a4b0faa301",
            "185d0cb4ffe444d9a16e9ccf12a303e4",
            "9dda33679d124ba39ffbe27aa5d0385a",
            "a6f27be3bb044eacbe0057aac6fecea3",
            "e2260991beb94a759c6b86a555b2f325",
            "446b8cf275714c41a07df5aa892483ea",
            "ad00a8f4033346b991d1656854e1c52f",
            "1f8ad76f654a42f5ba1aa81c41835ebb",
            "153706ef43944e45bfaf32a22877e86b",
            "135d0874ffe0465eaf4962992559cc34",
            "2c001f46275646f2935a2226eee9e371",
            "53c96d433be840cd931085b91c390237",
            "049c64d3d1e742d79474f8104c1c00e2",
            "410e7d280ab54b6891a2b3d57f4fc9a2",
            "7caf1763e58046ba96176df4a34686d9",
            "439ddf4764b94b6db343fdb10b0e700f",
            "c17eee86c968408994c27ea7e009571e",
            "e3afeff6e88c491cb5456211c2273d6b",
            "b451736ef6d84af2b724cb0b9c939ecc",
            "80c7309fa7204c7f80eab5ea8d0d0a3e",
            "6bc96997e6f44f70902da0f4726ec2a0",
            "fbb8a60ae5714f4e9a5787ea19a157a5",
            "bb9c621a786b406cb82654c8f75dc43e",
            "592afc38667a4682b83116c237c092df",
            "98d13b4704c342bf8a3aac1e4975231e",
            "01d140d7f79c4651a64e8b35f6eae617",
            "1bee69f8a8904e80aace148b4db9cebc",
            "b30b66f3722c4abfacc28e98d8d4bf91",
            "0c5ae8ee0dbc4a50a7add06eedb68ee8",
            "969e354b8e204b8dac34fa96b99f7067",
            "c4cf7c8c82b34ecd8a1a0820ca68bfbe"
          ]
        },
        "id": "NBQjBBiq-RI_",
        "outputId": "3f421f5e-c84d-44ad-c1ef-c73ef6d8e0fe"
      },
      "execution_count": null,
      "outputs": [
        {
          "output_type": "stream",
          "name": "stderr",
          "text": [
            "INFO:pytorch_lightning.accelerators.cuda:LOCAL_RANK: 0 - CUDA_VISIBLE_DEVICES: [0]\n",
            "INFO:pytorch_lightning.callbacks.model_summary:\n",
            "  | Name      | Type      | Params\n",
            "----------------------------------------\n",
            "0 | model     | DeepLabV3 | 39.6 M\n",
            "1 | iou       | meanIoU   | 0     \n",
            "2 | bce_loss  | BCELoss   | 0     \n",
            "3 | dice_loss | DICELoss  | 0     \n",
            "----------------------------------------\n",
            "39.6 M    Trainable params\n",
            "0         Non-trainable params\n",
            "39.6 M    Total params\n",
            "158.535   Total estimated model params size (MB)\n"
          ]
        },
        {
          "output_type": "display_data",
          "data": {
            "text/plain": [
              "Sanity Checking: 0it [00:00, ?it/s]"
            ],
            "application/vnd.jupyter.widget-view+json": {
              "version_major": 2,
              "version_minor": 0,
              "model_id": "43ab001458a14877ab9f961ffe958d94"
            }
          },
          "metadata": {}
        },
        {
          "output_type": "stream",
          "name": "stderr",
          "text": [
            "/usr/local/lib/python3.9/dist-packages/torch/utils/data/dataloader.py:554: UserWarning: This DataLoader will create 4 worker processes in total. Our suggested max number of worker in current system is 2, which is smaller than what this DataLoader is going to create. Please be aware that excessive worker creation might get DataLoader running slow or even freeze, lower the worker number to avoid potential slowness/freeze if necessary.\n",
            "  warnings.warn(_create_warning_msg(\n"
          ]
        },
        {
          "output_type": "display_data",
          "data": {
            "text/plain": [
              "Training: 0it [00:00, ?it/s]"
            ],
            "application/vnd.jupyter.widget-view+json": {
              "version_major": 2,
              "version_minor": 0,
              "model_id": "8089ee3ff4984e7c9dd7a968c14f8dcf"
            }
          },
          "metadata": {}
        },
        {
          "output_type": "display_data",
          "data": {
            "text/plain": [
              "Validation: 0it [00:00, ?it/s]"
            ],
            "application/vnd.jupyter.widget-view+json": {
              "version_major": 2,
              "version_minor": 0,
              "model_id": "0f7b219b82e24e7d9fcf6c0a59e81950"
            }
          },
          "metadata": {}
        },
        {
          "output_type": "display_data",
          "data": {
            "text/plain": [
              "Validation: 0it [00:00, ?it/s]"
            ],
            "application/vnd.jupyter.widget-view+json": {
              "version_major": 2,
              "version_minor": 0,
              "model_id": "135d0874ffe0465eaf4962992559cc34"
            }
          },
          "metadata": {}
        },
        {
          "output_type": "display_data",
          "data": {
            "text/plain": [
              "Validation: 0it [00:00, ?it/s]"
            ],
            "application/vnd.jupyter.widget-view+json": {
              "version_major": 2,
              "version_minor": 0,
              "model_id": "6bc96997e6f44f70902da0f4726ec2a0"
            }
          },
          "metadata": {}
        }
      ]
    },
    {
      "cell_type": "code",
      "source": [
        "trainer.validate(model=pl_model, dataloaders=valid_loader)"
      ],
      "metadata": {
        "id": "M9MYo-PncjxZ"
      },
      "execution_count": null,
      "outputs": []
    },
    {
      "cell_type": "code",
      "source": [
        "# model = deeplabv3_resnet50(weights=None)\n",
        "# model.classifier[-1] = torch.nn.Conv2d(256, 1, kernel_size=(1, 1), stride=(1, 1))\n",
        "\n",
        "# images, masks = next(iter(train_loader))\n",
        "# print(images.shape, masks.shape)\n",
        "\n",
        "# torch.cuda.empty_cache()\n",
        "\n",
        "# model.to(DEVICE)\n",
        "# pred = model(images.to(DEVICE))"
      ],
      "metadata": {
        "id": "w7q3kGDo-RGD"
      },
      "execution_count": null,
      "outputs": []
    },
    {
      "cell_type": "code",
      "source": [
        "def show_segmentations(model, dataset, n=5):\n",
        "    model.eval()\n",
        "    if USE_CUDA:\n",
        "        model.cuda()\n",
        "    for _ in range(n):\n",
        "        image, mask_gt = dataset[random.randint(0, len(dataset) - 1)]\n",
        "        if USE_CUDA:\n",
        "            image = image.cuda()\n",
        "            mask_gt = mask_gt.cuda()\n",
        "        with torch.no_grad():\n",
        "            predicted = model(image.unsqueeze(0))['out'][0]  # CHW.\n",
        "            predicted, image = crop_images(predicted.unsqueeze(0), image.unsqueeze(0))\n",
        "            predicted, image = predicted[0], image[0]\n",
        "            c = predicted.shape[0]\n",
        "            if c == 1:\n",
        "                predicted = torch.nn.functional.logsigmoid(predicted)\n",
        "                aggregated = predicted[0]\n",
        "                predicted_labels = predicted[0] > np.log(0.5)\n",
        "            else:\n",
        "                predicted = torch.nn.functional.log_softmax(predicted, 0)\n",
        "                aggregated = torch.logsumexp(predicted[1:], axis=0)\n",
        "                predicted_labels = predicted.max(0)[1]\n",
        "        aggregated = aggregated.cpu().numpy()\n",
        "        predicted_labels = predicted_labels.cpu().numpy().astype(np.uint8)\n",
        "        image = image_to_numpy(image)\n",
        "        mask = (predicted_labels > 0)[..., None]\n",
        "        selected = image * mask + 255 * (1 - mask)\n",
        "\n",
        "        %matplotlib inline\n",
        "        if c != 1:\n",
        "            print(\"Classes:\", [LABELS[i] for i in set(predicted_labels.flatten().tolist())])\n",
        "        set_figure_size()\n",
        "        fig, axs = plt.subplots(1, 4, figsize=(12, 6))\n",
        "        axs[0].imshow(image)\n",
        "        axs[1].imshow(predicted_labels)\n",
        "        axs[2].imshow(aggregated)\n",
        "        axs[3].imshow(selected)\n",
        "        plt.show()"
      ],
      "metadata": {
        "id": "x0SYhOYYbxke"
      },
      "execution_count": null,
      "outputs": []
    },
    {
      "cell_type": "code",
      "source": [
        "show_segmentations(pl_model, valset)"
      ],
      "metadata": {
        "id": "qydmgVIz-RD-"
      },
      "execution_count": null,
      "outputs": []
    },
    {
      "cell_type": "code",
      "source": [],
      "metadata": {
        "id": "P_8BR-3mL6No"
      },
      "execution_count": null,
      "outputs": []
    },
    {
      "cell_type": "code",
      "source": [],
      "metadata": {
        "id": "ldBFdUsbK4AO"
      },
      "execution_count": null,
      "outputs": []
    },
    {
      "cell_type": "code",
      "source": [],
      "metadata": {
        "id": "UpBos6ajNUE_"
      },
      "execution_count": null,
      "outputs": []
    }
  ]
}