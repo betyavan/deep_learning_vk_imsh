{
 "cells": [
  {
   "cell_type": "code",
   "execution_count": 1,
   "id": "8cc148dc-d83d-4c32-bbb0-3ffd82ba4e98",
   "metadata": {},
   "outputs": [],
   "source": [
    "import numpy as np\n",
    "import pandas as pd\n",
    "import matplotlib.pyplot as plt\n",
    "\n",
    "from sklearn.linear_model import LinearRegression\n",
    "from sklearn.model_selection import train_test_split\n",
    "from sklearn.metrics import r2_score\n",
    "from sklearn.preprocessing import MinMaxScaler\n",
    "\n",
    "%matplotlib inline"
   ]
  },
  {
   "cell_type": "markdown",
   "id": "e3a06e1e-3bc0-4667-84f3-7e86698c3737",
   "metadata": {},
   "source": [
    "# Загружаем выборку Diamonds"
   ]
  },
  {
   "cell_type": "markdown",
   "id": "c731a143-3dc9-43e7-96f5-b1eff9093345",
   "metadata": {},
   "source": [
    "1. PRICE: price in US dollars (326-18,823)\n",
    "2. CARAT: weight of the diamond (0.2--5.01)\n",
    "3. CUT: quality of the cut (Fair, Good, Very Good, Premium, Ideal)\n",
    "4. COLOR: diamond colour, from J (worst) to D (best)\n",
    "5. CLARITY: a measurement of how clear the diamond is (I1 (worst), SI2, SI1, VS2, VS1, VVS2, VVS1, IF (best))\n",
    "6. X: length in mm (0--10.74)\n",
    "7. Y: width in mm (0--58.9)\n",
    "8. Z: depth in mm (0--31.8)\n",
    "9. DEPTH: total depth percentage = z / mean(x, y) = 2 * z / (x + y) (43--79)\n",
    "10. TABLE: width of top of diamond relative to widest point (43--95)"
   ]
  },
  {
   "cell_type": "code",
   "execution_count": 2,
   "id": "0f24cf86-653a-422b-9df1-8029fdccf153",
   "metadata": {},
   "outputs": [],
   "source": [
    "diamonds_df = pd.read_csv('diamonds.csv')"
   ]
  },
  {
   "cell_type": "code",
   "execution_count": 3,
   "id": "70d9ccfe-e1cf-4c90-a5ab-40ae0852f1ce",
   "metadata": {},
   "outputs": [
    {
     "data": {
      "text/html": [
       "<div>\n",
       "<style scoped>\n",
       "    .dataframe tbody tr th:only-of-type {\n",
       "        vertical-align: middle;\n",
       "    }\n",
       "\n",
       "    .dataframe tbody tr th {\n",
       "        vertical-align: top;\n",
       "    }\n",
       "\n",
       "    .dataframe thead th {\n",
       "        text-align: right;\n",
       "    }\n",
       "</style>\n",
       "<table border=\"1\" class=\"dataframe\">\n",
       "  <thead>\n",
       "    <tr style=\"text-align: right;\">\n",
       "      <th></th>\n",
       "      <th>Unnamed: 0</th>\n",
       "      <th>carat</th>\n",
       "      <th>cut</th>\n",
       "      <th>color</th>\n",
       "      <th>clarity</th>\n",
       "      <th>depth</th>\n",
       "      <th>table</th>\n",
       "      <th>price</th>\n",
       "      <th>x</th>\n",
       "      <th>y</th>\n",
       "      <th>z</th>\n",
       "    </tr>\n",
       "  </thead>\n",
       "  <tbody>\n",
       "    <tr>\n",
       "      <th>0</th>\n",
       "      <td>1</td>\n",
       "      <td>0.23</td>\n",
       "      <td>Ideal</td>\n",
       "      <td>E</td>\n",
       "      <td>SI2</td>\n",
       "      <td>61.5</td>\n",
       "      <td>55.0</td>\n",
       "      <td>326</td>\n",
       "      <td>3.95</td>\n",
       "      <td>3.98</td>\n",
       "      <td>2.43</td>\n",
       "    </tr>\n",
       "    <tr>\n",
       "      <th>1</th>\n",
       "      <td>2</td>\n",
       "      <td>0.21</td>\n",
       "      <td>Premium</td>\n",
       "      <td>E</td>\n",
       "      <td>SI1</td>\n",
       "      <td>59.8</td>\n",
       "      <td>61.0</td>\n",
       "      <td>326</td>\n",
       "      <td>3.89</td>\n",
       "      <td>3.84</td>\n",
       "      <td>2.31</td>\n",
       "    </tr>\n",
       "    <tr>\n",
       "      <th>2</th>\n",
       "      <td>3</td>\n",
       "      <td>0.23</td>\n",
       "      <td>Good</td>\n",
       "      <td>E</td>\n",
       "      <td>VS1</td>\n",
       "      <td>56.9</td>\n",
       "      <td>65.0</td>\n",
       "      <td>327</td>\n",
       "      <td>4.05</td>\n",
       "      <td>4.07</td>\n",
       "      <td>2.31</td>\n",
       "    </tr>\n",
       "    <tr>\n",
       "      <th>3</th>\n",
       "      <td>4</td>\n",
       "      <td>0.29</td>\n",
       "      <td>Premium</td>\n",
       "      <td>I</td>\n",
       "      <td>VS2</td>\n",
       "      <td>62.4</td>\n",
       "      <td>58.0</td>\n",
       "      <td>334</td>\n",
       "      <td>4.20</td>\n",
       "      <td>4.23</td>\n",
       "      <td>2.63</td>\n",
       "    </tr>\n",
       "    <tr>\n",
       "      <th>4</th>\n",
       "      <td>5</td>\n",
       "      <td>0.31</td>\n",
       "      <td>Good</td>\n",
       "      <td>J</td>\n",
       "      <td>SI2</td>\n",
       "      <td>63.3</td>\n",
       "      <td>58.0</td>\n",
       "      <td>335</td>\n",
       "      <td>4.34</td>\n",
       "      <td>4.35</td>\n",
       "      <td>2.75</td>\n",
       "    </tr>\n",
       "  </tbody>\n",
       "</table>\n",
       "</div>"
      ],
      "text/plain": [
       "   Unnamed: 0  carat      cut color clarity  depth  table  price     x     y  \\\n",
       "0           1   0.23    Ideal     E     SI2   61.5   55.0    326  3.95  3.98   \n",
       "1           2   0.21  Premium     E     SI1   59.8   61.0    326  3.89  3.84   \n",
       "2           3   0.23     Good     E     VS1   56.9   65.0    327  4.05  4.07   \n",
       "3           4   0.29  Premium     I     VS2   62.4   58.0    334  4.20  4.23   \n",
       "4           5   0.31     Good     J     SI2   63.3   58.0    335  4.34  4.35   \n",
       "\n",
       "      z  \n",
       "0  2.43  \n",
       "1  2.31  \n",
       "2  2.31  \n",
       "3  2.63  \n",
       "4  2.75  "
      ]
     },
     "execution_count": 3,
     "metadata": {},
     "output_type": "execute_result"
    }
   ],
   "source": [
    "diamonds_df.head()"
   ]
  },
  {
   "cell_type": "code",
   "execution_count": 4,
   "id": "fad21c95-f542-44ec-8f06-8f57fd42ddef",
   "metadata": {},
   "outputs": [
    {
     "data": {
      "image/png": "[encoded data removed]",
      "text/plain": [
       "<Figure size 432x288 with 1 Axes>"
      ]
     },
     "metadata": {
      "needs_background": "light"
     },
     "output_type": "display_data"
    }
   ],
   "source": [
    "plt.hist(diamonds_df['price'], bins=100)\n",
    "plt.grid();"
   ]
  },
  {
   "cell_type": "markdown",
   "id": "17ac44bb-86c7-424a-8b9b-0a21bf490683",
   "metadata": {},
   "source": [
    "# Подготовка данных"
   ]
  },
  {
   "cell_type": "code",
   "execution_count": 5,
   "id": "e19945ea-cecf-481e-a28b-3f9c11001918",
   "metadata": {},
   "outputs": [],
   "source": [
    "features = ['carat', 'cut', 'color', 'clarity', 'depth', 'table', 'x', 'y', 'z']\n",
    "target = ['price']"
   ]
  },
  {
   "cell_type": "code",
   "execution_count": 6,
   "id": "fbc43eb0-e77f-4765-8b0e-b9052c093855",
   "metadata": {},
   "outputs": [],
   "source": [
    "cut_transform = {'Fair': 0, 'Good': 1, 'Very Good': 2, 'Premium': 3, 'Ideal': 4}\n",
    "clarity_transform = {'I1': 0, 'SI2': 1, 'SI1': 2, 'VS2': 3, 'VS1': 4, 'VVS2': 5, 'VVS1': 6, 'IF': 7}\n",
    "color_transorm = {'D': 0, 'E': 1, 'F': 2, 'G': 3, 'H': 4, 'I': 5, 'J': 6}"
   ]
  },
  {
   "cell_type": "code",
   "execution_count": 7,
   "id": "6f82b34f-9ffc-478f-a103-b2cbbca49a94",
   "metadata": {},
   "outputs": [],
   "source": [
    "diamonds_df['cut'] = diamonds_df['cut'].apply(lambda x: cut_transform.get(x))\n",
    "diamonds_df['color'] = diamonds_df['color'].apply(lambda x: color_transorm.get(x))\n",
    "diamonds_df['clarity'] = diamonds_df['clarity'].apply(lambda x: clarity_transform.get(x))"
   ]
  },
  {
   "cell_type": "code",
   "execution_count": 8,
   "id": "8e5fa82b-92ed-4e79-adf2-422204b45e82",
   "metadata": {},
   "outputs": [],
   "source": [
    "X = diamonds_df[features].copy().values\n",
    "y = diamonds_df[target].values"
   ]
  },
  {
   "cell_type": "code",
   "execution_count": 9,
   "id": "baafcd96-b32e-469e-b354-fa0aba09db8f",
   "metadata": {},
   "outputs": [],
   "source": [
    "scaler = MinMaxScaler()\n",
    "X = scaler.fit_transform(X)"
   ]
  },
  {
   "cell_type": "code",
   "execution_count": 10,
   "id": "64c11d68-dc5c-4753-9cc4-3cc4e136f3cb",
   "metadata": {},
   "outputs": [],
   "source": [
    "X_train, X_test, y_train, y_test = train_test_split(X, y, random_state=47, test_size=0.3)"
   ]
  },
  {
   "cell_type": "markdown",
   "id": "3b743ed1-d0cf-485d-b8f2-8c71fc174e8b",
   "metadata": {},
   "source": [
    "# Обучаем модель линейной регрессии"
   ]
  },
  {
   "cell_type": "code",
   "execution_count": 11,
   "id": "0068e36f-040e-4aa3-bb06-88aa95051478",
   "metadata": {},
   "outputs": [],
   "source": [
    "reg = LinearRegression().fit(X_train, y_train)"
   ]
  },
  {
   "cell_type": "code",
   "execution_count": 12,
   "id": "f968e336-4049-41b2-81d1-4c24f0969bbb",
   "metadata": {},
   "outputs": [],
   "source": [
    "y_pred = reg.predict(X_test)"
   ]
  },
  {
   "cell_type": "code",
   "execution_count": 13,
   "id": "0952990a-b3d6-4da4-9cc6-1ab3a7a25ac7",
   "metadata": {},
   "outputs": [],
   "source": [
    "score = r2_score(y_pred, y_test)"
   ]
  },
  {
   "cell_type": "code",
   "execution_count": 14,
   "id": "f89c3bbd-0a3a-48ac-b1ab-b75dc0c5bcce",
   "metadata": {},
   "outputs": [
    {
     "data": {
      "image/png": "[encoded data removed]",
      "text/plain": [
       "<Figure size 432x288 with 1 Axes>"
      ]
     },
     "metadata": {
      "needs_background": "light"
     },
     "output_type": "display_data"
    }
   ],
   "source": [
    "plt.title(f'R2: {str(score)[:5]}')\n",
    "plt.hist(y_pred.reshape(1, -1)[0], bins=100, label='PREDICTION')\n",
    "plt.hist(y_test.reshape(1, -1)[0], bins=100, label='GT')\n",
    "plt.legend()\n",
    "plt.grid();"
   ]
  },
  {
   "cell_type": "markdown",
   "id": "7886f8b7-ba2e-4fde-8b91-f815ea961fe5",
   "metadata": {},
   "source": [
    "# Создаём модель MLP для задачи регрессии"
   ]
  },
  {
   "cell_type": "code",
   "execution_count": 15,
   "id": "870f21e8",
   "metadata": {},
   "outputs": [],
   "source": [
    "def sigmoid(x: np.array):\n",
    "    return 1 / (1 + np.exp(-x))"
   ]
  },
  {
   "cell_type": "code",
   "execution_count": 25,
   "id": "cb9dfbf9",
   "metadata": {},
   "outputs": [
    {
     "data": {
      "text/plain": [
       "[4, 3, 2, 1]"
      ]
     },
     "execution_count": 25,
     "metadata": {},
     "output_type": "execute_result"
    }
   ],
   "source": [
    "a = [1, 2, 3, 4, 5]\n",
    "a[::-1][1:]"
   ]
  },
  {
   "cell_type": "code",
   "execution_count": 40,
   "id": "51b7ef93-763a-4617-98e4-c2c98e2a12a5",
   "metadata": {},
   "outputs": [],
   "source": [
    "class MLPRegressor:\n",
    "    def __init__(\n",
    "        self,\n",
    "        hidden_layer_sizes=(100,),\n",
    "        learning_rate=0.001,\n",
    "        max_iter=10,\n",
    "    ):\n",
    "        self.sizes = hidden_layer_sizes\n",
    "        self.lr = learning_rate\n",
    "        self.W = [np.random.randn(self.sizes[i], self.sizes[i+1]) * 0.01\n",
    "                                 for i in range(len(self.sizes) - 1)]\n",
    "        self.b = [np.zeros(self.sizes[i]) for i in range(1, len(self.sizes))]\n",
    "        self.max_iter = max_iter\n",
    "    \n",
    "    \n",
    "    def train(self, X, y):\n",
    "        for _ in range(self.max_iter):\n",
    "            outputs = [X]\n",
    "            for w, b in zip(self.W, self.b):\n",
    "                X = X.dot(w) + b\n",
    "                outputs.append(X)\n",
    "            dLdy = 2 * (X - y)\n",
    "            for i in range(len(self.W) - 1, -1, -1):\n",
    "                dLdW = outputs[i].T.dot(dLdy)\n",
    "                dLdb = dLdy.sum(0)\n",
    "                dLdy = dLdy.dot(self.W[i].T)\n",
    "                \n",
    "                self.W[i] -= self.lr * dLdW\n",
    "                self.b[i] -= self.lr * dLdb\n",
    "            \n",
    "            \n",
    "                \n",
    "#             inputs = np.array(X, ndmin=2).T\n",
    "#             hiden_outputs = [inputs] # left to right\n",
    "#             for w in self.weights_matrixes:\n",
    "#                 inputs = sigmoid(np.dot(w, inputs))\n",
    "#                 hiden_outputs.append(inputs)\n",
    "#             targets = np.array(y, ndmin=2).T\n",
    "#             output_error = targets - hiden_outputs[-1]\n",
    "#             errors = [] # right to left\n",
    "#             for w in self.weights_matrixes[::-1]:\n",
    "#                 errors.append(output_error)\n",
    "#                 output_error = np.dot(w.T, output_error)\n",
    "#             errors = errors[::-1]\n",
    "#             for i in range(len(self.weights_matrixes)):\n",
    "#                 delta_w = self.lr * np.dot(errors[i] * hiden_outputs[i + 1] *\n",
    "#                                                            (1.0 - hiden_outputs[i + 1]), hiden_outputs[i].T)\n",
    "#                 self.weights_matrixes[i] += delta_w\n",
    "            \n",
    "    def predict(self, X):\n",
    "        for w, b in zip(self.W, self.b):\n",
    "            X = X.dot(w) + b\n",
    "        return X"
   ]
  },
  {
   "cell_type": "markdown",
   "id": "2afb2d95-c521-406d-b601-0baf84cb4a54",
   "metadata": {},
   "source": [
    "# Проверяем модель MLP на выборке Diamonds"
   ]
  },
  {
   "cell_type": "code",
   "execution_count": 41,
   "id": "7a0246fd",
   "metadata": {},
   "outputs": [
    {
     "data": {
      "text/plain": [
       "(37758, 9)"
      ]
     },
     "execution_count": 41,
     "metadata": {},
     "output_type": "execute_result"
    }
   ],
   "source": [
    "X_train.shape"
   ]
  },
  {
   "cell_type": "code",
   "execution_count": 42,
   "id": "2df8e839-fb8e-4cf7-84de-5637609bfbbb",
   "metadata": {},
   "outputs": [],
   "source": [
    "model = MLPRegressor(hidden_layer_sizes=(9, 100, 1), max_iter=1)\n",
    "model.train(X_train, y_train)\n",
    "y_pred = model.predict(X_test)"
   ]
  },
  {
   "cell_type": "code",
   "execution_count": 43,
   "id": "7138ca3f",
   "metadata": {},
   "outputs": [
    {
     "data": {
      "text/plain": [
       "-447645141.9603707"
      ]
     },
     "execution_count": 43,
     "metadata": {},
     "output_type": "execute_result"
    }
   ],
   "source": [
    "score = r2_score(y_test, y_pred)\n",
    "score"
   ]
  },
  {
   "cell_type": "code",
   "execution_count": 44,
   "id": "1332993d",
   "metadata": {},
   "outputs": [
    {
     "data": {
      "image/png": "[encoded data removed]",
      "text/plain": [
       "<Figure size 432x288 with 1 Axes>"
      ]
     },
     "metadata": {
      "needs_background": "light"
     },
     "output_type": "display_data"
    }
   ],
   "source": [
    "plt.title(f'R2: {str(score)[:5]}')\n",
    "plt.hist(y_pred.reshape(1, -1)[0], bins=100, label='PREDICTION')\n",
    "plt.hist(y_test.reshape(1, -1)[0], bins=100, label='GT')\n",
    "plt.ylim(top=2000)\n",
    "plt.legend()\n",
    "plt.grid();"
   ]
  },
  {
   "cell_type": "markdown",
   "id": "68722562",
   "metadata": {},
   "source": [
    "# MNIST"
   ]
  },
  {
   "cell_type": "markdown",
   "id": "ec0cabb3",
   "metadata": {},
   "source": [
    "Посмотрим, как справляется с задачей классификации"
   ]
  },
  {
   "cell_type": "code",
   "execution_count": 33,
   "id": "5f5765e8",
   "metadata": {},
   "outputs": [
    {
     "data": {
      "text/plain": [
       "array([[5., 0., 0., ..., 0., 0., 0.],\n",
       "       [0., 0., 0., ..., 0., 0., 0.],\n",
       "       [4., 0., 0., ..., 0., 0., 0.],\n",
       "       [1., 0., 0., ..., 0., 0., 0.],\n",
       "       [9., 0., 0., ..., 0., 0., 0.]])"
      ]
     },
     "execution_count": 33,
     "metadata": {},
     "output_type": "execute_result"
    }
   ],
   "source": [
    "train_data = np.loadtxt(\"mnist_dataset/mnist_train.csv\", delimiter=',')\n",
    "train_data[:5]"
   ]
  },
  {
   "cell_type": "code",
   "execution_count": 34,
   "id": "f972a70a",
   "metadata": {},
   "outputs": [],
   "source": [
    "nn = MLPRegressor(hidden_layer_sizes=(784, 100, 10))"
   ]
  },
  {
   "cell_type": "code",
   "execution_count": 35,
   "id": "c485a188",
   "metadata": {},
   "outputs": [
    {
     "name": "stdout",
     "output_type": "stream",
     "text": [
      "0\n",
      "1000\n",
      "2000\n",
      "3000\n",
      "4000\n",
      "5000\n",
      "6000\n",
      "7000\n",
      "8000\n",
      "9000\n",
      "10000\n",
      "11000\n",
      "12000\n",
      "13000\n",
      "14000\n",
      "15000\n",
      "16000\n",
      "17000\n",
      "18000\n",
      "19000\n",
      "20000\n",
      "21000\n",
      "22000\n",
      "23000\n",
      "24000\n",
      "25000\n",
      "26000\n",
      "27000\n",
      "28000\n",
      "29000\n",
      "30000\n",
      "31000\n",
      "32000\n",
      "33000\n",
      "34000\n",
      "35000\n",
      "36000\n",
      "37000\n",
      "38000\n",
      "39000\n",
      "40000\n",
      "41000\n",
      "42000\n",
      "43000\n",
      "44000\n",
      "45000\n",
      "46000\n",
      "47000\n",
      "48000\n",
      "49000\n",
      "50000\n",
      "51000\n",
      "52000\n",
      "53000\n",
      "54000\n",
      "55000\n",
      "56000\n",
      "57000\n",
      "58000\n",
      "59000\n"
     ]
    }
   ],
   "source": [
    "X_train = train_data[:, 1:] / 255.0 * 0.99 + 0.01\n",
    "for i, x in enumerate(X_train):\n",
    "    if i%1000==0:\n",
    "        print(i)\n",
    "    targets = np.zeros(10) + 0.01\n",
    "    targets[int(train_data[i, 0])] = 0.99\n",
    "    nn.train(x, targets)"
   ]
  },
  {
   "cell_type": "code",
   "execution_count": 36,
   "id": "1c84ccc3",
   "metadata": {},
   "outputs": [
    {
     "data": {
      "text/plain": [
       "array([[7., 0., 0., ..., 0., 0., 0.],\n",
       "       [2., 0., 0., ..., 0., 0., 0.],\n",
       "       [1., 0., 0., ..., 0., 0., 0.],\n",
       "       [0., 0., 0., ..., 0., 0., 0.],\n",
       "       [4., 0., 0., ..., 0., 0., 0.]])"
      ]
     },
     "execution_count": 36,
     "metadata": {},
     "output_type": "execute_result"
    }
   ],
   "source": [
    "test_data = np.loadtxt(\"mnist_dataset/mnist_test.csv\", delimiter=',')\n",
    "test_data[:5]"
   ]
  },
  {
   "cell_type": "code",
   "execution_count": 37,
   "id": "46c554c2",
   "metadata": {},
   "outputs": [],
   "source": [
    "X_test = test_data[:, 1:] / 255.0 * 0.99 + 0.01\n",
    "y_test = test_data[:, 0]"
   ]
  },
  {
   "cell_type": "code",
   "execution_count": 38,
   "id": "db4a7670",
   "metadata": {},
   "outputs": [],
   "source": [
    "y_pred = nn.predict(X_test).argmax(axis=1)"
   ]
  },
  {
   "cell_type": "code",
   "execution_count": 39,
   "id": "c5df0f40",
   "metadata": {},
   "outputs": [
    {
     "data": {
      "text/plain": [
       "0.9169"
      ]
     },
     "execution_count": 39,
     "metadata": {},
     "output_type": "execute_result"
    }
   ],
   "source": [
    "accuracy_score(y_test, y_pred)"
   ]
  },
  {
   "cell_type": "code",
   "execution_count": null,
   "id": "986b422f",
   "metadata": {},
   "outputs": [],
   "source": []
  }
 ],
 "metadata": {
  "kernelspec": {
   "display_name": "Python 3 (ipykernel)",
   "language": "python",
   "name": "python3"
  },
  "language_info": {
   "codemirror_mode": {
    "name": "ipython",
    "version": 3
   },
   "file_extension": ".py",
   "mimetype": "text/x-python",
   "name": "python",
   "nbconvert_exporter": "python",
   "pygments_lexer": "ipython3",
   "version": "3.9.7"
  }
 },
 "nbformat": 4,
 "nbformat_minor": 5
}
