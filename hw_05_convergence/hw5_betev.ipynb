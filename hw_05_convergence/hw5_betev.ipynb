{
 "cells": [
  {
   "cell_type": "markdown",
   "metadata": {
    "id": "bn27NI7zaf9Z"
   },
   "source": [
    "## Семинар 5: \"Улучшение сходимости нейросетей\""
   ]
  },
  {
   "cell_type": "markdown",
   "metadata": {
    "id": "kY9vse7waf9b"
   },
   "source": [
    "ФИО: Бетев Иван"
   ]
  },
  {
   "cell_type": "code",
   "execution_count": 1,
   "metadata": {
    "id": "JdEAkdunaf9d"
   },
   "outputs": [],
   "source": [
    "import numpy as np\n",
    "from sklearn.model_selection import train_test_split\n",
    "import matplotlib.pyplot as plt\n",
    "import torch\n",
    "from torch import nn\n",
    "import torch.nn.functional as F\n",
    "from torch.autograd import Variable\n",
    "from torch.utils.data import DataLoader\n",
    "from torchvision.datasets import MNIST\n",
    "from torchvision import transforms\n",
    "%matplotlib inline"
   ]
  },
  {
   "cell_type": "markdown",
   "metadata": {
    "id": "iIgr4r2Haf9l"
   },
   "source": [
    "На этом семинаре мы попробуем улучшить результаты, полученные на предыдущем занятии\n",
    "Для этого нам понадобятся следующие вещи:\n",
    "* Dropout\n",
    "* Batch Normalization\n",
    "* Инициализация весов"
   ]
  },
  {
   "cell_type": "markdown",
   "metadata": {
    "id": "CZHtxmbUaf9m"
   },
   "source": [
    "### Часть 1: Инициализация весов (1 балл)"
   ]
  },
  {
   "cell_type": "markdown",
   "metadata": {
    "id": "W8dhNr-faf9n"
   },
   "source": [
    "На лекции доказывалось, что при инициализации He и Glorot дисперсия активаций градиентов в каждом слое будут примерно равны. Давайте проверим это. "
   ]
  },
  {
   "cell_type": "code",
   "execution_count": 2,
   "metadata": {
    "colab": {
     "base_uri": "https://localhost:8080/",
     "height": 423,
     "referenced_widgets": [
      "cf09cd6c294e4b84a0e8a956bcfcbc4f",
      "ff3dc472dd53414aa7d303612cc013ab",
      "ef59a6d533594f78b2fd727210b2b5f0",
      "69573df96eef4713b92869cdfa762128",
      "447c8cda20cd4711825304d7cd2b1595",
      "473d389b73ad4594af4705bbef586bef",
      "b3e083551c5841b6b095c5f38292059b",
      "fe85d7d63d774a56b61b285c8adec540",
      "1aaae6bc84ca4095850eb1243db05ebd",
      "28d9e018f10c44318f3c90482b0f1124",
      "583e081c105141ccb05d1ddffa65f7c7",
      "846359bd7ac1494785ed602d61196a6a",
      "1df38775131d4038bfc8fcc93f89d6dd",
      "ecaaa596af4e4fc9a0e8c9a5a7016ad2",
      "719f9b376c78444798e8bca332550bfa",
      "04a10ff31872486daa3af290d98aab44",
      "10d1a185c75e4111a7aee513de086874",
      "e71a8ead4cae47ac817eacd3246d79e2",
      "468b1179f24e444d8eb12d23fd119b50",
      "08155d513c5749cf8081b05854bbd454",
      "1fb647c619304e8c95e440e90aa1f38b",
      "d638b307b71248e98fe6e2a946ee83e1",
      "66c87db830b047bfb8064f4e1daa9b96",
      "ece16d91210448fa8e86651bcb934b8e",
      "4596a702e9e240cd9bacc5fc8f9443ff",
      "c9f756dff9444dee8e921a4925ed6eea",
      "9073ed8164b64239a189e3c88569f0dc",
      "c7dab18d51bd4db0af9805880202d288",
      "becda23ade134bfa9d8c42b3c3812f12",
      "a6323331657d4feb825473dee8e4f553",
      "73bcfb50afb44982ab9fac59fe47a2fd",
      "e40e785625084f7d9697603962bdb7f4",
      "362905698053407d931408ad9e7beed1",
      "cd2ca4e3911849ecaaed8ad0f19b3102",
      "986e5a21c3a14509ac31cf4f50d99303",
      "8f3f4608bf054db1a2d7958a6819f5ae",
      "1d81cf0e73fd43749bf3e1b2320c6540",
      "c7ee7c82cc074e9c8adb1f6a169816b1",
      "43ee5fc31ca84a4589887866c6a4df43",
      "88e3c1aea9f544479af0da0cc2a21200",
      "48f158d2ee4543a7bd7b23ec3f2af531",
      "17f4f580154942468a8034ec9fec5bfb",
      "fecca458250e4e8c8a81f1a67e01a2fd",
      "6b5665fc12f441c7924fe543f4a17922"
     ]
    },
    "id": "216zZRJAaf9o",
    "outputId": "f5df49af-d5e2-4eae-f952-797068a25b0f"
   },
   "outputs": [
    {
     "name": "stdout",
     "output_type": "stream",
     "text": [
      "Downloading http://yann.lecun.com/exdb/mnist/train-images-idx3-ubyte.gz\n",
      "Downloading http://yann.lecun.com/exdb/mnist/train-images-idx3-ubyte.gz to ./MNIST/raw/train-images-idx3-ubyte.gz\n"
     ]
    },
    {
     "data": {
      "application/vnd.jupyter.widget-view+json": {
       "model_id": "cf09cd6c294e4b84a0e8a956bcfcbc4f",
       "version_major": 2,
       "version_minor": 0
      },
      "text/plain": [
       "  0%|          | 0/9912422 [00:00<?, ?it/s]"
      ]
     },
     "metadata": {},
     "output_type": "display_data"
    },
    {
     "name": "stdout",
     "output_type": "stream",
     "text": [
      "Extracting ./MNIST/raw/train-images-idx3-ubyte.gz to ./MNIST/raw\n",
      "\n",
      "Downloading http://yann.lecun.com/exdb/mnist/train-labels-idx1-ubyte.gz\n",
      "Downloading http://yann.lecun.com/exdb/mnist/train-labels-idx1-ubyte.gz to ./MNIST/raw/train-labels-idx1-ubyte.gz\n"
     ]
    },
    {
     "data": {
      "application/vnd.jupyter.widget-view+json": {
       "model_id": "846359bd7ac1494785ed602d61196a6a",
       "version_major": 2,
       "version_minor": 0
      },
      "text/plain": [
       "  0%|          | 0/28881 [00:00<?, ?it/s]"
      ]
     },
     "metadata": {},
     "output_type": "display_data"
    },
    {
     "name": "stdout",
     "output_type": "stream",
     "text": [
      "Extracting ./MNIST/raw/train-labels-idx1-ubyte.gz to ./MNIST/raw\n",
      "\n",
      "Downloading http://yann.lecun.com/exdb/mnist/t10k-images-idx3-ubyte.gz\n",
      "Downloading http://yann.lecun.com/exdb/mnist/t10k-images-idx3-ubyte.gz to ./MNIST/raw/t10k-images-idx3-ubyte.gz\n"
     ]
    },
    {
     "data": {
      "application/vnd.jupyter.widget-view+json": {
       "model_id": "66c87db830b047bfb8064f4e1daa9b96",
       "version_major": 2,
       "version_minor": 0
      },
      "text/plain": [
       "  0%|          | 0/1648877 [00:00<?, ?it/s]"
      ]
     },
     "metadata": {},
     "output_type": "display_data"
    },
    {
     "name": "stdout",
     "output_type": "stream",
     "text": [
      "Extracting ./MNIST/raw/t10k-images-idx3-ubyte.gz to ./MNIST/raw\n",
      "\n",
      "Downloading http://yann.lecun.com/exdb/mnist/t10k-labels-idx1-ubyte.gz\n",
      "Downloading http://yann.lecun.com/exdb/mnist/t10k-labels-idx1-ubyte.gz to ./MNIST/raw/t10k-labels-idx1-ubyte.gz\n"
     ]
    },
    {
     "data": {
      "application/vnd.jupyter.widget-view+json": {
       "model_id": "cd2ca4e3911849ecaaed8ad0f19b3102",
       "version_major": 2,
       "version_minor": 0
      },
      "text/plain": [
       "  0%|          | 0/4542 [00:00<?, ?it/s]"
      ]
     },
     "metadata": {},
     "output_type": "display_data"
    },
    {
     "name": "stdout",
     "output_type": "stream",
     "text": [
      "Extracting ./MNIST/raw/t10k-labels-idx1-ubyte.gz to ./MNIST/raw\n",
      "\n"
     ]
    }
   ],
   "source": [
    "# Dataloader\n",
    "to_numpy = lambda x: x.numpy()\n",
    "transform = transforms.Compose([\n",
    "                       transforms.ToTensor(),\n",
    "                       transforms.Normalize((0.1307,), (0.3081,))\n",
    "                    ])\n",
    "train_dataset = MNIST('.', train=True, download=True, transform=transform)\n",
    "test_dataset = MNIST('.', train=False, transform=transform)\n",
    "\n",
    "train_loader = DataLoader(train_dataset, batch_size=128, shuffle=True)\n",
    "test_loader = DataLoader(test_dataset, batch_size=128, shuffle=True)"
   ]
  },
  {
   "cell_type": "code",
   "execution_count": 3,
   "metadata": {
    "id": "EqpqV_pVaf9t"
   },
   "outputs": [],
   "source": [
    "images_train, labels_train = next(iter(train_loader))"
   ]
  },
  {
   "cell_type": "code",
   "execution_count": 4,
   "metadata": {
    "id": "agAN6Tyfaf9x"
   },
   "outputs": [],
   "source": [
    "## Usage example:\n",
    "for X, y in train_loader:\n",
    "    X = X.view(X.size(0), -1)\n",
    "    X = X.numpy() ### Converts torch.Tensor to numpy array\n",
    "    y = y.numpy()\n",
    "    pass"
   ]
  },
  {
   "cell_type": "code",
   "execution_count": 5,
   "metadata": {
    "colab": {
     "base_uri": "https://localhost:8080/",
     "height": 420
    },
    "id": "71k9eU4Caf91",
    "outputId": "59212ef1-f819-4e8f-e056-6d35a00dd441"
   },
   "outputs": [
    {
     "data": {
      "image/png": "[encoded data removed]",
      "text/plain": [
       "<Figure size 432x504 with 25 Axes>"
      ]
     },
     "metadata": {
      "needs_background": "light"
     },
     "output_type": "display_data"
    }
   ],
   "source": [
    "plt.figure(figsize=(6, 7))\n",
    "for i in range(25):\n",
    "    plt.subplot(5, 5, i+1)\n",
    "    plt.imshow(X[i].reshape(28, 28), cmap=plt.cm.Greys_r)\n",
    "    plt.title(y[i])\n",
    "    plt.axis('off')"
   ]
  },
  {
   "cell_type": "markdown",
   "metadata": {
    "id": "CjxGvxs8af98"
   },
   "source": [
    "<i> 1.1 </i> Инициализируйте полносвязную сеть нормальным шумом N(0, 0.1) с архитектурой 784 -> 500 x (10 раз) -> 10. В качестве активации возьмите tanh"
   ]
  },
  {
   "cell_type": "code",
   "execution_count": null,
   "metadata": {
    "colab": {
     "base_uri": "https://localhost:8080/"
    },
    "id": "DgCP_qclaf99",
    "outputId": "a560fb29-7ed8-474a-a5ea-60846b3f6538"
   },
   "outputs": [
    {
     "data": {
      "text/plain": [
       "Sequential(\n",
       "  (0): Sequential(\n",
       "    (0): Linear(in_features=784, out_features=500, bias=True)\n",
       "    (1): Tanh()\n",
       "  )\n",
       "  (1): Sequential(\n",
       "    (0): Linear(in_features=500, out_features=500, bias=True)\n",
       "    (1): Tanh()\n",
       "  )\n",
       "  (2): Sequential(\n",
       "    (0): Linear(in_features=500, out_features=500, bias=True)\n",
       "    (1): Tanh()\n",
       "  )\n",
       "  (3): Sequential(\n",
       "    (0): Linear(in_features=500, out_features=500, bias=True)\n",
       "    (1): Tanh()\n",
       "  )\n",
       "  (4): Sequential(\n",
       "    (0): Linear(in_features=500, out_features=500, bias=True)\n",
       "    (1): Tanh()\n",
       "  )\n",
       "  (5): Sequential(\n",
       "    (0): Linear(in_features=500, out_features=500, bias=True)\n",
       "    (1): Tanh()\n",
       "  )\n",
       "  (6): Sequential(\n",
       "    (0): Linear(in_features=500, out_features=500, bias=True)\n",
       "    (1): Tanh()\n",
       "  )\n",
       "  (7): Sequential(\n",
       "    (0): Linear(in_features=500, out_features=500, bias=True)\n",
       "    (1): Tanh()\n",
       "  )\n",
       "  (8): Sequential(\n",
       "    (0): Linear(in_features=500, out_features=500, bias=True)\n",
       "    (1): Tanh()\n",
       "  )\n",
       "  (9): Sequential(\n",
       "    (0): Linear(in_features=500, out_features=500, bias=True)\n",
       "    (1): Tanh()\n",
       "  )\n",
       "  (10): Sequential(\n",
       "    (0): Linear(in_features=500, out_features=10, bias=True)\n",
       "    (1): Tanh()\n",
       "    (2): LogSoftmax(dim=1)\n",
       "  )\n",
       ")"
      ]
     },
     "execution_count": 6,
     "metadata": {},
     "output_type": "execute_result"
    }
   ],
   "source": [
    "def init_layer(layer, mean=0, std=1):\n",
    "    # Тут надо быть аккуратным — можно случайно создать копию и менять значения у копии\n",
    "    weight = layer.state_dict()['weight']\n",
    "    bias = layer.state_dict()['bias']\n",
    "    bias.zero_()\n",
    "    weight.normal_(mean=0, std=std)\n",
    "\n",
    "def forward_hook(self, input_, output):\n",
    "    std = input_[0].std().item()\n",
    "    print('forward', std)\n",
    "\n",
    "def backward_hook(self, grad_input, grad_output):\n",
    "    std = grad_input[0].std().item()\n",
    "    print('backward', std)\n",
    "\n",
    "    \n",
    "# пример:\n",
    "# layer = nn.Linear(28*28, 10)\n",
    "# layer.register_forward_hook(forward_hook)\n",
    "# layer.register_backward_hook(backward_hook)\n",
    "# init_layer(layer, 0.0, 0.1) # сюда надо подставить другие параметры\n",
    "\n",
    "def full_init_layer(layer):\n",
    "    layer.register_forward_hook(forward_hook)\n",
    "    layer.register_backward_hook(backward_hook)\n",
    "    init_layer(layer, 0.0, 0.1)\n",
    "    return layer\n",
    "\n",
    "\n",
    "layers = []\n",
    "layers.append(nn.Sequential(full_init_layer(nn.Linear(784, 500)), nn.Tanh()))\n",
    "for i in range(9):\n",
    "    layers.append(nn.Sequential(full_init_layer(nn.Linear(500, 500)), nn.Tanh()))\n",
    "    \n",
    "layers.append(nn.Sequential(full_init_layer(nn.Linear(500, 10)), nn.Tanh(), nn.LogSoftmax(dim=1)))\n",
    "network = nn.Sequential(*layers)\n",
    "network"
   ]
  },
  {
   "cell_type": "markdown",
   "metadata": {
    "id": "SsjtA7N_af-G"
   },
   "source": [
    "<i>1.2 Пропустите батч изображений через нейронную сеть и вычислите дисперсию активаций. Затем вычислите градиент и получите дисперсию градиентов. Сравните эти значения между собой для разных слоев.</i>"
   ]
  },
  {
   "cell_type": "code",
   "execution_count": null,
   "metadata": {
    "colab": {
     "base_uri": "https://localhost:8080/"
    },
    "id": "7Ri1Tvuyaf-K",
    "outputId": "f5689830-6202-43e0-f136-41c1be674e3f",
    "scrolled": true
   },
   "outputs": [
    {
     "name": "stdout",
     "output_type": "stream",
     "text": [
      "forward 0.989129364490509\n",
      "forward 0.847170889377594\n",
      "forward 0.7866596579551697\n",
      "forward 0.7722333073616028\n",
      "forward 0.7676901817321777\n",
      "forward 0.7644439935684204\n",
      "forward 0.7657047510147095\n",
      "forward 0.765712559223175\n",
      "forward 0.766754686832428\n",
      "forward 0.7676509618759155\n",
      "forward 0.7639625668525696\n",
      "backward 0.017424194142222404\n",
      "backward 0.0028265295550227165\n",
      "backward 0.0033919550478458405\n",
      "backward 0.004275897983461618\n",
      "backward 0.005059464834630489\n",
      "backward 0.006199618335813284\n",
      "backward 0.007727581076323986\n",
      "backward 0.009050444699823856\n",
      "backward 0.011191705241799355\n",
      "backward 0.01282503642141819\n",
      "backward 0.01273518055677414\n"
     ]
    },
    {
     "name": "stderr",
     "output_type": "stream",
     "text": [
      "/usr/local/lib/python3.9/dist-packages/torch/nn/modules/module.py:1117: UserWarning: Using a non-full backward hook when the forward contains multiple autograd Nodes is deprecated and will be removed in future versions. This hook will be missing some grad_input. Please use register_full_backward_hook to get the documented behavior.\n",
      "  warnings.warn(\"Using a non-full backward hook when the forward contains multiple autograd Nodes \"\n"
     ]
    }
   ],
   "source": [
    "#network = nn.Sequential(layer)\n",
    "\n",
    "#пример:\n",
    "n_objects = 100\n",
    "X = images_train[:n_objects].view(n_objects, -1).data\n",
    "y = labels_train[:n_objects].data\n",
    "activations = network(X)\n",
    "loss_fn = torch.nn.NLLLoss()\n",
    "optimizer = torch.optim.Adam(network.parameters(), lr=0.001) \n",
    "loss = loss_fn(activations, y)\n",
    "loss.backward()"
   ]
  },
  {
   "cell_type": "markdown",
   "metadata": {
    "id": "aqzopZ0RgF-9"
   },
   "source": [
    "##### Дисперсия у активации сначала уменьшалась, но позже стабилизировалась. С градиентами же вышло все по разному"
   ]
  },
  {
   "cell_type": "markdown",
   "metadata": {
    "id": "aUJG1Dbqaf-R"
   },
   "source": [
    "<i>1.3 Повторите эксперимент для инициализаций He и Xavier (формулы есть в лекции).</i>"
   ]
  },
  {
   "cell_type": "markdown",
   "metadata": {
    "id": "bS29YIO_gF--"
   },
   "source": [
    "##### He"
   ]
  },
  {
   "cell_type": "markdown",
   "metadata": {
    "id": "N41RnCsrgF--"
   },
   "source": [
    "$W^i \\sim N(0, \\frac{2}{n_i})$"
   ]
  },
  {
   "cell_type": "code",
   "execution_count": null,
   "metadata": {
    "id": "GK6S7jVSgF--"
   },
   "outputs": [],
   "source": [
    "def init_layer(layer, std):\n",
    "    weight = layer.state_dict()['weight']\n",
    "    bias = layer.state_dict()['bias']\n",
    "    bias.zero_()\n",
    "    weight.normal_(mean=0, std=std)\n",
    "\n",
    "def forward_hook(self, input_, output):\n",
    "    std = input_[0].std().item()\n",
    "    print('forward', std)\n",
    "\n",
    "def backward_hook(self, grad_input, grad_output):\n",
    "    std = grad_input[0].std().item()\n",
    "    print('backward', std)\n",
    "    \n",
    "    \n",
    "def full_init_layer(layer, n_i):\n",
    "    layer.register_forward_hook(forward_hook)\n",
    "    layer.register_backward_hook(backward_hook)\n",
    "    init_layer(layer, 2 / n_i)\n",
    "    return layer\n",
    "    \n",
    "layers = []\n",
    "layers.append(nn.Sequential(full_init_layer(nn.Linear(784, 500), 784), nn.Tanh()))\n",
    "for i in range(9):\n",
    "    layers.append(nn.Sequential(full_init_layer(nn.Linear(500, 500), 500), nn.Tanh()))\n",
    "    \n",
    "layers.append(nn.Sequential(full_init_layer(nn.Linear(500, 10), 500), nn.Tanh(), nn.LogSoftmax(dim=1)))\n",
    "network = nn.Sequential(*layers)"
   ]
  },
  {
   "cell_type": "code",
   "execution_count": null,
   "metadata": {
    "colab": {
     "base_uri": "https://localhost:8080/"
    },
    "id": "-oOMGS2PgF-_",
    "outputId": "1d8f580e-8db5-441a-e4f8-c00e69424ca5"
   },
   "outputs": [
    {
     "name": "stdout",
     "output_type": "stream",
     "text": [
      "forward 0.989129364490509\n",
      "forward 0.07058420032262802\n",
      "forward 0.00635673850774765\n",
      "forward 0.000571775424759835\n",
      "forward 5.22309128427878e-05\n",
      "forward 4.6968948481662665e-06\n",
      "forward 4.195236442683381e-07\n",
      "forward 3.764223066582417e-08\n",
      "forward 3.287374816807187e-09\n",
      "forward 2.954897437845716e-10\n",
      "forward 2.6269894246033765e-11\n",
      "backward 0.02905932627618313\n",
      "backward 0.0003482857719063759\n",
      "backward 3.163905785186216e-05\n",
      "backward 2.759089738901821e-06\n",
      "backward 2.5109753210017516e-07\n",
      "backward 2.2412811162553226e-08\n",
      "backward 1.9514450055879706e-09\n",
      "backward 1.7510767835737795e-10\n",
      "backward 1.585609074594707e-11\n",
      "backward 1.4549549716066923e-12\n",
      "backward 1.39196122618708e-13\n"
     ]
    }
   ],
   "source": [
    "n_objects = 100\n",
    "X = images_train[:n_objects].view(n_objects, -1).data\n",
    "y = labels_train[:n_objects].data\n",
    "activations = network(X)\n",
    "loss_fn = torch.nn.NLLLoss()\n",
    "optimizer = torch.optim.Adam(network.parameters(), lr=0.001) \n",
    "loss = loss_fn(activations, y)\n",
    "loss.backward()"
   ]
  },
  {
   "cell_type": "markdown",
   "metadata": {
    "id": "MWylSGcxgF_A"
   },
   "source": [
    "##### Получился полный разнобой с дисперсиями. Попробую ReLU, ведь He хорошо работает для нее"
   ]
  },
  {
   "cell_type": "code",
   "execution_count": null,
   "metadata": {
    "colab": {
     "base_uri": "https://localhost:8080/"
    },
    "id": "ApWNdwScgF_B",
    "outputId": "bfa1be5a-2c58-4f08-b123-51ed6a916c87"
   },
   "outputs": [
    {
     "name": "stdout",
     "output_type": "stream",
     "text": [
      "forward 0.989129364490509\n",
      "forward 0.041821904480457306\n",
      "forward 0.0026264404878020287\n",
      "forward 0.00016138236969709396\n",
      "forward 1.0549238140811212e-05\n",
      "forward 6.842020638941904e-07\n",
      "forward 4.414150822640295e-08\n",
      "forward 2.6905142558319994e-09\n",
      "forward 1.7603414559363983e-10\n",
      "forward 1.1462218327262796e-11\n",
      "forward 7.193564320606693e-13\n",
      "backward 0.0221522506326437\n",
      "backward 0.0002185843331972137\n",
      "backward 1.4969320545787923e-05\n",
      "backward 9.887479563985835e-07\n",
      "backward 6.219002557372733e-08\n",
      "backward 4.028292366342612e-09\n",
      "backward 2.4141061372162653e-10\n",
      "backward 1.6070244093779884e-11\n",
      "backward 1.0627917816641297e-12\n",
      "backward 6.677406023947174e-14\n",
      "backward 4.25075353063277e-15\n"
     ]
    }
   ],
   "source": [
    "layers = []\n",
    "layers.append(nn.Sequential(full_init_layer(nn.Linear(784, 500), 784), nn.ReLU()))\n",
    "for i in range(9):\n",
    "    layers.append(nn.Sequential(full_init_layer(nn.Linear(500, 500), 500), nn.ReLU()))\n",
    "    \n",
    "layers.append(nn.Sequential(full_init_layer(nn.Linear(500, 10), 500), nn.ReLU(), nn.LogSoftmax(dim=1)))\n",
    "network = nn.Sequential(*layers)\n",
    "\n",
    "\n",
    "n_objects = 100\n",
    "X = images_train[:n_objects].view(n_objects, -1).data\n",
    "y = labels_train[:n_objects].data\n",
    "activations = network(X)\n",
    "loss_fn = torch.nn.NLLLoss()\n",
    "optimizer = torch.optim.Adam(network.parameters(), lr=0.001) \n",
    "loss = loss_fn(activations, y)\n",
    "loss.backward()"
   ]
  },
  {
   "cell_type": "markdown",
   "metadata": {
    "id": "4Uys1JvOgF_B"
   },
   "source": [
    "##### Тоже самое..."
   ]
  },
  {
   "cell_type": "markdown",
   "metadata": {
    "id": "FEwnDGTggF_C"
   },
   "source": [
    "##### Xaveir"
   ]
  },
  {
   "cell_type": "markdown",
   "metadata": {
    "id": "94yW3F34gF_C"
   },
   "source": [
    "$U^i \\sim U[-\\frac{\\sqrt{6}}{\\sqrt{n_i + n_{i+1}}}; \\frac{\\sqrt{6}}{\\sqrt{n_i + n_{i+1}}}]$"
   ]
  },
  {
   "cell_type": "code",
   "execution_count": null,
   "metadata": {
    "id": "-ECj30FagF_C"
   },
   "outputs": [],
   "source": [
    "def init_layer(layer, bounder):\n",
    "    weight = layer.state_dict()['weight']\n",
    "    bias = layer.state_dict()['bias']\n",
    "    bias.zero_()\n",
    "    weight.uniform_(-bounder, bounder)\n",
    "\n",
    "def forward_hook(self, input_, output):\n",
    "    std = input_[0].std().item()\n",
    "    print('forward', std)\n",
    "\n",
    "def backward_hook(self, grad_input, grad_output):\n",
    "    std = grad_input[0].std().item()\n",
    "    print('backward', std)\n",
    "    \n",
    "    \n",
    "def full_init_layer(layer, n_in, n_out):\n",
    "    layer.register_forward_hook(forward_hook)\n",
    "    layer.register_backward_hook(backward_hook)\n",
    "    bounder = np.sqrt(6 / (n_in + n_out))\n",
    "    init_layer(layer, bounder)\n",
    "    return layer\n",
    "    \n",
    "layers = []\n",
    "layers.append(nn.Sequential(full_init_layer(nn.Linear(784, 500), 784, 500), nn.Tanh()))\n",
    "for i in range(9):\n",
    "    layers.append(nn.Sequential(full_init_layer(nn.Linear(500, 500), 500, 500), nn.Tanh()))\n",
    "    \n",
    "layers.append(nn.Sequential(full_init_layer(nn.Linear(500, 10), 500, 10), nn.Tanh(), nn.LogSoftmax(dim=1)))\n",
    "network = nn.Sequential(*layers)"
   ]
  },
  {
   "cell_type": "code",
   "execution_count": null,
   "metadata": {
    "colab": {
     "base_uri": "https://localhost:8080/"
    },
    "id": "BYdRDnKVgF_D",
    "outputId": "e07c6e16-5bfc-46e5-fdbb-389b9e16de55"
   },
   "outputs": [
    {
     "name": "stdout",
     "output_type": "stream",
     "text": [
      "forward 0.989129364490509\n",
      "forward 0.6485909223556519\n",
      "forward 0.49114200472831726\n",
      "forward 0.41381579637527466\n",
      "forward 0.35462141036987305\n",
      "forward 0.3174775242805481\n",
      "forward 0.29210981726646423\n",
      "forward 0.2718641459941864\n",
      "forward 0.2535313069820404\n",
      "forward 0.23903559148311615\n",
      "forward 0.22495338320732117\n",
      "backward 0.0268268845975399\n",
      "backward 0.004715523682534695\n",
      "backward 0.004504924640059471\n",
      "backward 0.004370417911559343\n",
      "backward 0.004175322130322456\n",
      "backward 0.003915715496987104\n",
      "backward 0.0034783659502863884\n",
      "backward 0.0032611056230962276\n",
      "backward 0.0026803959626704454\n",
      "backward 0.00229524914175272\n",
      "backward 0.0017001550877466798\n"
     ]
    }
   ],
   "source": [
    "n_objects = 100\n",
    "X = images_train[:n_objects].view(n_objects, -1).data\n",
    "y = labels_train[:n_objects].data\n",
    "activations = network(X)\n",
    "loss_fn = torch.nn.NLLLoss()\n",
    "optimizer = torch.optim.Adam(network.parameters(), lr=0.001) \n",
    "loss = loss_fn(activations, y)\n",
    "loss.backward()"
   ]
  },
  {
   "cell_type": "markdown",
   "metadata": {
    "id": "hJKQLHTugF_D"
   },
   "source": [
    "##### Выглядит лучше, но очень похоже на ситуацию с шумом"
   ]
  },
  {
   "cell_type": "markdown",
   "metadata": {
    "id": "7U2YSSw5af-Y"
   },
   "source": [
    "<i> 1.4 Сделайте выводы по первой части </i>"
   ]
  },
  {
   "cell_type": "markdown",
   "metadata": {
    "id": "NBQ7o-hjaf-a"
   },
   "source": [
    "##### В целом было видно, что дисперсии стараются быть одинаковыми, только с He как-то не оч вышло..."
   ]
  },
  {
   "cell_type": "markdown",
   "metadata": {
    "id": "4kYx-hwLaf-b"
   },
   "source": [
    "### Часть 2: Dropout (1 балл)"
   ]
  },
  {
   "cell_type": "markdown",
   "metadata": {
    "id": "mDoy5_yEaf-c"
   },
   "source": [
    "Другим полезным слоем является Dropout. В нем с вероятностью 1-p зануляется выход каждого нейрона. Этот слой уже реализован в pyTorch, поэтому вновь реализовывать его не интересно. Давайте реализуем DropConnect — аналог Dropout. В нем с вероятностью 1-p зануляется каждый вес слоя."
   ]
  },
  {
   "cell_type": "markdown",
   "metadata": {
    "id": "hxi77m72af-d"
   },
   "source": [
    "<i> 2.1 Реализуйте линейный слой с DropConnect </i>"
   ]
  },
  {
   "cell_type": "code",
   "execution_count": null,
   "metadata": {
    "id": "Ee2ljeNCaf-f"
   },
   "outputs": [],
   "source": [
    "# полезная функция: .bernoulli_(p)\n",
    "# не забывайте делать requires_grad=False у маски\n",
    "# помните, что в вычислениях должны участвовать Variable, а не тензоры\n",
    "\n",
    "class DropConnect(nn.Module):\n",
    "    def __init__(self, input_dim, output_dim, p=0.5):\n",
    "        super(DropConnect, self).__init__()\n",
    "        self.linear = nn.Linear(input_dim, output_dim)\n",
    "        self.p = p\n",
    "\n",
    "    def forward(self, x):    \n",
    "        if self.training:\n",
    "            mask = torch.autograd.Variable(torch.ones_like(self.linear.weight),\n",
    "                                           requires_grad=False)\n",
    "            mask.bernoulli_(self.p)\n",
    "        else:\n",
    "            mask = torch.autograd.Variable(torch.ones_like(self.linear.weight),\n",
    "                                           requires_grad=False)\n",
    "\n",
    "        mask = mask.data\n",
    "        output = F.linear(x, self.linear.weight * mask, self.linear.bias)\n",
    "        return output"
   ]
  },
  {
   "cell_type": "markdown",
   "metadata": {
    "id": "CCv4jdyoaf-k"
   },
   "source": [
    "<i> \n",
    "2.2 Сравните графики обучения нейроных сетей:\n",
    "1. Свертки из TestNetwork -> 128 -> 128 -> 10 с ReLU и Dropout между всеми слоями \n",
    "2. Свертки из TestNetwork -> 128 -> 128 -> 10 с ReLU DropConnect вместо всех линейных слоев\n",
    "</i>"
   ]
  },
  {
   "cell_type": "code",
   "execution_count": 6,
   "metadata": {
    "id": "uC3EYVlraf-m"
   },
   "outputs": [],
   "source": [
    "class TestNetwork(nn.Module):\n",
    "    def __init__(self, final_part):\n",
    "        super().__init__()    \n",
    "        \n",
    "        channels = 1\n",
    "        \n",
    "        self.conv_layers = nn.Sequential(\n",
    "            nn.Conv2d(channels, 2, 3, padding=1),    \n",
    "            nn.MaxPool2d(2),\n",
    "            nn.ReLU(),\n",
    "            nn.Conv2d(2, 4, 3, padding=1),            \n",
    "            nn.MaxPool2d(2),\n",
    "            nn.ReLU(),\n",
    "        )\n",
    "        \n",
    "        #input_size = 7 * 7 * 4 = 196\n",
    "        self.flatten = nn.Flatten()\n",
    "        \n",
    "        self.final_part = final_part\n",
    "        \n",
    "        self.log_softmax = nn.LogSoftmax(1)        \n",
    "        \n",
    "    def forward(self, x):\n",
    "        x = self.conv_layers(x)\n",
    "        x = self.flatten(x)\n",
    "        x = self.final_part(x)\n",
    "        return self.log_softmax(x)"
   ]
  },
  {
   "cell_type": "code",
   "execution_count": 7,
   "metadata": {
    "id": "QRoKM7rtbGXr"
   },
   "outputs": [],
   "source": [
    "from train_utils import train"
   ]
  },
  {
   "cell_type": "code",
   "execution_count": null,
   "metadata": {
    "colab": {
     "base_uri": "https://localhost:8080/",
     "height": 1000
    },
    "id": "BaFxD30YgF_G",
    "outputId": "8a69eba2-4270-4296-b9e6-b6d95743650d"
   },
   "outputs": [
    {
     "name": "stdout",
     "output_type": "stream",
     "text": [
      "Epoch 9... (Train/Test) NLL: 0.149/0.074\tAccuracy: 0.956/0.978\n"
     ]
    },
    {
     "data": {
      "image/png": "[encoded data removed]",
      "text/plain": [
       "<Figure size 864x360 with 2 Axes>"
      ]
     },
     "metadata": {
      "needs_background": "light"
     },
     "output_type": "display_data"
    },
    {
     "data": {
      "text/plain": [
       "([0.8029962213181737,\n",
       "  0.32220989993132,\n",
       "  0.2535402209901098,\n",
       "  0.22051504031935734,\n",
       "  0.19943910249387786,\n",
       "  0.18307284894051837,\n",
       "  0.17181208045053076,\n",
       "  0.16392953020296117,\n",
       "  0.15273222055580063,\n",
       "  0.14875336402435418],\n",
       " [0.21362120535554766,\n",
       "  0.14328680423241627,\n",
       "  0.1285459203527698,\n",
       "  0.10672399807202665,\n",
       "  0.09725117251937147,\n",
       "  0.09228647743127769,\n",
       "  0.08457219994426528,\n",
       "  0.0802188110537827,\n",
       "  0.07486235194757015,\n",
       "  0.07428374872366085],\n",
       " [0.7383062,\n",
       "  0.9053338,\n",
       "  0.92477345,\n",
       "  0.93737227,\n",
       "  0.94193095,\n",
       "  0.94797224,\n",
       "  0.9499322,\n",
       "  0.9519423,\n",
       "  0.9549685,\n",
       "  0.9560679],\n",
       " [0.9343355,\n",
       "  0.955004,\n",
       "  0.96202534,\n",
       "  0.9665744,\n",
       "  0.96944225,\n",
       "  0.9716179,\n",
       "  0.9727057,\n",
       "  0.97498024,\n",
       "  0.977057,\n",
       "  0.9780459])"
      ]
     },
     "execution_count": 16,
     "metadata": {},
     "output_type": "execute_result"
    }
   ],
   "source": [
    "layers = []\n",
    "for n_in, n_out in [(196, 128), (128, 128)]:\n",
    "    layers.append(nn.Sequential(nn.Linear(n_in, n_out), nn.Dropout(), nn.ReLU()))\n",
    "layers.append(nn.Linear(128, 10))\n",
    "\n",
    "\n",
    "network = TestNetwork(nn.Sequential(*layers))\n",
    "train(network, train_loader, test_loader, 10, 0.001, device='cuda')"
   ]
  },
  {
   "cell_type": "markdown",
   "metadata": {
    "id": "pooEVZFbaf_L"
   },
   "source": [
    "В test-time стохастичность Dropout убирают и заменяют все веса на их ожидаемое значение: $\\mathbb{E}w = pw + (1-p)0 = pw$."
   ]
  },
  {
   "cell_type": "code",
   "execution_count": null,
   "metadata": {
    "colab": {
     "base_uri": "https://localhost:8080/",
     "height": 1000
    },
    "id": "xWNfvYH9haEC",
    "outputId": "dbf1cb3d-3eb1-4d33-d365-c643728debeb"
   },
   "outputs": [
    {
     "name": "stdout",
     "output_type": "stream",
     "text": [
      "Epoch 9... (Train/Test) NLL: 0.121/0.174\tAccuracy: 0.962/0.975\n"
     ]
    },
    {
     "data": {
      "image/png": "[encoded data removed]",
      "text/plain": [
       "<Figure size 864x360 with 2 Axes>"
      ]
     },
     "metadata": {
      "needs_background": "light"
     },
     "output_type": "display_data"
    },
    {
     "data": {
      "text/plain": [
       "([0.8242517912438684,\n",
       "  0.3233428517066594,\n",
       "  0.23520567042550553,\n",
       "  0.19613636690956443,\n",
       "  0.1733377901301074,\n",
       "  0.15299972072879134,\n",
       "  0.14415249481860762,\n",
       "  0.13542792201836482,\n",
       "  0.1259531582008674,\n",
       "  0.12094063712343542],\n",
       " [0.6959500637235521,\n",
       "  0.41947649353289906,\n",
       "  0.34307189530374693,\n",
       "  0.27247636583692664,\n",
       "  0.22977454334355984,\n",
       "  0.2121864853594806,\n",
       "  0.19979579440764553,\n",
       "  0.17572462946011486,\n",
       "  0.16759823815516914,\n",
       "  0.1744629161567221],\n",
       " [0.7315598,\n",
       "  0.8976268,\n",
       "  0.92644477,\n",
       "  0.9365227,\n",
       "  0.94484055,\n",
       "  0.95092064,\n",
       "  0.95384127,\n",
       "  0.9571895,\n",
       "  0.95934945,\n",
       "  0.9617982],\n",
       " [0.9047666,\n",
       "  0.94185126,\n",
       "  0.95470726,\n",
       "  0.9628165,\n",
       "  0.96677214,\n",
       "  0.9714201,\n",
       "  0.9712223,\n",
       "  0.976068,\n",
       "  0.9766614,\n",
       "  0.9746835])"
      ]
     },
     "execution_count": 17,
     "metadata": {},
     "output_type": "execute_result"
    }
   ],
   "source": [
    "layers = []\n",
    "for n_in, n_out in [(196, 128), (128, 128)]:\n",
    "    layers.append(nn.Sequential(DropConnect(n_in, n_out), nn.ReLU()))\n",
    "layers.append(nn.Linear(128, 10))\n",
    "\n",
    "\n",
    "network = TestNetwork(nn.Sequential(*layers))\n",
    "train(network, train_loader, test_loader, 10, 0.001, device='cuda')"
   ]
  },
  {
   "cell_type": "markdown",
   "metadata": {
    "id": "yfBC8qS4af_K"
   },
   "source": [
    "<i> 2.3 Сделайте выводы по третьей части. </i>"
   ]
  },
  {
   "cell_type": "markdown",
   "metadata": {
    "id": "zFTfYoSSvm5h"
   },
   "source": [
    "##### Как видим, что Dropout, что DropConnect помогают сетке плавно сходиться и не переобучаться. Думаю с такой архитектурой и данным датасетом оно было даже очень вероятно"
   ]
  },
  {
   "cell_type": "markdown",
   "metadata": {
    "id": "if-VP-I4af_M"
   },
   "source": [
    "### Часть 3: Batch Normalization (3 балла)"
   ]
  },
  {
   "cell_type": "markdown",
   "metadata": {
    "id": "Vba0rSy-af_N"
   },
   "source": [
    "Наконец, давайте рассмотрим Batch Normalization. Этот слой вычитает среднее и делит на стандартное отклонение. Среднее и дисперсия вычисляются по батчу независимо для каждого нейрона. У этого слоя есть две важные проблемы: его нельзя использовать при обучении с размером батча 1 и он делает элементы батча зависимыми. Давайте реализуем аналог батч нормализации: <a href=https://arxiv.org/pdf/1607.06450.pdf>Layer normalization</a>. В layer normalization среднее и дисперсия вычисляются по активациям нейронов, независимо для каждого объекта."
   ]
  },
  {
   "cell_type": "markdown",
   "metadata": {
    "id": "cqUTAtjIaf_O"
   },
   "source": [
    "<i> 3.1 Реализуйте Layer Normalization </i>"
   ]
  },
  {
   "cell_type": "code",
   "execution_count": 8,
   "metadata": {
    "id": "e2H4VX4_af_O"
   },
   "outputs": [],
   "source": [
    "# полезные функции: .std(dim), .mean(dim)\n",
    "\n",
    "class LayerNormalization(nn.Module):\n",
    "    def forward(self, x):\n",
    "        output = (x - x.mean(0)) / x.std(0)\n",
    "        return output"
   ]
  },
  {
   "cell_type": "markdown",
   "metadata": {
    "id": "g2sTZ7h5af_T"
   },
   "source": [
    "<i> \n",
    "3.2 Сравните графики обучения нейроных сетей:\n",
    "1. Свертки из TestNetwork -> 128 -> 128 -> 10 с ReLU и Batch normalization между всеми слоями \n",
    "2. Свертки из TestNetwork -> 128 -> 128 -> 10 с ReLU и Layer normalization между всеми слоями \n",
    "</i>"
   ]
  },
  {
   "cell_type": "code",
   "execution_count": 13,
   "metadata": {
    "colab": {
     "base_uri": "https://localhost:8080/",
     "height": 1000
    },
    "id": "q1PPqKRZaf_U",
    "outputId": "9a9251a8-9cf7-49ef-b949-02f94e903e35"
   },
   "outputs": [
    {
     "name": "stdout",
     "output_type": "stream",
     "text": [
      "Epoch 9... (Train/Test) NLL: 0.021/0.047\tAccuracy: 0.993/0.985\n"
     ]
    },
    {
     "data": {
      "image/png": "[encoded data removed]",
      "text/plain": [
       "<Figure size 864x360 with 2 Axes>"
      ]
     },
     "metadata": {
      "needs_background": "light"
     },
     "output_type": "display_data"
    },
    {
     "data": {
      "text/plain": [
       "([0.22905293978385324,\n",
       "  0.07488907864496017,\n",
       "  0.05402796115897008,\n",
       "  0.044468912222523936,\n",
       "  0.03630806817742648,\n",
       "  0.03198405012869632,\n",
       "  0.026162714844367017,\n",
       "  0.02466653076349013,\n",
       "  0.022206623289636823,\n",
       "  0.021371333051903814],\n",
       " [0.07370289188774326,\n",
       "  0.06153923349714355,\n",
       "  0.050415779346057885,\n",
       "  0.04490130028652051,\n",
       "  0.049141534338882076,\n",
       "  0.045149661966045446,\n",
       "  0.04888020336032621,\n",
       "  0.045121817687479186,\n",
       "  0.04388735294666236,\n",
       "  0.04732003776191533],\n",
       " [0.94183105,\n",
       "  0.97646254,\n",
       "  0.98328114,\n",
       "  0.98569095,\n",
       "  0.9883062,\n",
       "  0.9897832,\n",
       "  0.99127686,\n",
       "  0.9920209,\n",
       "  0.9930259,\n",
       "  0.99294823],\n",
       " [0.9766614,\n",
       "  0.9780459,\n",
       "  0.98368275,\n",
       "  0.9856606,\n",
       "  0.98407835,\n",
       "  0.98358387,\n",
       "  0.9842761,\n",
       "  0.98605615,\n",
       "  0.9865506,\n",
       "  0.9847706])"
      ]
     },
     "execution_count": 13,
     "metadata": {},
     "output_type": "execute_result"
    }
   ],
   "source": [
    "layers = []\n",
    "for n_in, n_out in [(196, 128), (128, 128)]:\n",
    "    layers.append(nn.Sequential(nn.Linear(n_in, n_out), nn.BatchNorm1d(n_out), nn.ReLU()))\n",
    "layers.append(nn.Linear(128, 10))\n",
    "\n",
    "\n",
    "network = TestNetwork(nn.Sequential(*layers))\n",
    "train(network, train_loader, test_loader, 10, 0.001, device='cuda')"
   ]
  },
  {
   "cell_type": "code",
   "execution_count": 14,
   "metadata": {
    "colab": {
     "base_uri": "https://localhost:8080/",
     "height": 1000
    },
    "id": "FDp-f54626kX",
    "outputId": "f639aa19-c82e-42b7-fabe-5a6cf0bd6eb7"
   },
   "outputs": [
    {
     "name": "stdout",
     "output_type": "stream",
     "text": [
      "Epoch 9... (Train/Test) NLL: 0.019/0.055\tAccuracy: 0.994/0.981\n"
     ]
    },
    {
     "data": {
      "image/png": "[encoded data removed]",
      "text/plain": [
       "<Figure size 864x360 with 2 Axes>"
      ]
     },
     "metadata": {
      "needs_background": "light"
     },
     "output_type": "display_data"
    },
    {
     "data": {
      "text/plain": [
       "([0.2446084482742271,\n",
       "  0.07738511842975357,\n",
       "  0.05790277313726988,\n",
       "  0.04722971294019649,\n",
       "  0.03852547130891001,\n",
       "  0.03360047852590696,\n",
       "  0.028910552278589973,\n",
       "  0.02557822080107648,\n",
       "  0.022573728099969752,\n",
       "  0.01925912187017723],\n",
       " [0.08667048979314822,\n",
       "  0.07935110827365631,\n",
       "  0.06135312008046651,\n",
       "  0.060096805820925324,\n",
       "  0.05659069610123016,\n",
       "  0.05999678106907802,\n",
       "  0.0613427948165402,\n",
       "  0.06258342369117692,\n",
       "  0.05843270868298751,\n",
       "  0.05474367653184771],\n",
       " [0.94029295,\n",
       "  0.9771622,\n",
       "  0.98214287,\n",
       "  0.98560214,\n",
       "  0.987751,\n",
       "  0.9896,\n",
       "  0.9906938,\n",
       "  0.99208754,\n",
       "  0.99283713,\n",
       "  0.99378663],\n",
       " [0.97448575,\n",
       "  0.9736946,\n",
       "  0.978837,\n",
       "  0.9806171,\n",
       "  0.981606,\n",
       "  0.97992486,\n",
       "  0.9806171,\n",
       "  0.9794304,\n",
       "  0.98140824,\n",
       "  0.98101264])"
      ]
     },
     "execution_count": 14,
     "metadata": {},
     "output_type": "execute_result"
    }
   ],
   "source": [
    "layers = []\n",
    "for n_in, n_out in [(196, 128), (128, 128)]:\n",
    "    layers.append(nn.Sequential(nn.Linear(n_in, n_out), LayerNormalization(), nn.ReLU()))\n",
    "layers.append(nn.Linear(128, 10))\n",
    "\n",
    "\n",
    "network = TestNetwork(nn.Sequential(*layers))\n",
    "train(network, train_loader, test_loader, 10, 0.001, device='cuda')"
   ]
  },
  {
   "cell_type": "markdown",
   "metadata": {
    "id": "CudyBOIgaf_X"
   },
   "source": [
    "<i> 3.3 Сделайте выводы по третьей части </i>"
   ]
  },
  {
   "cell_type": "markdown",
   "metadata": {
    "id": "PgZh16-IvluR"
   },
   "source": [
    "##### Здесь же получаем моментальное переобучение, неудивительно, что такая сетка легко выучила обучающую выборку)) Можно сказать, что данные нормализации являются очень мощным инструментом и на более сложных примерах будут очень хорошо помогать сетке сходиться"
   ]
  },
  {
   "cell_type": "markdown",
   "metadata": {
    "id": "8VTz6VQ5af_Z"
   },
   "source": [
    "#### Feedback (опционально)"
   ]
  },
  {
   "cell_type": "markdown",
   "metadata": {
    "id": "ewz7GZvvaf_Z"
   },
   "source": [
    "Здесь вы можете оставить список опечаток из лекции или семинара:"
   ]
  },
  {
   "cell_type": "markdown",
   "metadata": {
    "id": "XCSe88HUaf_a"
   },
   "source": []
  },
  {
   "cell_type": "markdown",
   "metadata": {
    "id": "58N5yqKUaf_b"
   },
   "source": [
    "Здесь вы можете оставить комментарии по лекции или семинару:"
   ]
  },
  {
   "cell_type": "markdown",
   "metadata": {
    "id": "SeGFzT7vaf_b"
   },
   "source": []
  }
 ],
 "metadata": {
  "accelerator": "GPU",
  "colab": {
   "provenance": []
  },
  "gpuClass": "standard",
  "kernelspec": {
   "display_name": "Python 3 (ipykernel)",
   "language": "python",
   "name": "python3"
  },
  "language_info": {
   "codemirror_mode": {
    "name": "ipython",
    "version": 3
   },
   "file_extension": ".py",
   "mimetype": "text/x-python",
   "name": "python",
   "nbconvert_exporter": "python",
   "pygments_lexer": "ipython3",
   "version": "3.9.7"
  },
  "latex_envs": {
   "bibliofile": "biblio.bib",
   "cite_by": "apalike",
   "current_citInitial": 1,
   "eqLabelWithNumbers": true,
   "eqNumInitial": 0
  },
  "vscode": {
   "interpreter": {
    "hash": "87f2c61721633f38491d53c2bfdcc0361799add3518de6ab4d9ab97e249bd1f3"
   }
  },
  "widgets": {
   "application/vnd.jupyter.widget-state+json": {
    "04a10ff31872486daa3af290d98aab44": {
     "model_module": "@jupyter-widgets/base",
     "model_module_version": "1.2.0",
     "model_name": "LayoutModel",
     "state": {
      "_model_module": "@jupyter-widgets/base",
      "_model_module_version": "1.2.0",
      "_model_name": "LayoutModel",
      "_view_count": null,
      "_view_module": "@jupyter-widgets/base",
      "_view_module_version": "1.2.0",
      "_view_name": "LayoutView",
      "align_content": null,
      "align_items": null,
      "align_self": null,
      "border": null,
      "bottom": null,
      "display": null,
      "flex": null,
      "flex_flow": null,
      "grid_area": null,
      "grid_auto_columns": null,
      "grid_auto_flow": null,
      "grid_auto_rows": null,
      "grid_column": null,
      "grid_gap": null,
      "grid_row": null,
      "grid_template_areas": null,
      "grid_template_columns": null,
      "grid_template_rows": null,
      "height": null,
      "justify_content": null,
      "justify_items": null,
      "left": null,
      "margin": null,
      "max_height": null,
      "max_width": null,
      "min_height": null,
      "min_width": null,
      "object_fit": null,
      "object_position": null,
      "order": null,
      "overflow": null,
      "overflow_x": null,
      "overflow_y": null,
      "padding": null,
      "right": null,
      "top": null,
      "visibility": null,
      "width": null
     }
    },
    "08155d513c5749cf8081b05854bbd454": {
     "model_module": "@jupyter-widgets/controls",
     "model_module_version": "1.5.0",
     "model_name": "ProgressStyleModel",
     "state": {
      "_model_module": "@jupyter-widgets/controls",
      "_model_module_version": "1.5.0",
      "_model_name": "ProgressStyleModel",
      "_view_count": null,
      "_view_module": "@jupyter-widgets/base",
      "_view_module_version": "1.2.0",
      "_view_name": "StyleView",
      "bar_color": null,
      "description_width": ""
     }
    },
    "10d1a185c75e4111a7aee513de086874": {
     "model_module": "@jupyter-widgets/base",
     "model_module_version": "1.2.0",
     "model_name": "LayoutModel",
     "state": {
      "_model_module": "@jupyter-widgets/base",
      "_model_module_version": "1.2.0",
      "_model_name": "LayoutModel",
      "_view_count": null,
      "_view_module": "@jupyter-widgets/base",
      "_view_module_version": "1.2.0",
      "_view_name": "LayoutView",
      "align_content": null,
      "align_items": null,
      "align_self": null,
      "border": null,
      "bottom": null,
      "display": null,
      "flex": null,
      "flex_flow": null,
      "grid_area": null,
      "grid_auto_columns": null,
      "grid_auto_flow": null,
      "grid_auto_rows": null,
      "grid_column": null,
      "grid_gap": null,
      "grid_row": null,
      "grid_template_areas": null,
      "grid_template_columns": null,
      "grid_template_rows": null,
      "height": null,
      "justify_content": null,
      "justify_items": null,
      "left": null,
      "margin": null,
      "max_height": null,
      "max_width": null,
      "min_height": null,
      "min_width": null,
      "object_fit": null,
      "object_position": null,
      "order": null,
      "overflow": null,
      "overflow_x": null,
      "overflow_y": null,
      "padding": null,
      "right": null,
      "top": null,
      "visibility": null,
      "width": null
     }
    },
    "17f4f580154942468a8034ec9fec5bfb": {
     "model_module": "@jupyter-widgets/controls",
     "model_module_version": "1.5.0",
     "model_name": "ProgressStyleModel",
     "state": {
      "_model_module": "@jupyter-widgets/controls",
      "_model_module_version": "1.5.0",
      "_model_name": "ProgressStyleModel",
      "_view_count": null,
      "_view_module": "@jupyter-widgets/base",
      "_view_module_version": "1.2.0",
      "_view_name": "StyleView",
      "bar_color": null,
      "description_width": ""
     }
    },
    "1aaae6bc84ca4095850eb1243db05ebd": {
     "model_module": "@jupyter-widgets/controls",
     "model_module_version": "1.5.0",
     "model_name": "ProgressStyleModel",
     "state": {
      "_model_module": "@jupyter-widgets/controls",
      "_model_module_version": "1.5.0",
      "_model_name": "ProgressStyleModel",
      "_view_count": null,
      "_view_module": "@jupyter-widgets/base",
      "_view_module_version": "1.2.0",
      "_view_name": "StyleView",
      "bar_color": null,
      "description_width": ""
     }
    },
    "1d81cf0e73fd43749bf3e1b2320c6540": {
     "model_module": "@jupyter-widgets/controls",
     "model_module_version": "1.5.0",
     "model_name": "HTMLModel",
     "state": {
      "_dom_classes": [],
      "_model_module": "@jupyter-widgets/controls",
      "_model_module_version": "1.5.0",
      "_model_name": "HTMLModel",
      "_view_count": null,
      "_view_module": "@jupyter-widgets/controls",
      "_view_module_version": "1.5.0",
      "_view_name": "HTMLView",
      "description": "",
      "description_tooltip": null,
      "layout": "IPY_MODEL_fecca458250e4e8c8a81f1a67e01a2fd",
      "placeholder": "​",
      "style": "IPY_MODEL_6b5665fc12f441c7924fe543f4a17922",
      "value": " 4542/4542 [00:00&lt;00:00, 220860.33it/s]"
     }
    },
    "1df38775131d4038bfc8fcc93f89d6dd": {
     "model_module": "@jupyter-widgets/controls",
     "model_module_version": "1.5.0",
     "model_name": "HTMLModel",
     "state": {
      "_dom_classes": [],
      "_model_module": "@jupyter-widgets/controls",
      "_model_module_version": "1.5.0",
      "_model_name": "HTMLModel",
      "_view_count": null,
      "_view_module": "@jupyter-widgets/controls",
      "_view_module_version": "1.5.0",
      "_view_name": "HTMLView",
      "description": "",
      "description_tooltip": null,
      "layout": "IPY_MODEL_10d1a185c75e4111a7aee513de086874",
      "placeholder": "​",
      "style": "IPY_MODEL_e71a8ead4cae47ac817eacd3246d79e2",
      "value": "100%"
     }
    },
    "1fb647c619304e8c95e440e90aa1f38b": {
     "model_module": "@jupyter-widgets/base",
     "model_module_version": "1.2.0",
     "model_name": "LayoutModel",
     "state": {
      "_model_module": "@jupyter-widgets/base",
      "_model_module_version": "1.2.0",
      "_model_name": "LayoutModel",
      "_view_count": null,
      "_view_module": "@jupyter-widgets/base",
      "_view_module_version": "1.2.0",
      "_view_name": "LayoutView",
      "align_content": null,
      "align_items": null,
      "align_self": null,
      "border": null,
      "bottom": null,
      "display": null,
      "flex": null,
      "flex_flow": null,
      "grid_area": null,
      "grid_auto_columns": null,
      "grid_auto_flow": null,
      "grid_auto_rows": null,
      "grid_column": null,
      "grid_gap": null,
      "grid_row": null,
      "grid_template_areas": null,
      "grid_template_columns": null,
      "grid_template_rows": null,
      "height": null,
      "justify_content": null,
      "justify_items": null,
      "left": null,
      "margin": null,
      "max_height": null,
      "max_width": null,
      "min_height": null,
      "min_width": null,
      "object_fit": null,
      "object_position": null,
      "order": null,
      "overflow": null,
      "overflow_x": null,
      "overflow_y": null,
      "padding": null,
      "right": null,
      "top": null,
      "visibility": null,
      "width": null
     }
    },
    "28d9e018f10c44318f3c90482b0f1124": {
     "model_module": "@jupyter-widgets/base",
     "model_module_version": "1.2.0",
     "model_name": "LayoutModel",
     "state": {
      "_model_module": "@jupyter-widgets/base",
      "_model_module_version": "1.2.0",
      "_model_name": "LayoutModel",
      "_view_count": null,
      "_view_module": "@jupyter-widgets/base",
      "_view_module_version": "1.2.0",
      "_view_name": "LayoutView",
      "align_content": null,
      "align_items": null,
      "align_self": null,
      "border": null,
      "bottom": null,
      "display": null,
      "flex": null,
      "flex_flow": null,
      "grid_area": null,
      "grid_auto_columns": null,
      "grid_auto_flow": null,
      "grid_auto_rows": null,
      "grid_column": null,
      "grid_gap": null,
      "grid_row": null,
      "grid_template_areas": null,
      "grid_template_columns": null,
      "grid_template_rows": null,
      "height": null,
      "justify_content": null,
      "justify_items": null,
      "left": null,
      "margin": null,
      "max_height": null,
      "max_width": null,
      "min_height": null,
      "min_width": null,
      "object_fit": null,
      "object_position": null,
      "order": null,
      "overflow": null,
      "overflow_x": null,
      "overflow_y": null,
      "padding": null,
      "right": null,
      "top": null,
      "visibility": null,
      "width": null
     }
    },
    "362905698053407d931408ad9e7beed1": {
     "model_module": "@jupyter-widgets/controls",
     "model_module_version": "1.5.0",
     "model_name": "DescriptionStyleModel",
     "state": {
      "_model_module": "@jupyter-widgets/controls",
      "_model_module_version": "1.5.0",
      "_model_name": "DescriptionStyleModel",
      "_view_count": null,
      "_view_module": "@jupyter-widgets/base",
      "_view_module_version": "1.2.0",
      "_view_name": "StyleView",
      "description_width": ""
     }
    },
    "43ee5fc31ca84a4589887866c6a4df43": {
     "model_module": "@jupyter-widgets/base",
     "model_module_version": "1.2.0",
     "model_name": "LayoutModel",
     "state": {
      "_model_module": "@jupyter-widgets/base",
      "_model_module_version": "1.2.0",
      "_model_name": "LayoutModel",
      "_view_count": null,
      "_view_module": "@jupyter-widgets/base",
      "_view_module_version": "1.2.0",
      "_view_name": "LayoutView",
      "align_content": null,
      "align_items": null,
      "align_self": null,
      "border": null,
      "bottom": null,
      "display": null,
      "flex": null,
      "flex_flow": null,
      "grid_area": null,
      "grid_auto_columns": null,
      "grid_auto_flow": null,
      "grid_auto_rows": null,
      "grid_column": null,
      "grid_gap": null,
      "grid_row": null,
      "grid_template_areas": null,
      "grid_template_columns": null,
      "grid_template_rows": null,
      "height": null,
      "justify_content": null,
      "justify_items": null,
      "left": null,
      "margin": null,
      "max_height": null,
      "max_width": null,
      "min_height": null,
      "min_width": null,
      "object_fit": null,
      "object_position": null,
      "order": null,
      "overflow": null,
      "overflow_x": null,
      "overflow_y": null,
      "padding": null,
      "right": null,
      "top": null,
      "visibility": null,
      "width": null
     }
    },
    "447c8cda20cd4711825304d7cd2b1595": {
     "model_module": "@jupyter-widgets/base",
     "model_module_version": "1.2.0",
     "model_name": "LayoutModel",
     "state": {
      "_model_module": "@jupyter-widgets/base",
      "_model_module_version": "1.2.0",
      "_model_name": "LayoutModel",
      "_view_count": null,
      "_view_module": "@jupyter-widgets/base",
      "_view_module_version": "1.2.0",
      "_view_name": "LayoutView",
      "align_content": null,
      "align_items": null,
      "align_self": null,
      "border": null,
      "bottom": null,
      "display": null,
      "flex": null,
      "flex_flow": null,
      "grid_area": null,
      "grid_auto_columns": null,
      "grid_auto_flow": null,
      "grid_auto_rows": null,
      "grid_column": null,
      "grid_gap": null,
      "grid_row": null,
      "grid_template_areas": null,
      "grid_template_columns": null,
      "grid_template_rows": null,
      "height": null,
      "justify_content": null,
      "justify_items": null,
      "left": null,
      "margin": null,
      "max_height": null,
      "max_width": null,
      "min_height": null,
      "min_width": null,
      "object_fit": null,
      "object_position": null,
      "order": null,
      "overflow": null,
      "overflow_x": null,
      "overflow_y": null,
      "padding": null,
      "right": null,
      "top": null,
      "visibility": null,
      "width": null
     }
    },
    "4596a702e9e240cd9bacc5fc8f9443ff": {
     "model_module": "@jupyter-widgets/controls",
     "model_module_version": "1.5.0",
     "model_name": "FloatProgressModel",
     "state": {
      "_dom_classes": [],
      "_model_module": "@jupyter-widgets/controls",
      "_model_module_version": "1.5.0",
      "_model_name": "FloatProgressModel",
      "_view_count": null,
      "_view_module": "@jupyter-widgets/controls",
      "_view_module_version": "1.5.0",
      "_view_name": "ProgressView",
      "bar_style": "success",
      "description": "",
      "description_tooltip": null,
      "layout": "IPY_MODEL_a6323331657d4feb825473dee8e4f553",
      "max": 1648877,
      "min": 0,
      "orientation": "horizontal",
      "style": "IPY_MODEL_73bcfb50afb44982ab9fac59fe47a2fd",
      "value": 1648877
     }
    },
    "468b1179f24e444d8eb12d23fd119b50": {
     "model_module": "@jupyter-widgets/base",
     "model_module_version": "1.2.0",
     "model_name": "LayoutModel",
     "state": {
      "_model_module": "@jupyter-widgets/base",
      "_model_module_version": "1.2.0",
      "_model_name": "LayoutModel",
      "_view_count": null,
      "_view_module": "@jupyter-widgets/base",
      "_view_module_version": "1.2.0",
      "_view_name": "LayoutView",
      "align_content": null,
      "align_items": null,
      "align_self": null,
      "border": null,
      "bottom": null,
      "display": null,
      "flex": null,
      "flex_flow": null,
      "grid_area": null,
      "grid_auto_columns": null,
      "grid_auto_flow": null,
      "grid_auto_rows": null,
      "grid_column": null,
      "grid_gap": null,
      "grid_row": null,
      "grid_template_areas": null,
      "grid_template_columns": null,
      "grid_template_rows": null,
      "height": null,
      "justify_content": null,
      "justify_items": null,
      "left": null,
      "margin": null,
      "max_height": null,
      "max_width": null,
      "min_height": null,
      "min_width": null,
      "object_fit": null,
      "object_position": null,
      "order": null,
      "overflow": null,
      "overflow_x": null,
      "overflow_y": null,
      "padding": null,
      "right": null,
      "top": null,
      "visibility": null,
      "width": null
     }
    },
    "473d389b73ad4594af4705bbef586bef": {
     "model_module": "@jupyter-widgets/base",
     "model_module_version": "1.2.0",
     "model_name": "LayoutModel",
     "state": {
      "_model_module": "@jupyter-widgets/base",
      "_model_module_version": "1.2.0",
      "_model_name": "LayoutModel",
      "_view_count": null,
      "_view_module": "@jupyter-widgets/base",
      "_view_module_version": "1.2.0",
      "_view_name": "LayoutView",
      "align_content": null,
      "align_items": null,
      "align_self": null,
      "border": null,
      "bottom": null,
      "display": null,
      "flex": null,
      "flex_flow": null,
      "grid_area": null,
      "grid_auto_columns": null,
      "grid_auto_flow": null,
      "grid_auto_rows": null,
      "grid_column": null,
      "grid_gap": null,
      "grid_row": null,
      "grid_template_areas": null,
      "grid_template_columns": null,
      "grid_template_rows": null,
      "height": null,
      "justify_content": null,
      "justify_items": null,
      "left": null,
      "margin": null,
      "max_height": null,
      "max_width": null,
      "min_height": null,
      "min_width": null,
      "object_fit": null,
      "object_position": null,
      "order": null,
      "overflow": null,
      "overflow_x": null,
      "overflow_y": null,
      "padding": null,
      "right": null,
      "top": null,
      "visibility": null,
      "width": null
     }
    },
    "48f158d2ee4543a7bd7b23ec3f2af531": {
     "model_module": "@jupyter-widgets/base",
     "model_module_version": "1.2.0",
     "model_name": "LayoutModel",
     "state": {
      "_model_module": "@jupyter-widgets/base",
      "_model_module_version": "1.2.0",
      "_model_name": "LayoutModel",
      "_view_count": null,
      "_view_module": "@jupyter-widgets/base",
      "_view_module_version": "1.2.0",
      "_view_name": "LayoutView",
      "align_content": null,
      "align_items": null,
      "align_self": null,
      "border": null,
      "bottom": null,
      "display": null,
      "flex": null,
      "flex_flow": null,
      "grid_area": null,
      "grid_auto_columns": null,
      "grid_auto_flow": null,
      "grid_auto_rows": null,
      "grid_column": null,
      "grid_gap": null,
      "grid_row": null,
      "grid_template_areas": null,
      "grid_template_columns": null,
      "grid_template_rows": null,
      "height": null,
      "justify_content": null,
      "justify_items": null,
      "left": null,
      "margin": null,
      "max_height": null,
      "max_width": null,
      "min_height": null,
      "min_width": null,
      "object_fit": null,
      "object_position": null,
      "order": null,
      "overflow": null,
      "overflow_x": null,
      "overflow_y": null,
      "padding": null,
      "right": null,
      "top": null,
      "visibility": null,
      "width": null
     }
    },
    "583e081c105141ccb05d1ddffa65f7c7": {
     "model_module": "@jupyter-widgets/controls",
     "model_module_version": "1.5.0",
     "model_name": "DescriptionStyleModel",
     "state": {
      "_model_module": "@jupyter-widgets/controls",
      "_model_module_version": "1.5.0",
      "_model_name": "DescriptionStyleModel",
      "_view_count": null,
      "_view_module": "@jupyter-widgets/base",
      "_view_module_version": "1.2.0",
      "_view_name": "StyleView",
      "description_width": ""
     }
    },
    "66c87db830b047bfb8064f4e1daa9b96": {
     "model_module": "@jupyter-widgets/controls",
     "model_module_version": "1.5.0",
     "model_name": "HBoxModel",
     "state": {
      "_dom_classes": [],
      "_model_module": "@jupyter-widgets/controls",
      "_model_module_version": "1.5.0",
      "_model_name": "HBoxModel",
      "_view_count": null,
      "_view_module": "@jupyter-widgets/controls",
      "_view_module_version": "1.5.0",
      "_view_name": "HBoxView",
      "box_style": "",
      "children": [
       "IPY_MODEL_ece16d91210448fa8e86651bcb934b8e",
       "IPY_MODEL_4596a702e9e240cd9bacc5fc8f9443ff",
       "IPY_MODEL_c9f756dff9444dee8e921a4925ed6eea"
      ],
      "layout": "IPY_MODEL_9073ed8164b64239a189e3c88569f0dc"
     }
    },
    "69573df96eef4713b92869cdfa762128": {
     "model_module": "@jupyter-widgets/controls",
     "model_module_version": "1.5.0",
     "model_name": "HTMLModel",
     "state": {
      "_dom_classes": [],
      "_model_module": "@jupyter-widgets/controls",
      "_model_module_version": "1.5.0",
      "_model_name": "HTMLModel",
      "_view_count": null,
      "_view_module": "@jupyter-widgets/controls",
      "_view_module_version": "1.5.0",
      "_view_name": "HTMLView",
      "description": "",
      "description_tooltip": null,
      "layout": "IPY_MODEL_28d9e018f10c44318f3c90482b0f1124",
      "placeholder": "​",
      "style": "IPY_MODEL_583e081c105141ccb05d1ddffa65f7c7",
      "value": " 9912422/9912422 [00:00&lt;00:00, 208752184.11it/s]"
     }
    },
    "6b5665fc12f441c7924fe543f4a17922": {
     "model_module": "@jupyter-widgets/controls",
     "model_module_version": "1.5.0",
     "model_name": "DescriptionStyleModel",
     "state": {
      "_model_module": "@jupyter-widgets/controls",
      "_model_module_version": "1.5.0",
      "_model_name": "DescriptionStyleModel",
      "_view_count": null,
      "_view_module": "@jupyter-widgets/base",
      "_view_module_version": "1.2.0",
      "_view_name": "StyleView",
      "description_width": ""
     }
    },
    "719f9b376c78444798e8bca332550bfa": {
     "model_module": "@jupyter-widgets/controls",
     "model_module_version": "1.5.0",
     "model_name": "HTMLModel",
     "state": {
      "_dom_classes": [],
      "_model_module": "@jupyter-widgets/controls",
      "_model_module_version": "1.5.0",
      "_model_name": "HTMLModel",
      "_view_count": null,
      "_view_module": "@jupyter-widgets/controls",
      "_view_module_version": "1.5.0",
      "_view_name": "HTMLView",
      "description": "",
      "description_tooltip": null,
      "layout": "IPY_MODEL_1fb647c619304e8c95e440e90aa1f38b",
      "placeholder": "​",
      "style": "IPY_MODEL_d638b307b71248e98fe6e2a946ee83e1",
      "value": " 28881/28881 [00:00&lt;00:00, 1510005.91it/s]"
     }
    },
    "73bcfb50afb44982ab9fac59fe47a2fd": {
     "model_module": "@jupyter-widgets/controls",
     "model_module_version": "1.5.0",
     "model_name": "ProgressStyleModel",
     "state": {
      "_model_module": "@jupyter-widgets/controls",
      "_model_module_version": "1.5.0",
      "_model_name": "ProgressStyleModel",
      "_view_count": null,
      "_view_module": "@jupyter-widgets/base",
      "_view_module_version": "1.2.0",
      "_view_name": "StyleView",
      "bar_color": null,
      "description_width": ""
     }
    },
    "846359bd7ac1494785ed602d61196a6a": {
     "model_module": "@jupyter-widgets/controls",
     "model_module_version": "1.5.0",
     "model_name": "HBoxModel",
     "state": {
      "_dom_classes": [],
      "_model_module": "@jupyter-widgets/controls",
      "_model_module_version": "1.5.0",
      "_model_name": "HBoxModel",
      "_view_count": null,
      "_view_module": "@jupyter-widgets/controls",
      "_view_module_version": "1.5.0",
      "_view_name": "HBoxView",
      "box_style": "",
      "children": [
       "IPY_MODEL_1df38775131d4038bfc8fcc93f89d6dd",
       "IPY_MODEL_ecaaa596af4e4fc9a0e8c9a5a7016ad2",
       "IPY_MODEL_719f9b376c78444798e8bca332550bfa"
      ],
      "layout": "IPY_MODEL_04a10ff31872486daa3af290d98aab44"
     }
    },
    "88e3c1aea9f544479af0da0cc2a21200": {
     "model_module": "@jupyter-widgets/controls",
     "model_module_version": "1.5.0",
     "model_name": "DescriptionStyleModel",
     "state": {
      "_model_module": "@jupyter-widgets/controls",
      "_model_module_version": "1.5.0",
      "_model_name": "DescriptionStyleModel",
      "_view_count": null,
      "_view_module": "@jupyter-widgets/base",
      "_view_module_version": "1.2.0",
      "_view_name": "StyleView",
      "description_width": ""
     }
    },
    "8f3f4608bf054db1a2d7958a6819f5ae": {
     "model_module": "@jupyter-widgets/controls",
     "model_module_version": "1.5.0",
     "model_name": "FloatProgressModel",
     "state": {
      "_dom_classes": [],
      "_model_module": "@jupyter-widgets/controls",
      "_model_module_version": "1.5.0",
      "_model_name": "FloatProgressModel",
      "_view_count": null,
      "_view_module": "@jupyter-widgets/controls",
      "_view_module_version": "1.5.0",
      "_view_name": "ProgressView",
      "bar_style": "success",
      "description": "",
      "description_tooltip": null,
      "layout": "IPY_MODEL_48f158d2ee4543a7bd7b23ec3f2af531",
      "max": 4542,
      "min": 0,
      "orientation": "horizontal",
      "style": "IPY_MODEL_17f4f580154942468a8034ec9fec5bfb",
      "value": 4542
     }
    },
    "9073ed8164b64239a189e3c88569f0dc": {
     "model_module": "@jupyter-widgets/base",
     "model_module_version": "1.2.0",
     "model_name": "LayoutModel",
     "state": {
      "_model_module": "@jupyter-widgets/base",
      "_model_module_version": "1.2.0",
      "_model_name": "LayoutModel",
      "_view_count": null,
      "_view_module": "@jupyter-widgets/base",
      "_view_module_version": "1.2.0",
      "_view_name": "LayoutView",
      "align_content": null,
      "align_items": null,
      "align_self": null,
      "border": null,
      "bottom": null,
      "display": null,
      "flex": null,
      "flex_flow": null,
      "grid_area": null,
      "grid_auto_columns": null,
      "grid_auto_flow": null,
      "grid_auto_rows": null,
      "grid_column": null,
      "grid_gap": null,
      "grid_row": null,
      "grid_template_areas": null,
      "grid_template_columns": null,
      "grid_template_rows": null,
      "height": null,
      "justify_content": null,
      "justify_items": null,
      "left": null,
      "margin": null,
      "max_height": null,
      "max_width": null,
      "min_height": null,
      "min_width": null,
      "object_fit": null,
      "object_position": null,
      "order": null,
      "overflow": null,
      "overflow_x": null,
      "overflow_y": null,
      "padding": null,
      "right": null,
      "top": null,
      "visibility": null,
      "width": null
     }
    },
    "986e5a21c3a14509ac31cf4f50d99303": {
     "model_module": "@jupyter-widgets/controls",
     "model_module_version": "1.5.0",
     "model_name": "HTMLModel",
     "state": {
      "_dom_classes": [],
      "_model_module": "@jupyter-widgets/controls",
      "_model_module_version": "1.5.0",
      "_model_name": "HTMLModel",
      "_view_count": null,
      "_view_module": "@jupyter-widgets/controls",
      "_view_module_version": "1.5.0",
      "_view_name": "HTMLView",
      "description": "",
      "description_tooltip": null,
      "layout": "IPY_MODEL_43ee5fc31ca84a4589887866c6a4df43",
      "placeholder": "​",
      "style": "IPY_MODEL_88e3c1aea9f544479af0da0cc2a21200",
      "value": "100%"
     }
    },
    "a6323331657d4feb825473dee8e4f553": {
     "model_module": "@jupyter-widgets/base",
     "model_module_version": "1.2.0",
     "model_name": "LayoutModel",
     "state": {
      "_model_module": "@jupyter-widgets/base",
      "_model_module_version": "1.2.0",
      "_model_name": "LayoutModel",
      "_view_count": null,
      "_view_module": "@jupyter-widgets/base",
      "_view_module_version": "1.2.0",
      "_view_name": "LayoutView",
      "align_content": null,
      "align_items": null,
      "align_self": null,
      "border": null,
      "bottom": null,
      "display": null,
      "flex": null,
      "flex_flow": null,
      "grid_area": null,
      "grid_auto_columns": null,
      "grid_auto_flow": null,
      "grid_auto_rows": null,
      "grid_column": null,
      "grid_gap": null,
      "grid_row": null,
      "grid_template_areas": null,
      "grid_template_columns": null,
      "grid_template_rows": null,
      "height": null,
      "justify_content": null,
      "justify_items": null,
      "left": null,
      "margin": null,
      "max_height": null,
      "max_width": null,
      "min_height": null,
      "min_width": null,
      "object_fit": null,
      "object_position": null,
      "order": null,
      "overflow": null,
      "overflow_x": null,
      "overflow_y": null,
      "padding": null,
      "right": null,
      "top": null,
      "visibility": null,
      "width": null
     }
    },
    "b3e083551c5841b6b095c5f38292059b": {
     "model_module": "@jupyter-widgets/controls",
     "model_module_version": "1.5.0",
     "model_name": "DescriptionStyleModel",
     "state": {
      "_model_module": "@jupyter-widgets/controls",
      "_model_module_version": "1.5.0",
      "_model_name": "DescriptionStyleModel",
      "_view_count": null,
      "_view_module": "@jupyter-widgets/base",
      "_view_module_version": "1.2.0",
      "_view_name": "StyleView",
      "description_width": ""
     }
    },
    "becda23ade134bfa9d8c42b3c3812f12": {
     "model_module": "@jupyter-widgets/controls",
     "model_module_version": "1.5.0",
     "model_name": "DescriptionStyleModel",
     "state": {
      "_model_module": "@jupyter-widgets/controls",
      "_model_module_version": "1.5.0",
      "_model_name": "DescriptionStyleModel",
      "_view_count": null,
      "_view_module": "@jupyter-widgets/base",
      "_view_module_version": "1.2.0",
      "_view_name": "StyleView",
      "description_width": ""
     }
    },
    "c7dab18d51bd4db0af9805880202d288": {
     "model_module": "@jupyter-widgets/base",
     "model_module_version": "1.2.0",
     "model_name": "LayoutModel",
     "state": {
      "_model_module": "@jupyter-widgets/base",
      "_model_module_version": "1.2.0",
      "_model_name": "LayoutModel",
      "_view_count": null,
      "_view_module": "@jupyter-widgets/base",
      "_view_module_version": "1.2.0",
      "_view_name": "LayoutView",
      "align_content": null,
      "align_items": null,
      "align_self": null,
      "border": null,
      "bottom": null,
      "display": null,
      "flex": null,
      "flex_flow": null,
      "grid_area": null,
      "grid_auto_columns": null,
      "grid_auto_flow": null,
      "grid_auto_rows": null,
      "grid_column": null,
      "grid_gap": null,
      "grid_row": null,
      "grid_template_areas": null,
      "grid_template_columns": null,
      "grid_template_rows": null,
      "height": null,
      "justify_content": null,
      "justify_items": null,
      "left": null,
      "margin": null,
      "max_height": null,
      "max_width": null,
      "min_height": null,
      "min_width": null,
      "object_fit": null,
      "object_position": null,
      "order": null,
      "overflow": null,
      "overflow_x": null,
      "overflow_y": null,
      "padding": null,
      "right": null,
      "top": null,
      "visibility": null,
      "width": null
     }
    },
    "c7ee7c82cc074e9c8adb1f6a169816b1": {
     "model_module": "@jupyter-widgets/base",
     "model_module_version": "1.2.0",
     "model_name": "LayoutModel",
     "state": {
      "_model_module": "@jupyter-widgets/base",
      "_model_module_version": "1.2.0",
      "_model_name": "LayoutModel",
      "_view_count": null,
      "_view_module": "@jupyter-widgets/base",
      "_view_module_version": "1.2.0",
      "_view_name": "LayoutView",
      "align_content": null,
      "align_items": null,
      "align_self": null,
      "border": null,
      "bottom": null,
      "display": null,
      "flex": null,
      "flex_flow": null,
      "grid_area": null,
      "grid_auto_columns": null,
      "grid_auto_flow": null,
      "grid_auto_rows": null,
      "grid_column": null,
      "grid_gap": null,
      "grid_row": null,
      "grid_template_areas": null,
      "grid_template_columns": null,
      "grid_template_rows": null,
      "height": null,
      "justify_content": null,
      "justify_items": null,
      "left": null,
      "margin": null,
      "max_height": null,
      "max_width": null,
      "min_height": null,
      "min_width": null,
      "object_fit": null,
      "object_position": null,
      "order": null,
      "overflow": null,
      "overflow_x": null,
      "overflow_y": null,
      "padding": null,
      "right": null,
      "top": null,
      "visibility": null,
      "width": null
     }
    },
    "c9f756dff9444dee8e921a4925ed6eea": {
     "model_module": "@jupyter-widgets/controls",
     "model_module_version": "1.5.0",
     "model_name": "HTMLModel",
     "state": {
      "_dom_classes": [],
      "_model_module": "@jupyter-widgets/controls",
      "_model_module_version": "1.5.0",
      "_model_name": "HTMLModel",
      "_view_count": null,
      "_view_module": "@jupyter-widgets/controls",
      "_view_module_version": "1.5.0",
      "_view_name": "HTMLView",
      "description": "",
      "description_tooltip": null,
      "layout": "IPY_MODEL_e40e785625084f7d9697603962bdb7f4",
      "placeholder": "​",
      "style": "IPY_MODEL_362905698053407d931408ad9e7beed1",
      "value": " 1648877/1648877 [00:00&lt;00:00, 38137284.23it/s]"
     }
    },
    "cd2ca4e3911849ecaaed8ad0f19b3102": {
     "model_module": "@jupyter-widgets/controls",
     "model_module_version": "1.5.0",
     "model_name": "HBoxModel",
     "state": {
      "_dom_classes": [],
      "_model_module": "@jupyter-widgets/controls",
      "_model_module_version": "1.5.0",
      "_model_name": "HBoxModel",
      "_view_count": null,
      "_view_module": "@jupyter-widgets/controls",
      "_view_module_version": "1.5.0",
      "_view_name": "HBoxView",
      "box_style": "",
      "children": [
       "IPY_MODEL_986e5a21c3a14509ac31cf4f50d99303",
       "IPY_MODEL_8f3f4608bf054db1a2d7958a6819f5ae",
       "IPY_MODEL_1d81cf0e73fd43749bf3e1b2320c6540"
      ],
      "layout": "IPY_MODEL_c7ee7c82cc074e9c8adb1f6a169816b1"
     }
    },
    "cf09cd6c294e4b84a0e8a956bcfcbc4f": {
     "model_module": "@jupyter-widgets/controls",
     "model_module_version": "1.5.0",
     "model_name": "HBoxModel",
     "state": {
      "_dom_classes": [],
      "_model_module": "@jupyter-widgets/controls",
      "_model_module_version": "1.5.0",
      "_model_name": "HBoxModel",
      "_view_count": null,
      "_view_module": "@jupyter-widgets/controls",
      "_view_module_version": "1.5.0",
      "_view_name": "HBoxView",
      "box_style": "",
      "children": [
       "IPY_MODEL_ff3dc472dd53414aa7d303612cc013ab",
       "IPY_MODEL_ef59a6d533594f78b2fd727210b2b5f0",
       "IPY_MODEL_69573df96eef4713b92869cdfa762128"
      ],
      "layout": "IPY_MODEL_447c8cda20cd4711825304d7cd2b1595"
     }
    },
    "d638b307b71248e98fe6e2a946ee83e1": {
     "model_module": "@jupyter-widgets/controls",
     "model_module_version": "1.5.0",
     "model_name": "DescriptionStyleModel",
     "state": {
      "_model_module": "@jupyter-widgets/controls",
      "_model_module_version": "1.5.0",
      "_model_name": "DescriptionStyleModel",
      "_view_count": null,
      "_view_module": "@jupyter-widgets/base",
      "_view_module_version": "1.2.0",
      "_view_name": "StyleView",
      "description_width": ""
     }
    },
    "e40e785625084f7d9697603962bdb7f4": {
     "model_module": "@jupyter-widgets/base",
     "model_module_version": "1.2.0",
     "model_name": "LayoutModel",
     "state": {
      "_model_module": "@jupyter-widgets/base",
      "_model_module_version": "1.2.0",
      "_model_name": "LayoutModel",
      "_view_count": null,
      "_view_module": "@jupyter-widgets/base",
      "_view_module_version": "1.2.0",
      "_view_name": "LayoutView",
      "align_content": null,
      "align_items": null,
      "align_self": null,
      "border": null,
      "bottom": null,
      "display": null,
      "flex": null,
      "flex_flow": null,
      "grid_area": null,
      "grid_auto_columns": null,
      "grid_auto_flow": null,
      "grid_auto_rows": null,
      "grid_column": null,
      "grid_gap": null,
      "grid_row": null,
      "grid_template_areas": null,
      "grid_template_columns": null,
      "grid_template_rows": null,
      "height": null,
      "justify_content": null,
      "justify_items": null,
      "left": null,
      "margin": null,
      "max_height": null,
      "max_width": null,
      "min_height": null,
      "min_width": null,
      "object_fit": null,
      "object_position": null,
      "order": null,
      "overflow": null,
      "overflow_x": null,
      "overflow_y": null,
      "padding": null,
      "right": null,
      "top": null,
      "visibility": null,
      "width": null
     }
    },
    "e71a8ead4cae47ac817eacd3246d79e2": {
     "model_module": "@jupyter-widgets/controls",
     "model_module_version": "1.5.0",
     "model_name": "DescriptionStyleModel",
     "state": {
      "_model_module": "@jupyter-widgets/controls",
      "_model_module_version": "1.5.0",
      "_model_name": "DescriptionStyleModel",
      "_view_count": null,
      "_view_module": "@jupyter-widgets/base",
      "_view_module_version": "1.2.0",
      "_view_name": "StyleView",
      "description_width": ""
     }
    },
    "ecaaa596af4e4fc9a0e8c9a5a7016ad2": {
     "model_module": "@jupyter-widgets/controls",
     "model_module_version": "1.5.0",
     "model_name": "FloatProgressModel",
     "state": {
      "_dom_classes": [],
      "_model_module": "@jupyter-widgets/controls",
      "_model_module_version": "1.5.0",
      "_model_name": "FloatProgressModel",
      "_view_count": null,
      "_view_module": "@jupyter-widgets/controls",
      "_view_module_version": "1.5.0",
      "_view_name": "ProgressView",
      "bar_style": "success",
      "description": "",
      "description_tooltip": null,
      "layout": "IPY_MODEL_468b1179f24e444d8eb12d23fd119b50",
      "max": 28881,
      "min": 0,
      "orientation": "horizontal",
      "style": "IPY_MODEL_08155d513c5749cf8081b05854bbd454",
      "value": 28881
     }
    },
    "ece16d91210448fa8e86651bcb934b8e": {
     "model_module": "@jupyter-widgets/controls",
     "model_module_version": "1.5.0",
     "model_name": "HTMLModel",
     "state": {
      "_dom_classes": [],
      "_model_module": "@jupyter-widgets/controls",
      "_model_module_version": "1.5.0",
      "_model_name": "HTMLModel",
      "_view_count": null,
      "_view_module": "@jupyter-widgets/controls",
      "_view_module_version": "1.5.0",
      "_view_name": "HTMLView",
      "description": "",
      "description_tooltip": null,
      "layout": "IPY_MODEL_c7dab18d51bd4db0af9805880202d288",
      "placeholder": "​",
      "style": "IPY_MODEL_becda23ade134bfa9d8c42b3c3812f12",
      "value": "100%"
     }
    },
    "ef59a6d533594f78b2fd727210b2b5f0": {
     "model_module": "@jupyter-widgets/controls",
     "model_module_version": "1.5.0",
     "model_name": "FloatProgressModel",
     "state": {
      "_dom_classes": [],
      "_model_module": "@jupyter-widgets/controls",
      "_model_module_version": "1.5.0",
      "_model_name": "FloatProgressModel",
      "_view_count": null,
      "_view_module": "@jupyter-widgets/controls",
      "_view_module_version": "1.5.0",
      "_view_name": "ProgressView",
      "bar_style": "success",
      "description": "",
      "description_tooltip": null,
      "layout": "IPY_MODEL_fe85d7d63d774a56b61b285c8adec540",
      "max": 9912422,
      "min": 0,
      "orientation": "horizontal",
      "style": "IPY_MODEL_1aaae6bc84ca4095850eb1243db05ebd",
      "value": 9912422
     }
    },
    "fe85d7d63d774a56b61b285c8adec540": {
     "model_module": "@jupyter-widgets/base",
     "model_module_version": "1.2.0",
     "model_name": "LayoutModel",
     "state": {
      "_model_module": "@jupyter-widgets/base",
      "_model_module_version": "1.2.0",
      "_model_name": "LayoutModel",
      "_view_count": null,
      "_view_module": "@jupyter-widgets/base",
      "_view_module_version": "1.2.0",
      "_view_name": "LayoutView",
      "align_content": null,
      "align_items": null,
      "align_self": null,
      "border": null,
      "bottom": null,
      "display": null,
      "flex": null,
      "flex_flow": null,
      "grid_area": null,
      "grid_auto_columns": null,
      "grid_auto_flow": null,
      "grid_auto_rows": null,
      "grid_column": null,
      "grid_gap": null,
      "grid_row": null,
      "grid_template_areas": null,
      "grid_template_columns": null,
      "grid_template_rows": null,
      "height": null,
      "justify_content": null,
      "justify_items": null,
      "left": null,
      "margin": null,
      "max_height": null,
      "max_width": null,
      "min_height": null,
      "min_width": null,
      "object_fit": null,
      "object_position": null,
      "order": null,
      "overflow": null,
      "overflow_x": null,
      "overflow_y": null,
      "padding": null,
      "right": null,
      "top": null,
      "visibility": null,
      "width": null
     }
    },
    "fecca458250e4e8c8a81f1a67e01a2fd": {
     "model_module": "@jupyter-widgets/base",
     "model_module_version": "1.2.0",
     "model_name": "LayoutModel",
     "state": {
      "_model_module": "@jupyter-widgets/base",
      "_model_module_version": "1.2.0",
      "_model_name": "LayoutModel",
      "_view_count": null,
      "_view_module": "@jupyter-widgets/base",
      "_view_module_version": "1.2.0",
      "_view_name": "LayoutView",
      "align_content": null,
      "align_items": null,
      "align_self": null,
      "border": null,
      "bottom": null,
      "display": null,
      "flex": null,
      "flex_flow": null,
      "grid_area": null,
      "grid_auto_columns": null,
      "grid_auto_flow": null,
      "grid_auto_rows": null,
      "grid_column": null,
      "grid_gap": null,
      "grid_row": null,
      "grid_template_areas": null,
      "grid_template_columns": null,
      "grid_template_rows": null,
      "height": null,
      "justify_content": null,
      "justify_items": null,
      "left": null,
      "margin": null,
      "max_height": null,
      "max_width": null,
      "min_height": null,
      "min_width": null,
      "object_fit": null,
      "object_position": null,
      "order": null,
      "overflow": null,
      "overflow_x": null,
      "overflow_y": null,
      "padding": null,
      "right": null,
      "top": null,
      "visibility": null,
      "width": null
     }
    },
    "ff3dc472dd53414aa7d303612cc013ab": {
     "model_module": "@jupyter-widgets/controls",
     "model_module_version": "1.5.0",
     "model_name": "HTMLModel",
     "state": {
      "_dom_classes": [],
      "_model_module": "@jupyter-widgets/controls",
      "_model_module_version": "1.5.0",
      "_model_name": "HTMLModel",
      "_view_count": null,
      "_view_module": "@jupyter-widgets/controls",
      "_view_module_version": "1.5.0",
      "_view_name": "HTMLView",
      "description": "",
      "description_tooltip": null,
      "layout": "IPY_MODEL_473d389b73ad4594af4705bbef586bef",
      "placeholder": "​",
      "style": "IPY_MODEL_b3e083551c5841b6b095c5f38292059b",
      "value": "100%"
     }
    }
   }
  }
 },
 "nbformat": 4,
 "nbformat_minor": 1
}
